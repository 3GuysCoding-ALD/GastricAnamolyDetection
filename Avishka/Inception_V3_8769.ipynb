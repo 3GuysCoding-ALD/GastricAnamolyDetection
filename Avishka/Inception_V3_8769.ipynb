{
  "nbformat": 4,
  "nbformat_minor": 0,
  "metadata": {
    "colab": {
      "name": "Inception_V3.ipynb",
      "provenance": [],
      "collapsed_sections": []
    },
    "kernelspec": {
      "name": "python3",
      "display_name": "Python 3"
    },
    "accelerator": "GPU"
  },
  "cells": [
    {
      "cell_type": "code",
      "metadata": {
        "colab": {
          "base_uri": "https://localhost:8080/"
        },
        "id": "2FCPLEAqZ6MS",
        "outputId": "16ba760f-0c78-42a7-fbd1-6a339a6bb295"
      },
      "source": [
        "import os\r\n",
        "import cv2\r\n",
        "import zipfile\r\n",
        "import numpy as np\r\n",
        "import tensorflow as tf\r\n",
        "import matplotlib.pyplot as plt\r\n",
        "from tensorflow.keras import applications\r\n",
        "from tensorflow.keras import optimizers\r\n",
        "from sklearn.model_selection import train_test_split\r\n",
        "from google.colab import drive\r\n",
        "drive.mount('/content/drive')"
      ],
      "execution_count": 1,
      "outputs": [
        {
          "output_type": "stream",
          "text": [
            "Mounted at /content/drive\n"
          ],
          "name": "stdout"
        }
      ]
    },
    {
      "cell_type": "code",
      "metadata": {
        "id": "Awt96SbuaINE"
      },
      "source": [
        "dataset_zip_local = '/content/drive/My Drive/kvasir-dataset-v2.zip'\r\n",
        "zip_ref = zipfile.ZipFile(dataset_zip_local, 'r')\r\n",
        "zip_ref.extractall('/tmp')\r\n",
        "zip_ref.close()"
      ],
      "execution_count": 2,
      "outputs": []
    },
    {
      "cell_type": "code",
      "metadata": {
        "id": "tE1Z26bIaKit"
      },
      "source": [
        "dataset_dir='/tmp/kvasir-dataset-v2'\r\n",
        "category_lst=['normal-z-line',\r\n",
        "              'normal-pylorus',\r\n",
        "              'normal-cecum',\r\n",
        "              'esophagitis',\r\n",
        "              'polyps',\r\n",
        "              'ulcerative-colitis',\r\n",
        "              'dyed-lifted-polyps',\r\n",
        "              'dyed-resection-margins']"
      ],
      "execution_count": 3,
      "outputs": []
    },
    {
      "cell_type": "code",
      "metadata": {
        "id": "Urh4IW1aaMFw"
      },
      "source": [
        "def process_dataset(category_lst):\r\n",
        "  X= []\r\n",
        "  Y = []\r\n",
        "  for category in category_lst:\r\n",
        "    category_path = os.path.join(dataset_dir,category)\r\n",
        "    for image in os.listdir(category_path):\r\n",
        "      try:\r\n",
        "        image_path = os.path.join(category_path,image)\r\n",
        "        image_arr = cv2.imread(image_path)\r\n",
        "        resized_image_arr = cv2.resize(image_arr,(224,224))\r\n",
        "        X.append(resized_image_arr)\r\n",
        "        Y.append(category_lst.index(category))\r\n",
        "      except Exception as e:\r\n",
        "        print(e)\r\n",
        "        pass\r\n",
        "  return X,Y"
      ],
      "execution_count": 4,
      "outputs": []
    },
    {
      "cell_type": "code",
      "metadata": {
        "colab": {
          "base_uri": "https://localhost:8080/"
        },
        "id": "7rFLDsyVaOIm",
        "outputId": "fcde3b7f-2671-4c77-d1a9-8ba3f4f49e77"
      },
      "source": [
        "X,Y = process_dataset(category_lst)\r\n",
        "X = np.array(X, dtype=np.float32)\r\n",
        "X /= 255.0\r\n",
        "print(X.shape)"
      ],
      "execution_count": 5,
      "outputs": [
        {
          "output_type": "stream",
          "text": [
            "(8000, 224, 224, 3)\n"
          ],
          "name": "stdout"
        }
      ]
    },
    {
      "cell_type": "code",
      "metadata": {
        "id": "c3UgIoF4aQLe"
      },
      "source": [
        "X_train,X_test,Y_train,Y_test = train_test_split(X,Y,test_size=0.2,random_state=42)\r\n",
        "\r\n",
        "Y_train = tf.keras.utils.to_categorical(Y_train, 8)\r\n",
        "Y_test = tf.keras.utils.to_categorical(Y_test, 8)"
      ],
      "execution_count": 6,
      "outputs": []
    },
    {
      "cell_type": "code",
      "metadata": {
        "colab": {
          "base_uri": "https://localhost:8080/"
        },
        "id": "xxJ-WvG0aSH5",
        "outputId": "63f18df7-11a1-48d0-eb74-6ded3b41f269"
      },
      "source": [
        "pre_trained_model = applications.InceptionV3(weights = \"imagenet\", include_top=False, input_shape = (224, 224, 3))"
      ],
      "execution_count": 7,
      "outputs": [
        {
          "output_type": "stream",
          "text": [
            "Downloading data from https://storage.googleapis.com/tensorflow/keras-applications/inception_v3/inception_v3_weights_tf_dim_ordering_tf_kernels_notop.h5\n",
            "87916544/87910968 [==============================] - 1s 0us/step\n"
          ],
          "name": "stdout"
        }
      ]
    },
    {
      "cell_type": "code",
      "metadata": {
        "id": "I6h9N8JBaUsq"
      },
      "source": [
        "for layer in pre_trained_model.layers[len(pre_trained_model.layers)-10:]:\r\n",
        "    layer.trainable = True\r\n",
        "\r\n",
        "X = pre_trained_model.output\r\n",
        "X = tf.keras.layers.Flatten()(X)\r\n",
        "X = tf.keras.layers.Dense(1024, activation=\"relu\")(X)\r\n",
        "X = tf.keras.layers.Dense(512, activation=\"relu\")(X)\r\n",
        "X = tf.keras.layers.Dropout(0.2)(X)\r\n",
        "\r\n",
        "\r\n",
        "outputs = tf.keras.layers.Dense(8, activation=\"softmax\")(X)   \r\n",
        "model = tf.keras.models.Model(pre_trained_model.input,outputs)\r\n",
        "\r\n",
        "model.compile(loss = \"categorical_crossentropy\",optimizer = optimizers.SGD(lr=0.0001),metrics=[\"accuracy\"])"
      ],
      "execution_count": 8,
      "outputs": []
    },
    {
      "cell_type": "code",
      "metadata": {
        "colab": {
          "base_uri": "https://localhost:8080/"
        },
        "id": "MaLLW_CQaW-p",
        "outputId": "7f477f26-ae1b-43b8-f614-81c300a918b3"
      },
      "source": [
        "hist=model.fit(X_train,Y_train,\r\n",
        "                  batch_size=32,\r\n",
        "                  epochs=50,\r\n",
        "                  verbose=1,\r\n",
        "                  validation_data=(X_test, Y_test))"
      ],
      "execution_count": 9,
      "outputs": [
        {
          "output_type": "stream",
          "text": [
            "Epoch 1/50\n",
            "200/200 [==============================] - 94s 273ms/step - loss: 2.1163 - accuracy: 0.1705 - val_loss: 1.6990 - val_accuracy: 0.3806\n",
            "Epoch 2/50\n",
            "200/200 [==============================] - 55s 276ms/step - loss: 1.7134 - accuracy: 0.3725 - val_loss: 1.3978 - val_accuracy: 0.5381\n",
            "Epoch 3/50\n",
            "200/200 [==============================] - 54s 272ms/step - loss: 1.3738 - accuracy: 0.5309 - val_loss: 1.1774 - val_accuracy: 0.6225\n",
            "Epoch 4/50\n",
            "200/200 [==============================] - 55s 274ms/step - loss: 1.1769 - accuracy: 0.5829 - val_loss: 1.0151 - val_accuracy: 0.6806\n",
            "Epoch 5/50\n",
            "200/200 [==============================] - 55s 273ms/step - loss: 1.0038 - accuracy: 0.6459 - val_loss: 0.8896 - val_accuracy: 0.7163\n",
            "Epoch 6/50\n",
            "200/200 [==============================] - 55s 273ms/step - loss: 0.8888 - accuracy: 0.6790 - val_loss: 0.7996 - val_accuracy: 0.7369\n",
            "Epoch 7/50\n",
            "200/200 [==============================] - 55s 273ms/step - loss: 0.7811 - accuracy: 0.7262 - val_loss: 0.7273 - val_accuracy: 0.7563\n",
            "Epoch 8/50\n",
            "200/200 [==============================] - 54s 272ms/step - loss: 0.7172 - accuracy: 0.7486 - val_loss: 0.6671 - val_accuracy: 0.7831\n",
            "Epoch 9/50\n",
            "200/200 [==============================] - 54s 272ms/step - loss: 0.6511 - accuracy: 0.7716 - val_loss: 0.6235 - val_accuracy: 0.7969\n",
            "Epoch 10/50\n",
            "200/200 [==============================] - 54s 272ms/step - loss: 0.5928 - accuracy: 0.7837 - val_loss: 0.5904 - val_accuracy: 0.8019\n",
            "Epoch 11/50\n",
            "200/200 [==============================] - 54s 273ms/step - loss: 0.5417 - accuracy: 0.8060 - val_loss: 0.5601 - val_accuracy: 0.8106\n",
            "Epoch 12/50\n",
            "200/200 [==============================] - 55s 273ms/step - loss: 0.5039 - accuracy: 0.8270 - val_loss: 0.5364 - val_accuracy: 0.8194\n",
            "Epoch 13/50\n",
            "200/200 [==============================] - 55s 273ms/step - loss: 0.4844 - accuracy: 0.8179 - val_loss: 0.5173 - val_accuracy: 0.8206\n",
            "Epoch 14/50\n",
            "200/200 [==============================] - 55s 273ms/step - loss: 0.4595 - accuracy: 0.8344 - val_loss: 0.4994 - val_accuracy: 0.8244\n",
            "Epoch 15/50\n",
            "200/200 [==============================] - 55s 273ms/step - loss: 0.4098 - accuracy: 0.8567 - val_loss: 0.4821 - val_accuracy: 0.8313\n",
            "Epoch 16/50\n",
            "200/200 [==============================] - 54s 272ms/step - loss: 0.3854 - accuracy: 0.8696 - val_loss: 0.4713 - val_accuracy: 0.8344\n",
            "Epoch 17/50\n",
            "200/200 [==============================] - 55s 273ms/step - loss: 0.3751 - accuracy: 0.8717 - val_loss: 0.4579 - val_accuracy: 0.8356\n",
            "Epoch 18/50\n",
            "200/200 [==============================] - 54s 272ms/step - loss: 0.3693 - accuracy: 0.8710 - val_loss: 0.4485 - val_accuracy: 0.8375\n",
            "Epoch 19/50\n",
            "200/200 [==============================] - 54s 272ms/step - loss: 0.3420 - accuracy: 0.8811 - val_loss: 0.4402 - val_accuracy: 0.8363\n",
            "Epoch 20/50\n",
            "200/200 [==============================] - 54s 273ms/step - loss: 0.3314 - accuracy: 0.8722 - val_loss: 0.4293 - val_accuracy: 0.8431\n",
            "Epoch 21/50\n",
            "200/200 [==============================] - 54s 272ms/step - loss: 0.3180 - accuracy: 0.8838 - val_loss: 0.4249 - val_accuracy: 0.8469\n",
            "Epoch 22/50\n",
            "200/200 [==============================] - 54s 272ms/step - loss: 0.3071 - accuracy: 0.8946 - val_loss: 0.4210 - val_accuracy: 0.8419\n",
            "Epoch 23/50\n",
            "200/200 [==============================] - 54s 273ms/step - loss: 0.2972 - accuracy: 0.8973 - val_loss: 0.4124 - val_accuracy: 0.8481\n",
            "Epoch 24/50\n",
            "200/200 [==============================] - 54s 272ms/step - loss: 0.2797 - accuracy: 0.9041 - val_loss: 0.4101 - val_accuracy: 0.8500\n",
            "Epoch 25/50\n",
            "200/200 [==============================] - 54s 273ms/step - loss: 0.2501 - accuracy: 0.9163 - val_loss: 0.4035 - val_accuracy: 0.8500\n",
            "Epoch 26/50\n",
            "200/200 [==============================] - 54s 273ms/step - loss: 0.2582 - accuracy: 0.9163 - val_loss: 0.4010 - val_accuracy: 0.8531\n",
            "Epoch 27/50\n",
            "200/200 [==============================] - 55s 273ms/step - loss: 0.2416 - accuracy: 0.9201 - val_loss: 0.3985 - val_accuracy: 0.8562\n",
            "Epoch 28/50\n",
            "200/200 [==============================] - 55s 273ms/step - loss: 0.2463 - accuracy: 0.9110 - val_loss: 0.3904 - val_accuracy: 0.8569\n",
            "Epoch 29/50\n",
            "200/200 [==============================] - 55s 273ms/step - loss: 0.2358 - accuracy: 0.9178 - val_loss: 0.3875 - val_accuracy: 0.8587\n",
            "Epoch 30/50\n",
            "200/200 [==============================] - 55s 273ms/step - loss: 0.2214 - accuracy: 0.9227 - val_loss: 0.3831 - val_accuracy: 0.8619\n",
            "Epoch 31/50\n",
            "200/200 [==============================] - 54s 273ms/step - loss: 0.2358 - accuracy: 0.9144 - val_loss: 0.3833 - val_accuracy: 0.8619\n",
            "Epoch 32/50\n",
            "200/200 [==============================] - 54s 272ms/step - loss: 0.2033 - accuracy: 0.9354 - val_loss: 0.3840 - val_accuracy: 0.8600\n",
            "Epoch 33/50\n",
            "200/200 [==============================] - 54s 273ms/step - loss: 0.1942 - accuracy: 0.9359 - val_loss: 0.3808 - val_accuracy: 0.8644\n",
            "Epoch 34/50\n",
            "200/200 [==============================] - 54s 272ms/step - loss: 0.1992 - accuracy: 0.9324 - val_loss: 0.3754 - val_accuracy: 0.8675\n",
            "Epoch 35/50\n",
            "200/200 [==============================] - 55s 273ms/step - loss: 0.1964 - accuracy: 0.9316 - val_loss: 0.3754 - val_accuracy: 0.8687\n",
            "Epoch 36/50\n",
            "200/200 [==============================] - 55s 273ms/step - loss: 0.1797 - accuracy: 0.9390 - val_loss: 0.3729 - val_accuracy: 0.8669\n",
            "Epoch 37/50\n",
            "200/200 [==============================] - 55s 273ms/step - loss: 0.1864 - accuracy: 0.9339 - val_loss: 0.3715 - val_accuracy: 0.8669\n",
            "Epoch 38/50\n",
            "200/200 [==============================] - 55s 273ms/step - loss: 0.1674 - accuracy: 0.9499 - val_loss: 0.3685 - val_accuracy: 0.8681\n",
            "Epoch 39/50\n",
            "200/200 [==============================] - 54s 272ms/step - loss: 0.1648 - accuracy: 0.9466 - val_loss: 0.3683 - val_accuracy: 0.8681\n",
            "Epoch 40/50\n",
            "200/200 [==============================] - 55s 273ms/step - loss: 0.1569 - accuracy: 0.9496 - val_loss: 0.3671 - val_accuracy: 0.8706\n",
            "Epoch 41/50\n",
            "200/200 [==============================] - 54s 273ms/step - loss: 0.1582 - accuracy: 0.9499 - val_loss: 0.3705 - val_accuracy: 0.8662\n",
            "Epoch 42/50\n",
            "200/200 [==============================] - 55s 273ms/step - loss: 0.1538 - accuracy: 0.9476 - val_loss: 0.3682 - val_accuracy: 0.8694\n",
            "Epoch 43/50\n",
            "200/200 [==============================] - 54s 272ms/step - loss: 0.1496 - accuracy: 0.9534 - val_loss: 0.3637 - val_accuracy: 0.8719\n",
            "Epoch 44/50\n",
            "200/200 [==============================] - 54s 272ms/step - loss: 0.1478 - accuracy: 0.9488 - val_loss: 0.3645 - val_accuracy: 0.8712\n",
            "Epoch 45/50\n",
            "200/200 [==============================] - 55s 273ms/step - loss: 0.1396 - accuracy: 0.9527 - val_loss: 0.3646 - val_accuracy: 0.8725\n",
            "Epoch 46/50\n",
            "200/200 [==============================] - 55s 273ms/step - loss: 0.1337 - accuracy: 0.9543 - val_loss: 0.3640 - val_accuracy: 0.8775\n",
            "Epoch 47/50\n",
            "200/200 [==============================] - 54s 272ms/step - loss: 0.1379 - accuracy: 0.9609 - val_loss: 0.3602 - val_accuracy: 0.8781\n",
            "Epoch 48/50\n",
            "200/200 [==============================] - 54s 273ms/step - loss: 0.1237 - accuracy: 0.9643 - val_loss: 0.3595 - val_accuracy: 0.8756\n",
            "Epoch 49/50\n",
            "200/200 [==============================] - 54s 272ms/step - loss: 0.1197 - accuracy: 0.9657 - val_loss: 0.3607 - val_accuracy: 0.8725\n",
            "Epoch 50/50\n",
            "200/200 [==============================] - 54s 273ms/step - loss: 0.1191 - accuracy: 0.9667 - val_loss: 0.3591 - val_accuracy: 0.8769\n"
          ],
          "name": "stdout"
        }
      ]
    },
    {
      "cell_type": "code",
      "metadata": {
        "colab": {
          "base_uri": "https://localhost:8080/",
          "height": 298
        },
        "id": "VWLukeEPaY1F",
        "outputId": "26b03b68-b04b-47f0-fc67-07f7d7bff6e2"
      },
      "source": [
        "model.save('inception-v3-weights.h5')\r\n",
        "\r\n",
        "epochs = range(len(hist.history['accuracy']))\r\n",
        "\r\n",
        "plt.plot(epochs, hist.history['accuracy'] , 'b', label='Training accuracy')\r\n",
        "plt.plot(epochs, hist.history['val_accuracy'] , 'g', label='Validation accuracy')\r\n",
        "\r\n",
        "plt.title('Training Accuracy Vs Validation Accuracy')\r\n",
        "plt.legend(loc=0)\r\n",
        "plt.figure()\r\n",
        "\r\n",
        "\r\n",
        "plt.show()"
      ],
      "execution_count": 10,
      "outputs": [
        {
          "output_type": "display_data",
          "data": {
            "image/png": "[encoded data removed]",
            "text/plain": [
              "<Figure size 432x288 with 1 Axes>"
            ]
          },
          "metadata": {
            "tags": [],
            "needs_background": "light"
          }
        },
        {
          "output_type": "display_data",
          "data": {
            "text/plain": [
              "<Figure size 432x288 with 0 Axes>"
            ]
          },
          "metadata": {
            "tags": []
          }
        }
      ]
    }
  ]
}