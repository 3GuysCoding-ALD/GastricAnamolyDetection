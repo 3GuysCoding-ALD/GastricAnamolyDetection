{
  "nbformat": 4,
  "nbformat_minor": 0,
  "metadata": {
    "colab": {
      "name": "VGG 19-localzip.ipynb",
      "provenance": []
    },
    "kernelspec": {
      "name": "python3",
      "display_name": "Python 3"
    },
    "accelerator": "GPU"
  },
  "cells": [
    {
      "cell_type": "code",
      "metadata": {
        "colab": {
          "base_uri": "https://localhost:8080/"
        },
        "id": "HP8Mr9cW0k9B",
        "outputId": "58ef99ef-5ec0-4d1e-bf84-d50664fe2799"
      },
      "source": [
        "import os\r\n",
        "import cv2\r\n",
        "import zipfile\r\n",
        "import numpy as np\r\n",
        "import tensorflow as tf\r\n",
        "import matplotlib.pyplot as plt\r\n",
        "from tensorflow.keras import applications\r\n",
        "from tensorflow.keras import optimizers\r\n",
        "from sklearn.model_selection import train_test_split\r\n",
        "from google.colab import drive\r\n",
        "drive.mount('/content/drive')"
      ],
      "execution_count": 1,
      "outputs": [
        {
          "output_type": "stream",
          "text": [
            "Drive already mounted at /content/drive; to attempt to forcibly remount, call drive.mount(\"/content/drive\", force_remount=True).\n"
          ],
          "name": "stdout"
        }
      ]
    },
    {
      "cell_type": "code",
      "metadata": {
        "id": "rPaYUcmc01Hp"
      },
      "source": [
        "dataset_zip_local = '/content/drive/My Drive/kvasir-dataset-v2.zip'\r\n",
        "zip_ref = zipfile.ZipFile(dataset_zip_local, 'r')\r\n",
        "zip_ref.extractall('/tmp')\r\n",
        "zip_ref.close()"
      ],
      "execution_count": 2,
      "outputs": []
    },
    {
      "cell_type": "code",
      "metadata": {
        "id": "tKvCPJ1P03GO"
      },
      "source": [
        "dataset_dir='/tmp/kvasir-dataset-v2'\r\n",
        "category_lst=['normal-z-line',\r\n",
        "              'normal-pylorus',\r\n",
        "              'normal-cecum',\r\n",
        "              'esophagitis',\r\n",
        "              'polyps',\r\n",
        "              'ulcerative-colitis',\r\n",
        "              'dyed-lifted-polyps',\r\n",
        "              'dyed-resection-margins']"
      ],
      "execution_count": 3,
      "outputs": []
    },
    {
      "cell_type": "code",
      "metadata": {
        "id": "YNzyLET005uC"
      },
      "source": [
        "def process_dataset(category_lst):\r\n",
        "  X= []\r\n",
        "  Y = []\r\n",
        "  for category in category_lst:\r\n",
        "    category_path = os.path.join(dataset_dir,category)\r\n",
        "    for image in os.listdir(category_path):\r\n",
        "      try:\r\n",
        "        image_path = os.path.join(category_path,image)\r\n",
        "        image_arr = cv2.imread(image_path)\r\n",
        "        resized_image_arr = cv2.resize(image_arr,(224,224))\r\n",
        "        X.append(resized_image_arr)\r\n",
        "        Y.append(category_lst.index(category))\r\n",
        "      except Exception as e:\r\n",
        "        print(e)\r\n",
        "        pass\r\n",
        "  return X,Y"
      ],
      "execution_count": 4,
      "outputs": []
    },
    {
      "cell_type": "code",
      "metadata": {
        "colab": {
          "base_uri": "https://localhost:8080/"
        },
        "id": "LhNioOeU08Gs",
        "outputId": "787466db-31b5-41ae-af29-09eb278639a6"
      },
      "source": [
        "X,Y = process_dataset(category_lst)\r\n",
        "X = np.array(X, dtype=np.float32)\r\n",
        "X /= 255.0\r\n",
        "print(X.shape)"
      ],
      "execution_count": 5,
      "outputs": [
        {
          "output_type": "stream",
          "text": [
            "(8000, 224, 224, 3)\n"
          ],
          "name": "stdout"
        }
      ]
    },
    {
      "cell_type": "code",
      "metadata": {
        "id": "rP0DhbaZ0_dY"
      },
      "source": [
        "X_train,X_test,Y_train,Y_test = train_test_split(X,Y,test_size=0.2,random_state=42)\r\n",
        "\r\n",
        "Y_train = tf.keras.utils.to_categorical(Y_train, 8)\r\n",
        "Y_test = tf.keras.utils.to_categorical(Y_test, 8)"
      ],
      "execution_count": 6,
      "outputs": []
    },
    {
      "cell_type": "code",
      "metadata": {
        "id": "X4YkNDCb1Cax"
      },
      "source": [
        "pre_trained_model = applications.VGG19(weights = \"imagenet\", include_top=False, input_shape = (224, 224, 3))"
      ],
      "execution_count": 7,
      "outputs": []
    },
    {
      "cell_type": "code",
      "metadata": {
        "id": "ue0J2k_B1D91"
      },
      "source": [
        "for layer in pre_trained_model.layers[len(pre_trained_model.layers)-30:]:\r\n",
        "    layer.trainable = True\r\n",
        "\r\n",
        "X = pre_trained_model.output\r\n",
        "X = tf.keras.layers.Flatten()(X)\r\n",
        "X = tf.keras.layers.Dense(1024, activation=\"relu\")(X)\r\n",
        "X = tf.keras.layers.Dense(512, activation=\"relu\")(X)\r\n",
        "X = tf.keras.layers.Dropout(0.3)(X)\r\n",
        "\r\n",
        "\r\n",
        "outputs = tf.keras.layers.Dense(8, activation=\"softmax\")(X)   \r\n",
        "model = tf.keras.models.Model(pre_trained_model.input,outputs)\r\n",
        "\r\n",
        "model.compile(loss = \"categorical_crossentropy\",optimizer = optimizers.SGD(lr=0.0001, momentum=0.9),metrics=[\"accuracy\"])"
      ],
      "execution_count": 8,
      "outputs": []
    },
    {
      "cell_type": "code",
      "metadata": {
        "colab": {
          "base_uri": "https://localhost:8080/"
        },
        "id": "yP4AdbLX1HUP",
        "outputId": "ee877985-7b4f-4dff-bc36-15aa8f5769f5"
      },
      "source": [
        "hist=model.fit(X_train,Y_train,\r\n",
        "                  batch_size=32,\r\n",
        "                  epochs=50,\r\n",
        "                  verbose=1,\r\n",
        "                  validation_data=(X_test, Y_test))"
      ],
      "execution_count": 9,
      "outputs": [
        {
          "output_type": "stream",
          "text": [
            "Epoch 1/50\n",
            "200/200 [==============================] - 156s 570ms/step - loss: 1.6417 - accuracy: 0.3482 - val_loss: 0.5942 - val_accuracy: 0.7663\n",
            "Epoch 2/50\n",
            "200/200 [==============================] - 117s 585ms/step - loss: 0.6399 - accuracy: 0.7361 - val_loss: 0.4313 - val_accuracy: 0.8356\n",
            "Epoch 3/50\n",
            "200/200 [==============================] - 118s 589ms/step - loss: 0.4237 - accuracy: 0.8240 - val_loss: 0.3647 - val_accuracy: 0.8531\n",
            "Epoch 4/50\n",
            "200/200 [==============================] - 118s 588ms/step - loss: 0.3337 - accuracy: 0.8686 - val_loss: 0.3407 - val_accuracy: 0.8619\n",
            "Epoch 5/50\n",
            "200/200 [==============================] - 118s 588ms/step - loss: 0.2718 - accuracy: 0.8983 - val_loss: 0.3712 - val_accuracy: 0.8587\n",
            "Epoch 6/50\n",
            "200/200 [==============================] - 118s 589ms/step - loss: 0.2475 - accuracy: 0.9019 - val_loss: 0.3760 - val_accuracy: 0.8413\n",
            "Epoch 7/50\n",
            "200/200 [==============================] - 118s 589ms/step - loss: 0.2054 - accuracy: 0.9221 - val_loss: 0.3164 - val_accuracy: 0.8756\n",
            "Epoch 8/50\n",
            "200/200 [==============================] - 118s 590ms/step - loss: 0.1727 - accuracy: 0.9348 - val_loss: 0.3224 - val_accuracy: 0.8763\n",
            "Epoch 9/50\n",
            "200/200 [==============================] - 118s 590ms/step - loss: 0.1515 - accuracy: 0.9424 - val_loss: 0.3588 - val_accuracy: 0.8575\n",
            "Epoch 10/50\n",
            "200/200 [==============================] - 118s 589ms/step - loss: 0.1301 - accuracy: 0.9492 - val_loss: 0.3104 - val_accuracy: 0.8775\n",
            "Epoch 11/50\n",
            "200/200 [==============================] - 118s 591ms/step - loss: 0.1103 - accuracy: 0.9602 - val_loss: 0.3373 - val_accuracy: 0.8719\n",
            "Epoch 12/50\n",
            "200/200 [==============================] - 118s 591ms/step - loss: 0.0893 - accuracy: 0.9682 - val_loss: 0.3216 - val_accuracy: 0.8875\n",
            "Epoch 13/50\n",
            "200/200 [==============================] - 118s 590ms/step - loss: 0.0774 - accuracy: 0.9726 - val_loss: 0.3093 - val_accuracy: 0.8863\n",
            "Epoch 14/50\n",
            "200/200 [==============================] - 118s 591ms/step - loss: 0.0682 - accuracy: 0.9725 - val_loss: 0.3802 - val_accuracy: 0.8763\n",
            "Epoch 15/50\n",
            "200/200 [==============================] - 118s 591ms/step - loss: 0.0628 - accuracy: 0.9771 - val_loss: 0.3242 - val_accuracy: 0.8919\n",
            "Epoch 16/50\n",
            "200/200 [==============================] - 118s 591ms/step - loss: 0.0526 - accuracy: 0.9821 - val_loss: 0.4101 - val_accuracy: 0.8737\n",
            "Epoch 17/50\n",
            "200/200 [==============================] - 118s 591ms/step - loss: 0.0491 - accuracy: 0.9845 - val_loss: 0.4291 - val_accuracy: 0.8788\n",
            "Epoch 18/50\n",
            "200/200 [==============================] - 118s 591ms/step - loss: 0.0478 - accuracy: 0.9860 - val_loss: 0.3409 - val_accuracy: 0.8931\n",
            "Epoch 19/50\n",
            "200/200 [==============================] - 118s 590ms/step - loss: 0.0360 - accuracy: 0.9904 - val_loss: 0.3861 - val_accuracy: 0.8900\n",
            "Epoch 20/50\n",
            "200/200 [==============================] - 118s 591ms/step - loss: 0.0221 - accuracy: 0.9927 - val_loss: 0.4052 - val_accuracy: 0.8813\n",
            "Epoch 21/50\n",
            "200/200 [==============================] - 118s 590ms/step - loss: 0.0217 - accuracy: 0.9936 - val_loss: 0.5006 - val_accuracy: 0.8612\n",
            "Epoch 22/50\n",
            "200/200 [==============================] - 118s 591ms/step - loss: 0.0433 - accuracy: 0.9851 - val_loss: 0.4068 - val_accuracy: 0.8850\n",
            "Epoch 23/50\n",
            "200/200 [==============================] - 118s 591ms/step - loss: 0.0183 - accuracy: 0.9934 - val_loss: 0.4082 - val_accuracy: 0.8938\n",
            "Epoch 24/50\n",
            "200/200 [==============================] - 118s 591ms/step - loss: 0.0222 - accuracy: 0.9933 - val_loss: 0.4754 - val_accuracy: 0.8825\n",
            "Epoch 25/50\n",
            "200/200 [==============================] - 118s 592ms/step - loss: 0.0288 - accuracy: 0.9916 - val_loss: 0.4877 - val_accuracy: 0.8763\n",
            "Epoch 26/50\n",
            "200/200 [==============================] - 118s 591ms/step - loss: 0.0179 - accuracy: 0.9962 - val_loss: 0.4425 - val_accuracy: 0.8913\n",
            "Epoch 27/50\n",
            "200/200 [==============================] - 118s 590ms/step - loss: 0.0135 - accuracy: 0.9963 - val_loss: 0.4259 - val_accuracy: 0.8875\n",
            "Epoch 28/50\n",
            "200/200 [==============================] - 118s 591ms/step - loss: 0.0117 - accuracy: 0.9969 - val_loss: 0.4514 - val_accuracy: 0.8988\n",
            "Epoch 29/50\n",
            "200/200 [==============================] - 118s 591ms/step - loss: 0.0101 - accuracy: 0.9974 - val_loss: 0.4306 - val_accuracy: 0.8906\n",
            "Epoch 30/50\n",
            "200/200 [==============================] - 118s 591ms/step - loss: 0.0070 - accuracy: 0.9982 - val_loss: 0.4739 - val_accuracy: 0.8906\n",
            "Epoch 31/50\n",
            "200/200 [==============================] - 118s 590ms/step - loss: 0.0033 - accuracy: 0.9999 - val_loss: 0.5301 - val_accuracy: 0.8844\n",
            "Epoch 32/50\n",
            "200/200 [==============================] - 118s 590ms/step - loss: 0.0030 - accuracy: 0.9999 - val_loss: 0.5276 - val_accuracy: 0.8906\n",
            "Epoch 33/50\n",
            "200/200 [==============================] - 118s 590ms/step - loss: 0.0053 - accuracy: 0.9988 - val_loss: 0.5506 - val_accuracy: 0.8763\n",
            "Epoch 34/50\n",
            "200/200 [==============================] - 118s 591ms/step - loss: 0.0121 - accuracy: 0.9969 - val_loss: 0.4858 - val_accuracy: 0.8856\n",
            "Epoch 35/50\n",
            "200/200 [==============================] - 118s 590ms/step - loss: 0.0046 - accuracy: 0.9995 - val_loss: 0.4638 - val_accuracy: 0.8944\n",
            "Epoch 36/50\n",
            "200/200 [==============================] - 118s 590ms/step - loss: 0.0038 - accuracy: 0.9995 - val_loss: 0.5255 - val_accuracy: 0.8931\n",
            "Epoch 37/50\n",
            "200/200 [==============================] - 118s 591ms/step - loss: 0.0029 - accuracy: 0.9996 - val_loss: 0.5122 - val_accuracy: 0.8956\n",
            "Epoch 38/50\n",
            "200/200 [==============================] - 118s 591ms/step - loss: 0.0060 - accuracy: 0.9986 - val_loss: 0.4983 - val_accuracy: 0.8981\n",
            "Epoch 39/50\n",
            "200/200 [==============================] - 118s 590ms/step - loss: 0.0106 - accuracy: 0.9958 - val_loss: 0.4940 - val_accuracy: 0.8831\n",
            "Epoch 40/50\n",
            "200/200 [==============================] - 118s 590ms/step - loss: 0.0061 - accuracy: 0.9988 - val_loss: 0.5168 - val_accuracy: 0.8850\n",
            "Epoch 41/50\n",
            "200/200 [==============================] - 118s 591ms/step - loss: 0.0039 - accuracy: 0.9992 - val_loss: 0.4656 - val_accuracy: 0.8875\n",
            "Epoch 42/50\n",
            "200/200 [==============================] - 118s 589ms/step - loss: 0.0037 - accuracy: 0.9994 - val_loss: 0.4872 - val_accuracy: 0.8988\n",
            "Epoch 43/50\n",
            "200/200 [==============================] - 118s 591ms/step - loss: 0.0022 - accuracy: 0.9996 - val_loss: 0.5018 - val_accuracy: 0.8925\n",
            "Epoch 44/50\n",
            "200/200 [==============================] - 118s 591ms/step - loss: 0.0307 - accuracy: 0.9916 - val_loss: 0.4711 - val_accuracy: 0.8925\n",
            "Epoch 45/50\n",
            "200/200 [==============================] - 118s 591ms/step - loss: 0.0025 - accuracy: 0.9997 - val_loss: 0.4936 - val_accuracy: 0.8988\n",
            "Epoch 46/50\n",
            "200/200 [==============================] - 118s 590ms/step - loss: 0.0011 - accuracy: 1.0000 - val_loss: 0.5324 - val_accuracy: 0.8956\n",
            "Epoch 47/50\n",
            "200/200 [==============================] - 118s 590ms/step - loss: 0.0031 - accuracy: 0.9993 - val_loss: 0.6489 - val_accuracy: 0.8625\n",
            "Epoch 48/50\n",
            "200/200 [==============================] - 118s 591ms/step - loss: 0.0137 - accuracy: 0.9968 - val_loss: 0.5209 - val_accuracy: 0.8956\n",
            "Epoch 49/50\n",
            "200/200 [==============================] - 118s 591ms/step - loss: 0.0017 - accuracy: 0.9997 - val_loss: 0.5046 - val_accuracy: 0.8944\n",
            "Epoch 50/50\n",
            "200/200 [==============================] - 118s 591ms/step - loss: 0.0045 - accuracy: 0.9987 - val_loss: 0.5244 - val_accuracy: 0.8988\n"
          ],
          "name": "stdout"
        }
      ]
    },
    {
      "cell_type": "code",
      "metadata": {
        "colab": {
          "base_uri": "https://localhost:8080/",
          "height": 298
        },
        "id": "surFDKLt1LHH",
        "outputId": "5f2b73af-8d6f-47de-a922-006c4e9630ff"
      },
      "source": [
        "model.save('vgg-19-weights.h5')\r\n",
        "\r\n",
        "epochs = range(len(hist.history['accuracy']))\r\n",
        "\r\n",
        "plt.plot(epochs, hist.history['accuracy'] , 'b', label='Training accuracy')\r\n",
        "plt.plot(epochs, hist.history['val_accuracy'] , 'g', label='Validation accuracy')\r\n",
        "\r\n",
        "plt.title('Training Accuracy Vs Validation Accuracy')\r\n",
        "plt.legend(loc=0)\r\n",
        "plt.figure()\r\n",
        "\r\n",
        "\r\n",
        "plt.show()"
      ],
      "execution_count": 10,
      "outputs": [
        {
          "output_type": "display_data",
          "data": {
            "image/png": "[encoded data removed]",
            "text/plain": [
              "<Figure size 432x288 with 1 Axes>"
            ]
          },
          "metadata": {
            "tags": [],
            "needs_background": "light"
          }
        },
        {
          "output_type": "display_data",
          "data": {
            "text/plain": [
              "<Figure size 432x288 with 0 Axes>"
            ]
          },
          "metadata": {
            "tags": []
          }
        }
      ]
    }
  ]
}