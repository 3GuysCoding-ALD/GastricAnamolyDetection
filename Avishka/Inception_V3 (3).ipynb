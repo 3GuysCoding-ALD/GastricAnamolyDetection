{
  "nbformat": 4,
  "nbformat_minor": 0,
  "metadata": {
    "colab": {
      "name": "Inception_V3.ipynb",
      "provenance": [],
      "collapsed_sections": []
    },
    "kernelspec": {
      "name": "python3",
      "display_name": "Python 3"
    },
    "accelerator": "GPU"
  },
  "cells": [
    {
      "cell_type": "code",
      "metadata": {
        "colab": {
          "base_uri": "https://localhost:8080/"
        },
        "id": "2FCPLEAqZ6MS",
        "outputId": "faaa40d6-796c-4b64-c441-aff327e337d6"
      },
      "source": [
        "import os\r\n",
        "import cv2\r\n",
        "import zipfile\r\n",
        "import numpy as np\r\n",
        "import tensorflow as tf\r\n",
        "import matplotlib.pyplot as plt\r\n",
        "from tensorflow.keras import applications\r\n",
        "from tensorflow.keras import optimizers\r\n",
        "from sklearn.model_selection import train_test_split\r\n",
        "from google.colab import drive\r\n",
        "drive.mount('/content/drive')"
      ],
      "execution_count": 1,
      "outputs": [
        {
          "output_type": "stream",
          "text": [
            "Drive already mounted at /content/drive; to attempt to forcibly remount, call drive.mount(\"/content/drive\", force_remount=True).\n"
          ],
          "name": "stdout"
        }
      ]
    },
    {
      "cell_type": "code",
      "metadata": {
        "id": "Awt96SbuaINE"
      },
      "source": [
        "dataset_zip_local = '/content/drive/My Drive/kvasir-dataset-v2.zip'\r\n",
        "zip_ref = zipfile.ZipFile(dataset_zip_local, 'r')\r\n",
        "zip_ref.extractall('/tmp')\r\n",
        "zip_ref.close()"
      ],
      "execution_count": 2,
      "outputs": []
    },
    {
      "cell_type": "code",
      "metadata": {
        "id": "tE1Z26bIaKit"
      },
      "source": [
        "dataset_dir='/tmp/kvasir-dataset-v2'\r\n",
        "category_lst=['normal-z-line',\r\n",
        "              'normal-pylorus',\r\n",
        "              'normal-cecum',\r\n",
        "              'esophagitis',\r\n",
        "              'polyps',\r\n",
        "              'ulcerative-colitis',\r\n",
        "              'dyed-lifted-polyps',\r\n",
        "              'dyed-resection-margins']"
      ],
      "execution_count": 3,
      "outputs": []
    },
    {
      "cell_type": "code",
      "metadata": {
        "id": "Urh4IW1aaMFw"
      },
      "source": [
        "def process_dataset(category_lst):\r\n",
        "  X= []\r\n",
        "  Y = []\r\n",
        "  for category in category_lst:\r\n",
        "    category_path = os.path.join(dataset_dir,category)\r\n",
        "    for image in os.listdir(category_path):\r\n",
        "      try:\r\n",
        "        image_path = os.path.join(category_path,image)\r\n",
        "        image_arr = cv2.imread(image_path)\r\n",
        "        resized_image_arr = cv2.resize(image_arr,(224,224))\r\n",
        "        X.append(resized_image_arr)\r\n",
        "        Y.append(category_lst.index(category))\r\n",
        "      except Exception as e:\r\n",
        "        print(e)\r\n",
        "        pass\r\n",
        "  return X,Y"
      ],
      "execution_count": 4,
      "outputs": []
    },
    {
      "cell_type": "code",
      "metadata": {
        "colab": {
          "base_uri": "https://localhost:8080/"
        },
        "id": "7rFLDsyVaOIm",
        "outputId": "0ccd42fb-e51c-496a-8e5a-67c82c76550b"
      },
      "source": [
        "X,Y = process_dataset(category_lst)\r\n",
        "X = np.array(X, dtype=np.float32)\r\n",
        "X /= 255.0\r\n",
        "print(X.shape)"
      ],
      "execution_count": 5,
      "outputs": [
        {
          "output_type": "stream",
          "text": [
            "(8000, 224, 224, 3)\n"
          ],
          "name": "stdout"
        }
      ]
    },
    {
      "cell_type": "code",
      "metadata": {
        "id": "c3UgIoF4aQLe"
      },
      "source": [
        "X_train,X_test,Y_train,Y_test = train_test_split(X,Y,test_size=0.2,random_state=42)\r\n",
        "\r\n",
        "Y_train = tf.keras.utils.to_categorical(Y_train, 8)\r\n",
        "Y_test = tf.keras.utils.to_categorical(Y_test, 8)"
      ],
      "execution_count": 6,
      "outputs": []
    },
    {
      "cell_type": "code",
      "metadata": {
        "id": "xxJ-WvG0aSH5"
      },
      "source": [
        "pre_trained_model = applications.InceptionV3(weights = \"imagenet\", include_top=False, input_shape = (224, 224, 3))"
      ],
      "execution_count": 7,
      "outputs": []
    },
    {
      "cell_type": "code",
      "metadata": {
        "id": "I6h9N8JBaUsq"
      },
      "source": [
        "for layer in pre_trained_model.layers[len(pre_trained_model.layers)-10:]:\r\n",
        "    layer.trainable = True\r\n",
        "\r\n",
        "X = pre_trained_model.output\r\n",
        "X = tf.keras.layers.Flatten()(X)\r\n",
        "X = tf.keras.layers.Dense(1024, activation=\"relu\")(X)\r\n",
        "X = tf.keras.layers.Dropout(0.5)(X)\r\n",
        "X = tf.keras.layers.Dense(1024, activation=\"relu\")(X)\r\n",
        "X = tf.keras.layers.Dropout(0.5)(X)\r\n",
        "\r\n",
        "\r\n",
        "outputs = tf.keras.layers.Dense(8, activation=\"softmax\")(X)   \r\n",
        "model = tf.keras.models.Model(pre_trained_model.input,outputs)\r\n",
        "\r\n",
        "model.compile(loss = \"categorical_crossentropy\",optimizer = optimizers.SGD(lr=0.0001),metrics=[\"accuracy\"])"
      ],
      "execution_count": 8,
      "outputs": []
    },
    {
      "cell_type": "code",
      "metadata": {
        "colab": {
          "base_uri": "https://localhost:8080/"
        },
        "id": "MaLLW_CQaW-p",
        "outputId": "9330079d-1299-4773-b309-55c4dbe96cf2"
      },
      "source": [
        "hist=model.fit(X_train,Y_train,\r\n",
        "                  batch_size=64,\r\n",
        "                  epochs=50,\r\n",
        "                  verbose=1,\r\n",
        "                  validation_data=(X_test, Y_test))"
      ],
      "execution_count": 9,
      "outputs": [
        {
          "output_type": "stream",
          "text": [
            "Epoch 1/50\n",
            "100/100 [==============================] - 93s 520ms/step - loss: 2.6383 - accuracy: 0.1324 - val_loss: 2.0245 - val_accuracy: 0.2194\n",
            "Epoch 2/50\n",
            "100/100 [==============================] - 53s 534ms/step - loss: 2.3412 - accuracy: 0.1764 - val_loss: 1.8671 - val_accuracy: 0.3162\n",
            "Epoch 3/50\n",
            "100/100 [==============================] - 52s 523ms/step - loss: 2.2145 - accuracy: 0.1966 - val_loss: 1.7576 - val_accuracy: 0.3819\n",
            "Epoch 4/50\n",
            "100/100 [==============================] - 53s 527ms/step - loss: 2.0729 - accuracy: 0.2314 - val_loss: 1.6640 - val_accuracy: 0.4256\n",
            "Epoch 5/50\n",
            "100/100 [==============================] - 53s 526ms/step - loss: 1.9535 - accuracy: 0.2673 - val_loss: 1.5756 - val_accuracy: 0.4744\n",
            "Epoch 6/50\n",
            "100/100 [==============================] - 53s 528ms/step - loss: 1.8457 - accuracy: 0.3056 - val_loss: 1.4934 - val_accuracy: 0.5219\n",
            "Epoch 7/50\n",
            "100/100 [==============================] - 53s 528ms/step - loss: 1.7393 - accuracy: 0.3419 - val_loss: 1.4145 - val_accuracy: 0.5531\n",
            "Epoch 8/50\n",
            "100/100 [==============================] - 52s 525ms/step - loss: 1.6448 - accuracy: 0.3768 - val_loss: 1.3386 - val_accuracy: 0.5750\n",
            "Epoch 9/50\n",
            "100/100 [==============================] - 53s 530ms/step - loss: 1.5727 - accuracy: 0.4185 - val_loss: 1.2711 - val_accuracy: 0.6062\n",
            "Epoch 10/50\n",
            "100/100 [==============================] - 53s 527ms/step - loss: 1.4889 - accuracy: 0.4386 - val_loss: 1.2092 - val_accuracy: 0.6244\n",
            "Epoch 11/50\n",
            "100/100 [==============================] - 53s 526ms/step - loss: 1.4375 - accuracy: 0.4605 - val_loss: 1.1514 - val_accuracy: 0.6406\n",
            "Epoch 12/50\n",
            "100/100 [==============================] - 52s 525ms/step - loss: 1.3721 - accuracy: 0.4801 - val_loss: 1.0950 - val_accuracy: 0.6494\n",
            "Epoch 13/50\n",
            "100/100 [==============================] - 52s 524ms/step - loss: 1.3222 - accuracy: 0.5067 - val_loss: 1.0414 - val_accuracy: 0.6706\n",
            "Epoch 14/50\n",
            "100/100 [==============================] - 52s 523ms/step - loss: 1.2522 - accuracy: 0.5253 - val_loss: 0.9946 - val_accuracy: 0.6875\n",
            "Epoch 15/50\n",
            "100/100 [==============================] - 52s 521ms/step - loss: 1.2095 - accuracy: 0.5443 - val_loss: 0.9483 - val_accuracy: 0.6988\n",
            "Epoch 16/50\n",
            "100/100 [==============================] - 52s 522ms/step - loss: 1.1692 - accuracy: 0.5515 - val_loss: 0.9068 - val_accuracy: 0.7100\n",
            "Epoch 17/50\n",
            "100/100 [==============================] - 52s 522ms/step - loss: 1.1183 - accuracy: 0.5740 - val_loss: 0.8688 - val_accuracy: 0.7244\n",
            "Epoch 18/50\n",
            "100/100 [==============================] - 52s 522ms/step - loss: 1.0679 - accuracy: 0.5973 - val_loss: 0.8336 - val_accuracy: 0.7294\n",
            "Epoch 19/50\n",
            "100/100 [==============================] - 52s 520ms/step - loss: 1.0145 - accuracy: 0.6174 - val_loss: 0.8021 - val_accuracy: 0.7350\n",
            "Epoch 20/50\n",
            "100/100 [==============================] - 52s 523ms/step - loss: 0.9721 - accuracy: 0.6262 - val_loss: 0.7746 - val_accuracy: 0.7419\n",
            "Epoch 21/50\n",
            "100/100 [==============================] - 52s 521ms/step - loss: 0.9478 - accuracy: 0.6327 - val_loss: 0.7453 - val_accuracy: 0.7487\n",
            "Epoch 22/50\n",
            "100/100 [==============================] - 52s 523ms/step - loss: 0.9173 - accuracy: 0.6445 - val_loss: 0.7225 - val_accuracy: 0.7556\n",
            "Epoch 23/50\n",
            "100/100 [==============================] - 52s 524ms/step - loss: 0.9039 - accuracy: 0.6562 - val_loss: 0.7011 - val_accuracy: 0.7581\n",
            "Epoch 24/50\n",
            "100/100 [==============================] - 53s 528ms/step - loss: 0.8624 - accuracy: 0.6692 - val_loss: 0.6806 - val_accuracy: 0.7594\n",
            "Epoch 25/50\n",
            "100/100 [==============================] - 53s 526ms/step - loss: 0.8307 - accuracy: 0.6747 - val_loss: 0.6619 - val_accuracy: 0.7669\n",
            "Epoch 26/50\n",
            "100/100 [==============================] - 53s 526ms/step - loss: 0.8189 - accuracy: 0.6977 - val_loss: 0.6439 - val_accuracy: 0.7681\n",
            "Epoch 27/50\n",
            "100/100 [==============================] - 53s 527ms/step - loss: 0.7927 - accuracy: 0.6979 - val_loss: 0.6264 - val_accuracy: 0.7731\n",
            "Epoch 28/50\n",
            "100/100 [==============================] - 52s 524ms/step - loss: 0.7814 - accuracy: 0.6947 - val_loss: 0.6107 - val_accuracy: 0.7788\n",
            "Epoch 29/50\n",
            "100/100 [==============================] - 52s 525ms/step - loss: 0.7509 - accuracy: 0.7028 - val_loss: 0.5961 - val_accuracy: 0.7837\n",
            "Epoch 30/50\n",
            "100/100 [==============================] - 52s 525ms/step - loss: 0.7341 - accuracy: 0.7135 - val_loss: 0.5846 - val_accuracy: 0.7869\n",
            "Epoch 31/50\n",
            "100/100 [==============================] - 53s 527ms/step - loss: 0.7151 - accuracy: 0.7225 - val_loss: 0.5706 - val_accuracy: 0.7944\n",
            "Epoch 32/50\n",
            "100/100 [==============================] - 52s 525ms/step - loss: 0.6670 - accuracy: 0.7452 - val_loss: 0.5605 - val_accuracy: 0.7944\n",
            "Epoch 33/50\n",
            "100/100 [==============================] - 52s 525ms/step - loss: 0.6807 - accuracy: 0.7372 - val_loss: 0.5513 - val_accuracy: 0.7950\n",
            "Epoch 34/50\n",
            "100/100 [==============================] - 52s 523ms/step - loss: 0.6758 - accuracy: 0.7469 - val_loss: 0.5414 - val_accuracy: 0.7975\n",
            "Epoch 35/50\n",
            "100/100 [==============================] - 53s 528ms/step - loss: 0.6544 - accuracy: 0.7452 - val_loss: 0.5337 - val_accuracy: 0.7987\n",
            "Epoch 36/50\n",
            "100/100 [==============================] - 53s 526ms/step - loss: 0.6129 - accuracy: 0.7606 - val_loss: 0.5247 - val_accuracy: 0.8037\n",
            "Epoch 37/50\n",
            "100/100 [==============================] - 52s 525ms/step - loss: 0.6145 - accuracy: 0.7649 - val_loss: 0.5178 - val_accuracy: 0.8044\n",
            "Epoch 38/50\n",
            "100/100 [==============================] - 52s 525ms/step - loss: 0.5932 - accuracy: 0.7700 - val_loss: 0.5092 - val_accuracy: 0.8056\n",
            "Epoch 39/50\n",
            "100/100 [==============================] - 52s 525ms/step - loss: 0.5888 - accuracy: 0.7652 - val_loss: 0.5009 - val_accuracy: 0.8094\n",
            "Epoch 40/50\n",
            "100/100 [==============================] - 53s 526ms/step - loss: 0.5489 - accuracy: 0.7900 - val_loss: 0.4945 - val_accuracy: 0.8112\n",
            "Epoch 41/50\n",
            "100/100 [==============================] - 52s 524ms/step - loss: 0.5552 - accuracy: 0.7776 - val_loss: 0.4878 - val_accuracy: 0.8150\n",
            "Epoch 42/50\n",
            "100/100 [==============================] - 52s 524ms/step - loss: 0.5475 - accuracy: 0.7845 - val_loss: 0.4817 - val_accuracy: 0.8175\n",
            "Epoch 43/50\n",
            "100/100 [==============================] - 53s 526ms/step - loss: 0.5438 - accuracy: 0.7913 - val_loss: 0.4752 - val_accuracy: 0.8200\n",
            "Epoch 44/50\n",
            "100/100 [==============================] - 52s 525ms/step - loss: 0.5361 - accuracy: 0.7916 - val_loss: 0.4719 - val_accuracy: 0.8181\n",
            "Epoch 45/50\n",
            "100/100 [==============================] - 52s 524ms/step - loss: 0.5232 - accuracy: 0.8061 - val_loss: 0.4677 - val_accuracy: 0.8206\n",
            "Epoch 46/50\n",
            "100/100 [==============================] - 53s 526ms/step - loss: 0.4901 - accuracy: 0.8142 - val_loss: 0.4610 - val_accuracy: 0.8188\n",
            "Epoch 47/50\n",
            "100/100 [==============================] - 52s 523ms/step - loss: 0.5042 - accuracy: 0.8062 - val_loss: 0.4556 - val_accuracy: 0.8188\n",
            "Epoch 48/50\n",
            "100/100 [==============================] - 52s 524ms/step - loss: 0.4790 - accuracy: 0.8197 - val_loss: 0.4532 - val_accuracy: 0.8225\n",
            "Epoch 49/50\n",
            "100/100 [==============================] - 53s 526ms/step - loss: 0.4693 - accuracy: 0.8218 - val_loss: 0.4503 - val_accuracy: 0.8219\n",
            "Epoch 50/50\n",
            "100/100 [==============================] - 53s 526ms/step - loss: 0.4673 - accuracy: 0.8137 - val_loss: 0.4451 - val_accuracy: 0.8238\n"
          ],
          "name": "stdout"
        }
      ]
    },
    {
      "cell_type": "code",
      "metadata": {
        "colab": {
          "base_uri": "https://localhost:8080/",
          "height": 298
        },
        "id": "VWLukeEPaY1F",
        "outputId": "fc173740-dfee-4c09-eaef-d00f47beca6f"
      },
      "source": [
        "model.save('inception-v3-weights.h5')\r\n",
        "\r\n",
        "epochs = range(len(hist.history['accuracy']))\r\n",
        "\r\n",
        "plt.plot(epochs, hist.history['accuracy'] , 'b', label='Training accuracy')\r\n",
        "plt.plot(epochs, hist.history['val_accuracy'] , 'g', label='Validation accuracy')\r\n",
        "\r\n",
        "plt.title('Training Accuracy Vs Validation Accuracy')\r\n",
        "plt.legend(loc=0)\r\n",
        "plt.figure()\r\n",
        "\r\n",
        "\r\n",
        "plt.show()"
      ],
      "execution_count": 10,
      "outputs": [
        {
          "output_type": "display_data",
          "data": {
            "image/png": "[encoded data removed]",
            "text/plain": [
              "<Figure size 432x288 with 1 Axes>"
            ]
          },
          "metadata": {
            "tags": [],
            "needs_background": "light"
          }
        },
        {
          "output_type": "display_data",
          "data": {
            "text/plain": [
              "<Figure size 432x288 with 0 Axes>"
            ]
          },
          "metadata": {
            "tags": []
          }
        }
      ]
    }
  ]
}