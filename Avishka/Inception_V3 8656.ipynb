{
  "nbformat": 4,
  "nbformat_minor": 0,
  "metadata": {
    "colab": {
      "name": "Inception_V3.ipynb",
      "provenance": [],
      "collapsed_sections": []
    },
    "kernelspec": {
      "name": "python3",
      "display_name": "Python 3"
    },
    "accelerator": "GPU"
  },
  "cells": [
    {
      "cell_type": "code",
      "metadata": {
        "colab": {
          "base_uri": "https://localhost:8080/"
        },
        "id": "2FCPLEAqZ6MS",
        "outputId": "67960cfb-0bab-4bb4-8d0a-36270810f1ab"
      },
      "source": [
        "import os\r\n",
        "import cv2\r\n",
        "import zipfile\r\n",
        "import numpy as np\r\n",
        "import tensorflow as tf\r\n",
        "import matplotlib.pyplot as plt\r\n",
        "from tensorflow.keras import applications\r\n",
        "from tensorflow.keras import optimizers\r\n",
        "from sklearn.model_selection import train_test_split\r\n",
        "from google.colab import drive\r\n",
        "drive.mount('/content/drive')"
      ],
      "execution_count": 1,
      "outputs": [
        {
          "output_type": "stream",
          "text": [
            "Drive already mounted at /content/drive; to attempt to forcibly remount, call drive.mount(\"/content/drive\", force_remount=True).\n"
          ],
          "name": "stdout"
        }
      ]
    },
    {
      "cell_type": "code",
      "metadata": {
        "id": "Awt96SbuaINE"
      },
      "source": [
        "dataset_zip_local = '/content/drive/My Drive/kvasir-dataset-v2.zip'\r\n",
        "zip_ref = zipfile.ZipFile(dataset_zip_local, 'r')\r\n",
        "zip_ref.extractall('/tmp')\r\n",
        "zip_ref.close()"
      ],
      "execution_count": 2,
      "outputs": []
    },
    {
      "cell_type": "code",
      "metadata": {
        "id": "tE1Z26bIaKit"
      },
      "source": [
        "dataset_dir='/tmp/kvasir-dataset-v2'\r\n",
        "category_lst=['normal-z-line',\r\n",
        "              'normal-pylorus',\r\n",
        "              'normal-cecum',\r\n",
        "              'esophagitis',\r\n",
        "              'polyps',\r\n",
        "              'ulcerative-colitis',\r\n",
        "              'dyed-lifted-polyps',\r\n",
        "              'dyed-resection-margins']"
      ],
      "execution_count": 3,
      "outputs": []
    },
    {
      "cell_type": "code",
      "metadata": {
        "id": "Urh4IW1aaMFw"
      },
      "source": [
        "def process_dataset(category_lst):\r\n",
        "  X= []\r\n",
        "  Y = []\r\n",
        "  for category in category_lst:\r\n",
        "    category_path = os.path.join(dataset_dir,category)\r\n",
        "    for image in os.listdir(category_path):\r\n",
        "      try:\r\n",
        "        image_path = os.path.join(category_path,image)\r\n",
        "        image_arr = cv2.imread(image_path)\r\n",
        "        resized_image_arr = cv2.resize(image_arr,(224,224))\r\n",
        "        X.append(resized_image_arr)\r\n",
        "        Y.append(category_lst.index(category))\r\n",
        "      except Exception as e:\r\n",
        "        print(e)\r\n",
        "        pass\r\n",
        "  return X,Y"
      ],
      "execution_count": 4,
      "outputs": []
    },
    {
      "cell_type": "code",
      "metadata": {
        "colab": {
          "base_uri": "https://localhost:8080/"
        },
        "id": "7rFLDsyVaOIm",
        "outputId": "2d6d89ce-f591-4658-c987-bc81679e6e40"
      },
      "source": [
        "X,Y = process_dataset(category_lst)\r\n",
        "X = np.array(X, dtype=np.float32)\r\n",
        "X /= 255.0\r\n",
        "print(X.shape)"
      ],
      "execution_count": 5,
      "outputs": [
        {
          "output_type": "stream",
          "text": [
            "(8000, 224, 224, 3)\n"
          ],
          "name": "stdout"
        }
      ]
    },
    {
      "cell_type": "code",
      "metadata": {
        "id": "c3UgIoF4aQLe"
      },
      "source": [
        "X_train,X_test,Y_train,Y_test = train_test_split(X,Y,test_size=0.2,random_state=42)\r\n",
        "\r\n",
        "Y_train = tf.keras.utils.to_categorical(Y_train, 8)\r\n",
        "Y_test = tf.keras.utils.to_categorical(Y_test, 8)"
      ],
      "execution_count": 6,
      "outputs": []
    },
    {
      "cell_type": "code",
      "metadata": {
        "id": "xxJ-WvG0aSH5"
      },
      "source": [
        "pre_trained_model = applications.InceptionV3(weights = \"imagenet\", include_top=False, input_shape = (224, 224, 3))"
      ],
      "execution_count": 7,
      "outputs": []
    },
    {
      "cell_type": "code",
      "metadata": {
        "id": "I6h9N8JBaUsq"
      },
      "source": [
        "for layer in pre_trained_model.layers[len(pre_trained_model.layers)-10:]:\r\n",
        "    layer.trainable = True\r\n",
        "\r\n",
        "X = pre_trained_model.output\r\n",
        "X = tf.keras.layers.Flatten()(X)\r\n",
        "X = tf.keras.layers.Dense(1024, activation=\"relu\")(X)\r\n",
        "X = tf.keras.layers.Dense(512, activation=\"relu\")(X)\r\n",
        "X = tf.keras.layers.Dropout(0.1)(X)\r\n",
        "\r\n",
        "\r\n",
        "outputs = tf.keras.layers.Dense(8, activation=\"softmax\")(X)   \r\n",
        "model = tf.keras.models.Model(pre_trained_model.input,outputs)\r\n",
        "\r\n",
        "model.compile(loss = \"categorical_crossentropy\",optimizer = optimizers.SGD(lr=0.0001),metrics=[\"accuracy\"])"
      ],
      "execution_count": 8,
      "outputs": []
    },
    {
      "cell_type": "code",
      "metadata": {
        "colab": {
          "base_uri": "https://localhost:8080/"
        },
        "id": "MaLLW_CQaW-p",
        "outputId": "049a2853-bc92-4254-974c-aa39f0c0b31a"
      },
      "source": [
        "hist=model.fit(X_train,Y_train,\r\n",
        "                  batch_size=32,\r\n",
        "                  epochs=50,\r\n",
        "                  verbose=1,\r\n",
        "                  validation_data=(X_test, Y_test))"
      ],
      "execution_count": 9,
      "outputs": [
        {
          "output_type": "stream",
          "text": [
            "Epoch 1/50\n",
            "200/200 [==============================] - 96s 279ms/step - loss: 2.1428 - accuracy: 0.1824 - val_loss: 1.7205 - val_accuracy: 0.3869\n",
            "Epoch 2/50\n",
            "200/200 [==============================] - 55s 275ms/step - loss: 1.6486 - accuracy: 0.4126 - val_loss: 1.3846 - val_accuracy: 0.5163\n",
            "Epoch 3/50\n",
            "200/200 [==============================] - 55s 275ms/step - loss: 1.3263 - accuracy: 0.5468 - val_loss: 1.1555 - val_accuracy: 0.6112\n",
            "Epoch 4/50\n",
            "200/200 [==============================] - 55s 274ms/step - loss: 1.1055 - accuracy: 0.6324 - val_loss: 0.9914 - val_accuracy: 0.6806\n",
            "Epoch 5/50\n",
            "200/200 [==============================] - 55s 275ms/step - loss: 0.9190 - accuracy: 0.6924 - val_loss: 0.8662 - val_accuracy: 0.7150\n",
            "Epoch 6/50\n",
            "200/200 [==============================] - 55s 275ms/step - loss: 0.8008 - accuracy: 0.7327 - val_loss: 0.7733 - val_accuracy: 0.7425\n",
            "Epoch 7/50\n",
            "200/200 [==============================] - 55s 274ms/step - loss: 0.7091 - accuracy: 0.7595 - val_loss: 0.7060 - val_accuracy: 0.7600\n",
            "Epoch 8/50\n",
            "200/200 [==============================] - 55s 274ms/step - loss: 0.6332 - accuracy: 0.7852 - val_loss: 0.6550 - val_accuracy: 0.7781\n",
            "Epoch 9/50\n",
            "200/200 [==============================] - 55s 275ms/step - loss: 0.5627 - accuracy: 0.8096 - val_loss: 0.6174 - val_accuracy: 0.7875\n",
            "Epoch 10/50\n",
            "200/200 [==============================] - 55s 274ms/step - loss: 0.5353 - accuracy: 0.8128 - val_loss: 0.5831 - val_accuracy: 0.7919\n",
            "Epoch 11/50\n",
            "200/200 [==============================] - 55s 274ms/step - loss: 0.4849 - accuracy: 0.8392 - val_loss: 0.5539 - val_accuracy: 0.8037\n",
            "Epoch 12/50\n",
            "200/200 [==============================] - 55s 274ms/step - loss: 0.4440 - accuracy: 0.8468 - val_loss: 0.5330 - val_accuracy: 0.8094\n",
            "Epoch 13/50\n",
            "200/200 [==============================] - 55s 274ms/step - loss: 0.4148 - accuracy: 0.8583 - val_loss: 0.5112 - val_accuracy: 0.8138\n",
            "Epoch 14/50\n",
            "200/200 [==============================] - 55s 274ms/step - loss: 0.3897 - accuracy: 0.8686 - val_loss: 0.4938 - val_accuracy: 0.8188\n",
            "Epoch 15/50\n",
            "200/200 [==============================] - 55s 274ms/step - loss: 0.3627 - accuracy: 0.8745 - val_loss: 0.4824 - val_accuracy: 0.8250\n",
            "Epoch 16/50\n",
            "200/200 [==============================] - 55s 274ms/step - loss: 0.3400 - accuracy: 0.8817 - val_loss: 0.4702 - val_accuracy: 0.8263\n",
            "Epoch 17/50\n",
            "200/200 [==============================] - 55s 274ms/step - loss: 0.3354 - accuracy: 0.8880 - val_loss: 0.4604 - val_accuracy: 0.8325\n",
            "Epoch 18/50\n",
            "200/200 [==============================] - 55s 274ms/step - loss: 0.3208 - accuracy: 0.8885 - val_loss: 0.4560 - val_accuracy: 0.8288\n",
            "Epoch 19/50\n",
            "200/200 [==============================] - 55s 274ms/step - loss: 0.2912 - accuracy: 0.9025 - val_loss: 0.4460 - val_accuracy: 0.8306\n",
            "Epoch 20/50\n",
            "200/200 [==============================] - 55s 274ms/step - loss: 0.2793 - accuracy: 0.9112 - val_loss: 0.4382 - val_accuracy: 0.8381\n",
            "Epoch 21/50\n",
            "200/200 [==============================] - 55s 275ms/step - loss: 0.2722 - accuracy: 0.9074 - val_loss: 0.4287 - val_accuracy: 0.8400\n",
            "Epoch 22/50\n",
            "200/200 [==============================] - 55s 274ms/step - loss: 0.2636 - accuracy: 0.9102 - val_loss: 0.4244 - val_accuracy: 0.8431\n",
            "Epoch 23/50\n",
            "200/200 [==============================] - 55s 274ms/step - loss: 0.2510 - accuracy: 0.9150 - val_loss: 0.4199 - val_accuracy: 0.8406\n",
            "Epoch 24/50\n",
            "200/200 [==============================] - 55s 274ms/step - loss: 0.2483 - accuracy: 0.9117 - val_loss: 0.4155 - val_accuracy: 0.8462\n",
            "Epoch 25/50\n",
            "200/200 [==============================] - 55s 274ms/step - loss: 0.2255 - accuracy: 0.9274 - val_loss: 0.4149 - val_accuracy: 0.8456\n",
            "Epoch 26/50\n",
            "200/200 [==============================] - 55s 274ms/step - loss: 0.2225 - accuracy: 0.9265 - val_loss: 0.4093 - val_accuracy: 0.8456\n",
            "Epoch 27/50\n",
            "200/200 [==============================] - 55s 274ms/step - loss: 0.2178 - accuracy: 0.9281 - val_loss: 0.4025 - val_accuracy: 0.8525\n",
            "Epoch 28/50\n",
            "200/200 [==============================] - 55s 274ms/step - loss: 0.2144 - accuracy: 0.9278 - val_loss: 0.3990 - val_accuracy: 0.8531\n",
            "Epoch 29/50\n",
            "200/200 [==============================] - 55s 274ms/step - loss: 0.2028 - accuracy: 0.9302 - val_loss: 0.3990 - val_accuracy: 0.8500\n",
            "Epoch 30/50\n",
            "200/200 [==============================] - 55s 274ms/step - loss: 0.1851 - accuracy: 0.9471 - val_loss: 0.3989 - val_accuracy: 0.8444\n",
            "Epoch 31/50\n",
            "200/200 [==============================] - 55s 274ms/step - loss: 0.1877 - accuracy: 0.9429 - val_loss: 0.3943 - val_accuracy: 0.8525\n",
            "Epoch 32/50\n",
            "200/200 [==============================] - 55s 275ms/step - loss: 0.1740 - accuracy: 0.9509 - val_loss: 0.3926 - val_accuracy: 0.8537\n",
            "Epoch 33/50\n",
            "200/200 [==============================] - 55s 274ms/step - loss: 0.1740 - accuracy: 0.9359 - val_loss: 0.3884 - val_accuracy: 0.8531\n",
            "Epoch 34/50\n",
            "200/200 [==============================] - 55s 274ms/step - loss: 0.1642 - accuracy: 0.9510 - val_loss: 0.3901 - val_accuracy: 0.8512\n",
            "Epoch 35/50\n",
            "200/200 [==============================] - 55s 274ms/step - loss: 0.1639 - accuracy: 0.9476 - val_loss: 0.3890 - val_accuracy: 0.8531\n",
            "Epoch 36/50\n",
            "200/200 [==============================] - 55s 274ms/step - loss: 0.1555 - accuracy: 0.9549 - val_loss: 0.3880 - val_accuracy: 0.8512\n",
            "Epoch 37/50\n",
            "200/200 [==============================] - 55s 274ms/step - loss: 0.1477 - accuracy: 0.9587 - val_loss: 0.3868 - val_accuracy: 0.8506\n",
            "Epoch 38/50\n",
            "200/200 [==============================] - 55s 274ms/step - loss: 0.1543 - accuracy: 0.9517 - val_loss: 0.3833 - val_accuracy: 0.8500\n",
            "Epoch 39/50\n",
            "200/200 [==============================] - 55s 274ms/step - loss: 0.1366 - accuracy: 0.9609 - val_loss: 0.3829 - val_accuracy: 0.8544\n",
            "Epoch 40/50\n",
            "200/200 [==============================] - 55s 274ms/step - loss: 0.1303 - accuracy: 0.9621 - val_loss: 0.3820 - val_accuracy: 0.8544\n",
            "Epoch 41/50\n",
            "200/200 [==============================] - 55s 274ms/step - loss: 0.1277 - accuracy: 0.9659 - val_loss: 0.3804 - val_accuracy: 0.8512\n",
            "Epoch 42/50\n",
            "200/200 [==============================] - 55s 275ms/step - loss: 0.1317 - accuracy: 0.9606 - val_loss: 0.3780 - val_accuracy: 0.8537\n",
            "Epoch 43/50\n",
            "200/200 [==============================] - 55s 274ms/step - loss: 0.1260 - accuracy: 0.9676 - val_loss: 0.3783 - val_accuracy: 0.8544\n",
            "Epoch 44/50\n",
            "200/200 [==============================] - 55s 274ms/step - loss: 0.1261 - accuracy: 0.9620 - val_loss: 0.3762 - val_accuracy: 0.8594\n",
            "Epoch 45/50\n",
            "200/200 [==============================] - 55s 274ms/step - loss: 0.1225 - accuracy: 0.9621 - val_loss: 0.3760 - val_accuracy: 0.8594\n",
            "Epoch 46/50\n",
            "200/200 [==============================] - 55s 274ms/step - loss: 0.1155 - accuracy: 0.9684 - val_loss: 0.3748 - val_accuracy: 0.8631\n",
            "Epoch 47/50\n",
            "200/200 [==============================] - 55s 274ms/step - loss: 0.1110 - accuracy: 0.9701 - val_loss: 0.3752 - val_accuracy: 0.8612\n",
            "Epoch 48/50\n",
            "200/200 [==============================] - 55s 274ms/step - loss: 0.1130 - accuracy: 0.9684 - val_loss: 0.3751 - val_accuracy: 0.8631\n",
            "Epoch 49/50\n",
            "200/200 [==============================] - 55s 274ms/step - loss: 0.1015 - accuracy: 0.9742 - val_loss: 0.3756 - val_accuracy: 0.8600\n",
            "Epoch 50/50\n",
            "200/200 [==============================] - 55s 275ms/step - loss: 0.1034 - accuracy: 0.9748 - val_loss: 0.3726 - val_accuracy: 0.8656\n"
          ],
          "name": "stdout"
        }
      ]
    },
    {
      "cell_type": "code",
      "metadata": {
        "colab": {
          "base_uri": "https://localhost:8080/",
          "height": 298
        },
        "id": "VWLukeEPaY1F",
        "outputId": "3fa87b3f-72b5-4e5b-9a92-143e89651449"
      },
      "source": [
        "model.save('inception-v3-weights.h5')\r\n",
        "\r\n",
        "epochs = range(len(hist.history['accuracy']))\r\n",
        "\r\n",
        "plt.plot(epochs, hist.history['accuracy'] , 'b', label='Training accuracy')\r\n",
        "plt.plot(epochs, hist.history['val_accuracy'] , 'g', label='Validation accuracy')\r\n",
        "\r\n",
        "plt.title('Training Accuracy Vs Validation Accuracy')\r\n",
        "plt.legend(loc=0)\r\n",
        "plt.figure()\r\n",
        "\r\n",
        "\r\n",
        "plt.show()"
      ],
      "execution_count": 10,
      "outputs": [
        {
          "output_type": "display_data",
          "data": {
            "image/png": "[encoded data removed]",
            "text/plain": [
              "<Figure size 432x288 with 1 Axes>"
            ]
          },
          "metadata": {
            "tags": [],
            "needs_background": "light"
          }
        },
        {
          "output_type": "display_data",
          "data": {
            "text/plain": [
              "<Figure size 432x288 with 0 Axes>"
            ]
          },
          "metadata": {
            "tags": []
          }
        }
      ]
    }
  ]
}