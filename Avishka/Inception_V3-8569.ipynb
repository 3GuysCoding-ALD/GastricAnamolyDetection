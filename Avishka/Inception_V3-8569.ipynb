{
  "nbformat": 4,
  "nbformat_minor": 0,
  "metadata": {
    "colab": {
      "name": "Inception_V3.ipynb",
      "provenance": [],
      "collapsed_sections": []
    },
    "kernelspec": {
      "name": "python3",
      "display_name": "Python 3"
    },
    "accelerator": "GPU"
  },
  "cells": [
    {
      "cell_type": "code",
      "metadata": {
        "colab": {
          "base_uri": "https://localhost:8080/"
        },
        "id": "2FCPLEAqZ6MS",
        "outputId": "f50a74e3-55ba-4c2c-a8c9-c7ef89649b14"
      },
      "source": [
        "import os\r\n",
        "import cv2\r\n",
        "import zipfile\r\n",
        "import numpy as np\r\n",
        "import tensorflow as tf\r\n",
        "import matplotlib.pyplot as plt\r\n",
        "from tensorflow.keras import applications\r\n",
        "from tensorflow.keras import optimizers\r\n",
        "from sklearn.model_selection import train_test_split\r\n",
        "from google.colab import drive\r\n",
        "drive.mount('/content/drive')"
      ],
      "execution_count": 1,
      "outputs": [
        {
          "output_type": "stream",
          "text": [
            "Drive already mounted at /content/drive; to attempt to forcibly remount, call drive.mount(\"/content/drive\", force_remount=True).\n"
          ],
          "name": "stdout"
        }
      ]
    },
    {
      "cell_type": "code",
      "metadata": {
        "id": "Awt96SbuaINE"
      },
      "source": [
        "dataset_zip_local = '/content/drive/My Drive/kvasir-dataset-v2.zip'\r\n",
        "zip_ref = zipfile.ZipFile(dataset_zip_local, 'r')\r\n",
        "zip_ref.extractall('/tmp')\r\n",
        "zip_ref.close()"
      ],
      "execution_count": 2,
      "outputs": []
    },
    {
      "cell_type": "code",
      "metadata": {
        "id": "tE1Z26bIaKit"
      },
      "source": [
        "dataset_dir='/tmp/kvasir-dataset-v2'\r\n",
        "category_lst=['normal-z-line',\r\n",
        "              'normal-pylorus',\r\n",
        "              'normal-cecum',\r\n",
        "              'esophagitis',\r\n",
        "              'polyps',\r\n",
        "              'ulcerative-colitis',\r\n",
        "              'dyed-lifted-polyps',\r\n",
        "              'dyed-resection-margins']"
      ],
      "execution_count": 3,
      "outputs": []
    },
    {
      "cell_type": "code",
      "metadata": {
        "id": "Urh4IW1aaMFw"
      },
      "source": [
        "def process_dataset(category_lst):\r\n",
        "  X= []\r\n",
        "  Y = []\r\n",
        "  for category in category_lst:\r\n",
        "    category_path = os.path.join(dataset_dir,category)\r\n",
        "    for image in os.listdir(category_path):\r\n",
        "      try:\r\n",
        "        image_path = os.path.join(category_path,image)\r\n",
        "        image_arr = cv2.imread(image_path)\r\n",
        "        resized_image_arr = cv2.resize(image_arr,(224,224))\r\n",
        "        X.append(resized_image_arr)\r\n",
        "        Y.append(category_lst.index(category))\r\n",
        "      except Exception as e:\r\n",
        "        print(e)\r\n",
        "        pass\r\n",
        "  return X,Y"
      ],
      "execution_count": 4,
      "outputs": []
    },
    {
      "cell_type": "code",
      "metadata": {
        "colab": {
          "base_uri": "https://localhost:8080/"
        },
        "id": "7rFLDsyVaOIm",
        "outputId": "3d061e2c-81ad-4d82-c9b1-1643f410f932"
      },
      "source": [
        "X,Y = process_dataset(category_lst)\r\n",
        "X = np.array(X, dtype=np.float32)\r\n",
        "X /= 255.0\r\n",
        "print(X.shape)"
      ],
      "execution_count": 5,
      "outputs": [
        {
          "output_type": "stream",
          "text": [
            "(8000, 224, 224, 3)\n"
          ],
          "name": "stdout"
        }
      ]
    },
    {
      "cell_type": "code",
      "metadata": {
        "id": "c3UgIoF4aQLe"
      },
      "source": [
        "X_train,X_test,Y_train,Y_test = train_test_split(X,Y,test_size=0.2,random_state=42)\r\n",
        "\r\n",
        "Y_train = tf.keras.utils.to_categorical(Y_train, 8)\r\n",
        "Y_test = tf.keras.utils.to_categorical(Y_test, 8)"
      ],
      "execution_count": 6,
      "outputs": []
    },
    {
      "cell_type": "code",
      "metadata": {
        "id": "xxJ-WvG0aSH5"
      },
      "source": [
        "pre_trained_model = applications.InceptionV3(weights = \"imagenet\", include_top=False, input_shape = (224, 224, 3))"
      ],
      "execution_count": 7,
      "outputs": []
    },
    {
      "cell_type": "code",
      "metadata": {
        "id": "I6h9N8JBaUsq"
      },
      "source": [
        "for layer in pre_trained_model.layers[len(pre_trained_model.layers)-10:]:\r\n",
        "    layer.trainable = True\r\n",
        "\r\n",
        "X = pre_trained_model.output\r\n",
        "X = tf.keras.layers.Flatten()(X)\r\n",
        "X = tf.keras.layers.Dense(1024, activation=\"relu\")(X)\r\n",
        "X = tf.keras.layers.Dropout(0.3)(X)\r\n",
        "X = tf.keras.layers.Dense(1024, activation=\"relu\")(X)\r\n",
        "X = tf.keras.layers.Dropout(0.3)(X)\r\n",
        "\r\n",
        "\r\n",
        "outputs = tf.keras.layers.Dense(8, activation=\"softmax\")(X)   \r\n",
        "model = tf.keras.models.Model(pre_trained_model.input,outputs)\r\n",
        "\r\n",
        "model.compile(loss = \"categorical_crossentropy\",optimizer = optimizers.SGD(lr=0.0001,momentum=0.3),metrics=[\"accuracy\"])"
      ],
      "execution_count": 8,
      "outputs": []
    },
    {
      "cell_type": "code",
      "metadata": {
        "colab": {
          "base_uri": "https://localhost:8080/"
        },
        "id": "MaLLW_CQaW-p",
        "outputId": "ca1bea7f-86d7-4f84-cd5c-3e2e136e8177"
      },
      "source": [
        "hist=model.fit(X_train,Y_train,\r\n",
        "                  batch_size=64,\r\n",
        "                  epochs=50,\r\n",
        "                  verbose=1,\r\n",
        "                  validation_data=(X_test, Y_test))"
      ],
      "execution_count": 9,
      "outputs": [
        {
          "output_type": "stream",
          "text": [
            "Epoch 1/50\n",
            "100/100 [==============================] - 95s 534ms/step - loss: 2.3023 - accuracy: 0.1463 - val_loss: 1.9049 - val_accuracy: 0.2750\n",
            "Epoch 2/50\n",
            "100/100 [==============================] - 54s 538ms/step - loss: 2.0014 - accuracy: 0.2229 - val_loss: 1.6728 - val_accuracy: 0.4050\n",
            "Epoch 3/50\n",
            "100/100 [==============================] - 53s 530ms/step - loss: 1.7870 - accuracy: 0.3190 - val_loss: 1.5051 - val_accuracy: 0.4831\n",
            "Epoch 4/50\n",
            "100/100 [==============================] - 53s 533ms/step - loss: 1.6185 - accuracy: 0.4032 - val_loss: 1.3704 - val_accuracy: 0.5456\n",
            "Epoch 5/50\n",
            "100/100 [==============================] - 53s 534ms/step - loss: 1.4876 - accuracy: 0.4572 - val_loss: 1.2461 - val_accuracy: 0.5900\n",
            "Epoch 6/50\n",
            "100/100 [==============================] - 53s 532ms/step - loss: 1.3409 - accuracy: 0.5132 - val_loss: 1.1397 - val_accuracy: 0.6375\n",
            "Epoch 7/50\n",
            "100/100 [==============================] - 53s 533ms/step - loss: 1.2452 - accuracy: 0.5446 - val_loss: 1.0400 - val_accuracy: 0.6719\n",
            "Epoch 8/50\n",
            "100/100 [==============================] - 53s 531ms/step - loss: 1.1399 - accuracy: 0.5918 - val_loss: 0.9576 - val_accuracy: 0.6975\n",
            "Epoch 9/50\n",
            "100/100 [==============================] - 53s 532ms/step - loss: 1.0498 - accuracy: 0.6215 - val_loss: 0.8847 - val_accuracy: 0.7113\n",
            "Epoch 10/50\n",
            "100/100 [==============================] - 53s 534ms/step - loss: 0.9664 - accuracy: 0.6479 - val_loss: 0.8230 - val_accuracy: 0.7331\n",
            "Epoch 11/50\n",
            "100/100 [==============================] - 53s 532ms/step - loss: 0.8900 - accuracy: 0.6881 - val_loss: 0.7683 - val_accuracy: 0.7456\n",
            "Epoch 12/50\n",
            "100/100 [==============================] - 53s 532ms/step - loss: 0.8274 - accuracy: 0.6982 - val_loss: 0.7246 - val_accuracy: 0.7575\n",
            "Epoch 13/50\n",
            "100/100 [==============================] - 53s 533ms/step - loss: 0.7972 - accuracy: 0.7048 - val_loss: 0.6817 - val_accuracy: 0.7669\n",
            "Epoch 14/50\n",
            "100/100 [==============================] - 53s 534ms/step - loss: 0.7374 - accuracy: 0.7355 - val_loss: 0.6499 - val_accuracy: 0.7713\n",
            "Epoch 15/50\n",
            "100/100 [==============================] - 53s 531ms/step - loss: 0.7102 - accuracy: 0.7385 - val_loss: 0.6210 - val_accuracy: 0.7862\n",
            "Epoch 16/50\n",
            "100/100 [==============================] - 53s 532ms/step - loss: 0.6739 - accuracy: 0.7494 - val_loss: 0.5950 - val_accuracy: 0.7912\n",
            "Epoch 17/50\n",
            "100/100 [==============================] - 53s 533ms/step - loss: 0.6401 - accuracy: 0.7626 - val_loss: 0.5740 - val_accuracy: 0.7962\n",
            "Epoch 18/50\n",
            "100/100 [==============================] - 53s 533ms/step - loss: 0.6021 - accuracy: 0.7830 - val_loss: 0.5537 - val_accuracy: 0.8094\n",
            "Epoch 19/50\n",
            "100/100 [==============================] - 53s 533ms/step - loss: 0.5719 - accuracy: 0.7882 - val_loss: 0.5364 - val_accuracy: 0.8125\n",
            "Epoch 20/50\n",
            "100/100 [==============================] - 53s 532ms/step - loss: 0.5708 - accuracy: 0.7802 - val_loss: 0.5204 - val_accuracy: 0.8150\n",
            "Epoch 21/50\n",
            "100/100 [==============================] - 53s 533ms/step - loss: 0.5411 - accuracy: 0.7949 - val_loss: 0.5078 - val_accuracy: 0.8094\n",
            "Epoch 22/50\n",
            "100/100 [==============================] - 53s 532ms/step - loss: 0.4946 - accuracy: 0.8201 - val_loss: 0.4940 - val_accuracy: 0.8200\n",
            "Epoch 23/50\n",
            "100/100 [==============================] - 53s 531ms/step - loss: 0.5012 - accuracy: 0.8108 - val_loss: 0.4825 - val_accuracy: 0.8213\n",
            "Epoch 24/50\n",
            "100/100 [==============================] - 53s 534ms/step - loss: 0.4670 - accuracy: 0.8235 - val_loss: 0.4740 - val_accuracy: 0.8238\n",
            "Epoch 25/50\n",
            "100/100 [==============================] - 53s 533ms/step - loss: 0.4402 - accuracy: 0.8330 - val_loss: 0.4656 - val_accuracy: 0.8231\n",
            "Epoch 26/50\n",
            "100/100 [==============================] - 53s 531ms/step - loss: 0.4386 - accuracy: 0.8326 - val_loss: 0.4553 - val_accuracy: 0.8325\n",
            "Epoch 27/50\n",
            "100/100 [==============================] - 53s 532ms/step - loss: 0.4192 - accuracy: 0.8485 - val_loss: 0.4473 - val_accuracy: 0.8369\n",
            "Epoch 28/50\n",
            "100/100 [==============================] - 53s 532ms/step - loss: 0.4080 - accuracy: 0.8509 - val_loss: 0.4386 - val_accuracy: 0.8375\n",
            "Epoch 29/50\n",
            "100/100 [==============================] - 53s 532ms/step - loss: 0.3923 - accuracy: 0.8514 - val_loss: 0.4323 - val_accuracy: 0.8419\n",
            "Epoch 30/50\n",
            "100/100 [==============================] - 53s 531ms/step - loss: 0.3671 - accuracy: 0.8603 - val_loss: 0.4260 - val_accuracy: 0.8425\n",
            "Epoch 31/50\n",
            "100/100 [==============================] - 53s 532ms/step - loss: 0.3835 - accuracy: 0.8548 - val_loss: 0.4223 - val_accuracy: 0.8456\n",
            "Epoch 32/50\n",
            "100/100 [==============================] - 53s 533ms/step - loss: 0.3529 - accuracy: 0.8725 - val_loss: 0.4169 - val_accuracy: 0.8438\n",
            "Epoch 33/50\n",
            "100/100 [==============================] - 53s 532ms/step - loss: 0.3386 - accuracy: 0.8751 - val_loss: 0.4130 - val_accuracy: 0.8469\n",
            "Epoch 34/50\n",
            "100/100 [==============================] - 53s 532ms/step - loss: 0.3447 - accuracy: 0.8728 - val_loss: 0.4083 - val_accuracy: 0.8469\n",
            "Epoch 35/50\n",
            "100/100 [==============================] - 53s 532ms/step - loss: 0.3365 - accuracy: 0.8726 - val_loss: 0.4068 - val_accuracy: 0.8444\n",
            "Epoch 36/50\n",
            "100/100 [==============================] - 53s 533ms/step - loss: 0.3182 - accuracy: 0.8827 - val_loss: 0.4024 - val_accuracy: 0.8456\n",
            "Epoch 37/50\n",
            "100/100 [==============================] - 53s 533ms/step - loss: 0.3117 - accuracy: 0.8847 - val_loss: 0.3987 - val_accuracy: 0.8506\n",
            "Epoch 38/50\n",
            "100/100 [==============================] - 53s 532ms/step - loss: 0.3020 - accuracy: 0.8889 - val_loss: 0.3969 - val_accuracy: 0.8469\n",
            "Epoch 39/50\n",
            "100/100 [==============================] - 53s 533ms/step - loss: 0.2933 - accuracy: 0.8930 - val_loss: 0.3942 - val_accuracy: 0.8481\n",
            "Epoch 40/50\n",
            "100/100 [==============================] - 53s 533ms/step - loss: 0.2742 - accuracy: 0.9022 - val_loss: 0.3929 - val_accuracy: 0.8512\n",
            "Epoch 41/50\n",
            "100/100 [==============================] - 53s 531ms/step - loss: 0.2803 - accuracy: 0.8987 - val_loss: 0.3878 - val_accuracy: 0.8506\n",
            "Epoch 42/50\n",
            "100/100 [==============================] - 53s 533ms/step - loss: 0.2693 - accuracy: 0.9056 - val_loss: 0.3860 - val_accuracy: 0.8512\n",
            "Epoch 43/50\n",
            "100/100 [==============================] - 53s 532ms/step - loss: 0.2736 - accuracy: 0.9015 - val_loss: 0.3849 - val_accuracy: 0.8519\n",
            "Epoch 44/50\n",
            "100/100 [==============================] - 53s 532ms/step - loss: 0.2523 - accuracy: 0.9067 - val_loss: 0.3809 - val_accuracy: 0.8512\n",
            "Epoch 45/50\n",
            "100/100 [==============================] - 53s 531ms/step - loss: 0.2493 - accuracy: 0.9145 - val_loss: 0.3816 - val_accuracy: 0.8519\n",
            "Epoch 46/50\n",
            "100/100 [==============================] - 53s 530ms/step - loss: 0.2558 - accuracy: 0.9075 - val_loss: 0.3781 - val_accuracy: 0.8544\n",
            "Epoch 47/50\n",
            "100/100 [==============================] - 53s 532ms/step - loss: 0.2339 - accuracy: 0.9191 - val_loss: 0.3783 - val_accuracy: 0.8512\n",
            "Epoch 48/50\n",
            "100/100 [==============================] - 53s 532ms/step - loss: 0.2373 - accuracy: 0.9115 - val_loss: 0.3770 - val_accuracy: 0.8531\n",
            "Epoch 49/50\n",
            "100/100 [==============================] - 53s 531ms/step - loss: 0.2217 - accuracy: 0.9249 - val_loss: 0.3752 - val_accuracy: 0.8525\n",
            "Epoch 50/50\n",
            "100/100 [==============================] - 53s 532ms/step - loss: 0.2276 - accuracy: 0.9197 - val_loss: 0.3738 - val_accuracy: 0.8569\n"
          ],
          "name": "stdout"
        }
      ]
    },
    {
      "cell_type": "code",
      "metadata": {
        "colab": {
          "base_uri": "https://localhost:8080/",
          "height": 298
        },
        "id": "VWLukeEPaY1F",
        "outputId": "e7e5f526-03c1-4036-daef-fa2c01e2bdac"
      },
      "source": [
        "model.save('inception-v3-weights.h5')\r\n",
        "\r\n",
        "epochs = range(len(hist.history['accuracy']))\r\n",
        "\r\n",
        "plt.plot(epochs, hist.history['accuracy'] , 'b', label='Training accuracy')\r\n",
        "plt.plot(epochs, hist.history['val_accuracy'] , 'g', label='Validation accuracy')\r\n",
        "\r\n",
        "plt.title('Training Accuracy Vs Validation Accuracy')\r\n",
        "plt.legend(loc=0)\r\n",
        "plt.figure()\r\n",
        "\r\n",
        "\r\n",
        "plt.show()"
      ],
      "execution_count": 10,
      "outputs": [
        {
          "output_type": "display_data",
          "data": {
            "image/png": "[encoded data removed]",
            "text/plain": [
              "<Figure size 432x288 with 1 Axes>"
            ]
          },
          "metadata": {
            "tags": [],
            "needs_background": "light"
          }
        },
        {
          "output_type": "display_data",
          "data": {
            "text/plain": [
              "<Figure size 432x288 with 0 Axes>"
            ]
          },
          "metadata": {
            "tags": []
          }
        }
      ]
    }
  ]
}