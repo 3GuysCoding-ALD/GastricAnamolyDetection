{
  "nbformat": 4,
  "nbformat_minor": 0,
  "metadata": {
    "colab": {
      "name": "VGG19.ipynb",
      "provenance": []
    },
    "kernelspec": {
      "name": "python3",
      "display_name": "Python 3"
    },
    "accelerator": "GPU"
  },
  "cells": [
    {
      "cell_type": "code",
      "metadata": {
        "id": "_XAL6kVYcYPg"
      },
      "source": [
        "import os\r\n",
        "import cv2\r\n",
        "import zipfile\r\n",
        "import numpy as np\r\n",
        "import tensorflow as tf\r\n",
        "import matplotlib.pyplot as plt\r\n",
        "from tensorflow.keras import applications\r\n",
        "from tensorflow.keras import optimizers\r\n",
        "from sklearn.model_selection import train_test_split"
      ],
      "execution_count": 1,
      "outputs": []
    },
    {
      "cell_type": "code",
      "metadata": {
        "colab": {
          "base_uri": "https://localhost:8080/"
        },
        "id": "oegHX-KBdab9",
        "outputId": "43f79bf4-99a5-44af-a322-9f2a3c06bc7e"
      },
      "source": [
        "!wget --no-check-certificate \\\r\n",
        "  https://datasets.simula.no/kvasir/data/kvasir-dataset-v2.zip\\\r\n",
        "  -O /tmp/kvasir-dataset-v2.zip"
      ],
      "execution_count": 2,
      "outputs": [
        {
          "output_type": "stream",
          "text": [
            "--2021-03-11 19:03:35--  https://datasets.simula.no/kvasir/data/kvasir-dataset-v2.zip\n",
            "Resolving datasets.simula.no (datasets.simula.no)... 128.39.36.14\n",
            "Connecting to datasets.simula.no (datasets.simula.no)|128.39.36.14|:443... connected.\n",
            "HTTP request sent, awaiting response... 200 OK\n",
            "Length: 2489312085 (2.3G) [application/zip]\n",
            "Saving to: ‘/tmp/kvasir-dataset-v2.zip’\n",
            "\n",
            "/tmp/kvasir-dataset 100%[===================>]   2.32G  72.7MB/s    in 32s     \n",
            "\n",
            "2021-03-11 19:04:07 (74.7 MB/s) - ‘/tmp/kvasir-dataset-v2.zip’ saved [2489312085/2489312085]\n",
            "\n"
          ],
          "name": "stdout"
        }
      ]
    },
    {
      "cell_type": "code",
      "metadata": {
        "id": "CmhnRSlWjAiB"
      },
      "source": [
        "dataset_zip_local = '/tmp/kvasir-dataset-v2.zip'\r\n",
        "zip_ref = zipfile.ZipFile(dataset_zip_local, 'r')\r\n",
        "zip_ref.extractall('/tmp')\r\n",
        "zip_ref.close()"
      ],
      "execution_count": 3,
      "outputs": []
    },
    {
      "cell_type": "code",
      "metadata": {
        "id": "FERCiSF_dd3W"
      },
      "source": [
        "dataset_dir='/tmp/kvasir-dataset-v2'\r\n",
        "category_lst=['normal-z-line',\r\n",
        "              'normal-pylorus',\r\n",
        "              'normal-cecum',\r\n",
        "              'esophagitis',\r\n",
        "              'polyps',\r\n",
        "              'ulcerative-colitis',\r\n",
        "              'dyed-lifted-polyps',\r\n",
        "              'dyed-resection-margins']"
      ],
      "execution_count": 4,
      "outputs": []
    },
    {
      "cell_type": "code",
      "metadata": {
        "id": "qj1VuuxQjxaj"
      },
      "source": [
        "def process_dataset(category_lst):\r\n",
        "  X= []\r\n",
        "  Y = []\r\n",
        "  for category in category_lst:\r\n",
        "    category_path = os.path.join(dataset_dir,category)\r\n",
        "    for image in os.listdir(category_path):\r\n",
        "      try:\r\n",
        "        image_path = os.path.join(category_path,image)\r\n",
        "        image_arr = cv2.imread(image_path)\r\n",
        "        resized_image_arr = cv2.resize(image_arr,(224,224))\r\n",
        "        X.append(resized_image_arr)\r\n",
        "        Y.append(category_lst.index(category))\r\n",
        "      except Exception as e:\r\n",
        "        print(e)\r\n",
        "        pass\r\n",
        "  return X,Y"
      ],
      "execution_count": 5,
      "outputs": []
    },
    {
      "cell_type": "code",
      "metadata": {
        "colab": {
          "base_uri": "https://localhost:8080/"
        },
        "id": "tfC7D_4mm2dX",
        "outputId": "3717169d-b2ce-4247-c01a-a9793de791d5"
      },
      "source": [
        "X,Y = process_dataset(category_lst)\r\n",
        "X = np.array(X, dtype=np.float32)\r\n",
        "X /= 255.0\r\n",
        "print(X.shape)"
      ],
      "execution_count": 6,
      "outputs": [
        {
          "output_type": "stream",
          "text": [
            "(8000, 224, 224, 3)\n"
          ],
          "name": "stdout"
        }
      ]
    },
    {
      "cell_type": "code",
      "metadata": {
        "id": "vEq7VAiPvFTd"
      },
      "source": [
        "X_train,X_test,Y_train,Y_test = train_test_split(X,Y,test_size=0.4,random_state=42)\r\n",
        "\r\n",
        "Y_train = tf.keras.utils.to_categorical(Y_train, 8)\r\n",
        "Y_test = tf.keras.utils.to_categorical(Y_test, 8)"
      ],
      "execution_count": 7,
      "outputs": []
    },
    {
      "cell_type": "code",
      "metadata": {
        "id": "v3r72iEz0P8r"
      },
      "source": [
        "pre_trained_model = applications.VGG19(weights = \"imagenet\", include_top=False, input_shape = (224, 224, 3))"
      ],
      "execution_count": 8,
      "outputs": []
    },
    {
      "cell_type": "code",
      "metadata": {
        "id": "Hv1ftdSo0-jQ"
      },
      "source": [
        "for layer in pre_trained_model.layers[len(pre_trained_model.layers)-20:]:\r\n",
        "    layer.trainable = True\r\n",
        "\r\n",
        "X = pre_trained_model.output\r\n",
        "X = tf.keras.layers.Flatten()(X)\r\n",
        "X = tf.keras.layers.Dense(1024, activation=\"relu\")(X)\r\n",
        "X = tf.keras.layers.Dense(512, activation=\"relu\")(X)\r\n",
        "X = tf.keras.layers.Dropout(0.2)(X)\r\n",
        "\r\n",
        "\r\n",
        "outputs = tf.keras.layers.Dense(8, activation=\"softmax\")(X)   \r\n",
        "model = tf.keras.models.Model(pre_trained_model.input,outputs)\r\n",
        "\r\n",
        "model.compile(loss = \"categorical_crossentropy\",optimizer = optimizers.SGD(lr=0.0001, momentum=0.2),metrics=[\"accuracy\"])"
      ],
      "execution_count": 9,
      "outputs": []
    },
    {
      "cell_type": "code",
      "metadata": {
        "colab": {
          "base_uri": "https://localhost:8080/"
        },
        "id": "gQCqzqkD315t",
        "outputId": "20eb62c2-336c-41eb-82b6-aa16e624b070"
      },
      "source": [
        "hist=model.fit(X_train,Y_train,\r\n",
        "                  batch_size=32,\r\n",
        "                  epochs=50,\r\n",
        "                  verbose=1,\r\n",
        "                  validation_data=(X_test, Y_test))"
      ],
      "execution_count": 10,
      "outputs": [
        {
          "output_type": "stream",
          "text": [
            "Epoch 1/50\n",
            "150/150 [==============================] - 215s 1s/step - loss: 2.0828 - accuracy: 0.2102 - val_loss: 1.6584 - val_accuracy: 0.4453\n",
            "Epoch 2/50\n",
            "150/150 [==============================] - 170s 1s/step - loss: 1.5950 - accuracy: 0.4170 - val_loss: 1.3432 - val_accuracy: 0.5253\n",
            "Epoch 3/50\n",
            "150/150 [==============================] - 170s 1s/step - loss: 1.3034 - accuracy: 0.4897 - val_loss: 1.1065 - val_accuracy: 0.5962\n",
            "Epoch 4/50\n",
            "150/150 [==============================] - 170s 1s/step - loss: 1.0773 - accuracy: 0.5812 - val_loss: 0.9196 - val_accuracy: 0.6506\n",
            "Epoch 5/50\n",
            "150/150 [==============================] - 170s 1s/step - loss: 0.9071 - accuracy: 0.6416 - val_loss: 0.7830 - val_accuracy: 0.6981\n",
            "Epoch 6/50\n",
            "150/150 [==============================] - 170s 1s/step - loss: 0.7783 - accuracy: 0.6904 - val_loss: 0.6741 - val_accuracy: 0.7425\n",
            "Epoch 7/50\n",
            "150/150 [==============================] - 170s 1s/step - loss: 0.6536 - accuracy: 0.7364 - val_loss: 0.6140 - val_accuracy: 0.7556\n",
            "Epoch 8/50\n",
            "150/150 [==============================] - 170s 1s/step - loss: 0.5948 - accuracy: 0.7572 - val_loss: 0.5732 - val_accuracy: 0.7641\n",
            "Epoch 9/50\n",
            "150/150 [==============================] - 170s 1s/step - loss: 0.5518 - accuracy: 0.7723 - val_loss: 0.5216 - val_accuracy: 0.7903\n",
            "Epoch 10/50\n",
            "150/150 [==============================] - 170s 1s/step - loss: 0.4932 - accuracy: 0.7997 - val_loss: 0.4895 - val_accuracy: 0.8025\n",
            "Epoch 11/50\n",
            "150/150 [==============================] - 170s 1s/step - loss: 0.4407 - accuracy: 0.8267 - val_loss: 0.4824 - val_accuracy: 0.8069\n",
            "Epoch 12/50\n",
            "150/150 [==============================] - 170s 1s/step - loss: 0.4108 - accuracy: 0.8451 - val_loss: 0.4540 - val_accuracy: 0.8172\n",
            "Epoch 13/50\n",
            "150/150 [==============================] - 170s 1s/step - loss: 0.3791 - accuracy: 0.8465 - val_loss: 0.4396 - val_accuracy: 0.8238\n",
            "Epoch 14/50\n",
            "150/150 [==============================] - 170s 1s/step - loss: 0.3558 - accuracy: 0.8570 - val_loss: 0.4408 - val_accuracy: 0.8216\n",
            "Epoch 15/50\n",
            "150/150 [==============================] - 170s 1s/step - loss: 0.3388 - accuracy: 0.8716 - val_loss: 0.4117 - val_accuracy: 0.8294\n",
            "Epoch 16/50\n",
            "150/150 [==============================] - 170s 1s/step - loss: 0.3065 - accuracy: 0.8832 - val_loss: 0.4443 - val_accuracy: 0.8175\n",
            "Epoch 17/50\n",
            "150/150 [==============================] - 170s 1s/step - loss: 0.3266 - accuracy: 0.8715 - val_loss: 0.4157 - val_accuracy: 0.8350\n",
            "Epoch 18/50\n",
            "150/150 [==============================] - 170s 1s/step - loss: 0.2838 - accuracy: 0.8941 - val_loss: 0.4049 - val_accuracy: 0.8378\n",
            "Epoch 19/50\n",
            "150/150 [==============================] - 170s 1s/step - loss: 0.2627 - accuracy: 0.8950 - val_loss: 0.4029 - val_accuracy: 0.8422\n",
            "Epoch 20/50\n",
            "150/150 [==============================] - 170s 1s/step - loss: 0.2522 - accuracy: 0.9073 - val_loss: 0.3807 - val_accuracy: 0.8487\n",
            "Epoch 21/50\n",
            "150/150 [==============================] - 170s 1s/step - loss: 0.2367 - accuracy: 0.9070 - val_loss: 0.4080 - val_accuracy: 0.8334\n",
            "Epoch 22/50\n",
            "150/150 [==============================] - 170s 1s/step - loss: 0.2151 - accuracy: 0.9138 - val_loss: 0.4109 - val_accuracy: 0.8322\n",
            "Epoch 23/50\n",
            "150/150 [==============================] - 170s 1s/step - loss: 0.2029 - accuracy: 0.9213 - val_loss: 0.3999 - val_accuracy: 0.8363\n",
            "Epoch 24/50\n",
            "150/150 [==============================] - 170s 1s/step - loss: 0.2065 - accuracy: 0.9241 - val_loss: 0.3903 - val_accuracy: 0.8506\n",
            "Epoch 25/50\n",
            "150/150 [==============================] - 170s 1s/step - loss: 0.1908 - accuracy: 0.9263 - val_loss: 0.3900 - val_accuracy: 0.8516\n",
            "Epoch 26/50\n",
            "150/150 [==============================] - 170s 1s/step - loss: 0.1710 - accuracy: 0.9385 - val_loss: 0.3742 - val_accuracy: 0.8569\n",
            "Epoch 27/50\n",
            "150/150 [==============================] - 170s 1s/step - loss: 0.1772 - accuracy: 0.9306 - val_loss: 0.3805 - val_accuracy: 0.8553\n",
            "Epoch 28/50\n",
            "150/150 [==============================] - 170s 1s/step - loss: 0.1635 - accuracy: 0.9369 - val_loss: 0.4217 - val_accuracy: 0.8428\n",
            "Epoch 29/50\n",
            "150/150 [==============================] - 170s 1s/step - loss: 0.1617 - accuracy: 0.9416 - val_loss: 0.3873 - val_accuracy: 0.8547\n",
            "Epoch 30/50\n",
            "150/150 [==============================] - 170s 1s/step - loss: 0.1367 - accuracy: 0.9494 - val_loss: 0.4082 - val_accuracy: 0.8541\n",
            "Epoch 31/50\n",
            "150/150 [==============================] - 170s 1s/step - loss: 0.1371 - accuracy: 0.9433 - val_loss: 0.3858 - val_accuracy: 0.8572\n",
            "Epoch 32/50\n",
            "150/150 [==============================] - 170s 1s/step - loss: 0.1415 - accuracy: 0.9471 - val_loss: 0.3775 - val_accuracy: 0.8581\n",
            "Epoch 33/50\n",
            "150/150 [==============================] - 170s 1s/step - loss: 0.1228 - accuracy: 0.9531 - val_loss: 0.3861 - val_accuracy: 0.8587\n",
            "Epoch 34/50\n",
            "150/150 [==============================] - 170s 1s/step - loss: 0.1234 - accuracy: 0.9500 - val_loss: 0.4177 - val_accuracy: 0.8534\n",
            "Epoch 35/50\n",
            "150/150 [==============================] - 170s 1s/step - loss: 0.1181 - accuracy: 0.9577 - val_loss: 0.4359 - val_accuracy: 0.8494\n",
            "Epoch 36/50\n",
            "150/150 [==============================] - 170s 1s/step - loss: 0.1098 - accuracy: 0.9620 - val_loss: 0.4233 - val_accuracy: 0.8578\n",
            "Epoch 37/50\n",
            "150/150 [==============================] - 170s 1s/step - loss: 0.1123 - accuracy: 0.9590 - val_loss: 0.4061 - val_accuracy: 0.8631\n",
            "Epoch 38/50\n",
            "150/150 [==============================] - 170s 1s/step - loss: 0.0979 - accuracy: 0.9631 - val_loss: 0.4357 - val_accuracy: 0.8491\n",
            "Epoch 39/50\n",
            "150/150 [==============================] - 170s 1s/step - loss: 0.1065 - accuracy: 0.9629 - val_loss: 0.3952 - val_accuracy: 0.8584\n",
            "Epoch 40/50\n",
            "150/150 [==============================] - 170s 1s/step - loss: 0.0910 - accuracy: 0.9704 - val_loss: 0.4183 - val_accuracy: 0.8469\n",
            "Epoch 41/50\n",
            "150/150 [==============================] - 170s 1s/step - loss: 0.0804 - accuracy: 0.9753 - val_loss: 0.4147 - val_accuracy: 0.8534\n",
            "Epoch 42/50\n",
            "150/150 [==============================] - 170s 1s/step - loss: 0.0883 - accuracy: 0.9657 - val_loss: 0.4126 - val_accuracy: 0.8566\n",
            "Epoch 43/50\n",
            "150/150 [==============================] - 170s 1s/step - loss: 0.0804 - accuracy: 0.9746 - val_loss: 0.4072 - val_accuracy: 0.8519\n",
            "Epoch 44/50\n",
            "150/150 [==============================] - 170s 1s/step - loss: 0.0751 - accuracy: 0.9728 - val_loss: 0.4060 - val_accuracy: 0.8584\n",
            "Epoch 45/50\n",
            "150/150 [==============================] - 170s 1s/step - loss: 0.0724 - accuracy: 0.9775 - val_loss: 0.4253 - val_accuracy: 0.8578\n",
            "Epoch 46/50\n",
            "150/150 [==============================] - 170s 1s/step - loss: 0.0686 - accuracy: 0.9745 - val_loss: 0.4111 - val_accuracy: 0.8612\n",
            "Epoch 47/50\n",
            "150/150 [==============================] - 170s 1s/step - loss: 0.0759 - accuracy: 0.9738 - val_loss: 0.4150 - val_accuracy: 0.8625\n",
            "Epoch 48/50\n",
            "150/150 [==============================] - 170s 1s/step - loss: 0.0625 - accuracy: 0.9805 - val_loss: 0.4222 - val_accuracy: 0.8537\n",
            "Epoch 49/50\n",
            "150/150 [==============================] - 170s 1s/step - loss: 0.0664 - accuracy: 0.9763 - val_loss: 0.4381 - val_accuracy: 0.8628\n",
            "Epoch 50/50\n",
            "150/150 [==============================] - 170s 1s/step - loss: 0.0692 - accuracy: 0.9757 - val_loss: 0.4342 - val_accuracy: 0.8616\n"
          ],
          "name": "stdout"
        }
      ]
    },
    {
      "cell_type": "code",
      "metadata": {
        "colab": {
          "base_uri": "https://localhost:8080/",
          "height": 298
        },
        "id": "IsxBH36E4w-C",
        "outputId": "7664c8d5-827f-44b2-ad39-31e9dde9b1dd"
      },
      "source": [
        "model.save('vgg-19-weights.h5')\r\n",
        "\r\n",
        "epochs = range(len(hist.history['accuracy']))\r\n",
        "\r\n",
        "plt.plot(epochs, hist.history['accuracy'] , 'b', label='Training accuracy')\r\n",
        "plt.plot(epochs, hist.history['val_accuracy'] , 'g', label='Validation accuracy')\r\n",
        "\r\n",
        "plt.title('Training Accuracy Vs Validation Accuracy')\r\n",
        "plt.legend(loc=0)\r\n",
        "plt.figure()\r\n",
        "\r\n",
        "\r\n",
        "plt.show()"
      ],
      "execution_count": 11,
      "outputs": [
        {
          "output_type": "display_data",
          "data": {
            "image/png": "[encoded data removed]",
            "text/plain": [
              "<Figure size 432x288 with 1 Axes>"
            ]
          },
          "metadata": {
            "tags": [],
            "needs_background": "light"
          }
        },
        {
          "output_type": "display_data",
          "data": {
            "text/plain": [
              "<Figure size 432x288 with 0 Axes>"
            ]
          },
          "metadata": {
            "tags": []
          }
        }
      ]
    }
  ]
}