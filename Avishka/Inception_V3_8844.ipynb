{
  "nbformat": 4,
  "nbformat_minor": 0,
  "metadata": {
    "colab": {
      "name": "Inception_V3.ipynb",
      "provenance": [],
      "collapsed_sections": []
    },
    "kernelspec": {
      "name": "python3",
      "display_name": "Python 3"
    },
    "accelerator": "GPU"
  },
  "cells": [
    {
      "cell_type": "code",
      "metadata": {
        "colab": {
          "base_uri": "https://localhost:8080/"
        },
        "id": "2FCPLEAqZ6MS",
        "outputId": "3bef9868-0a50-453f-f738-2f358f984894"
      },
      "source": [
        "import os\r\n",
        "import cv2\r\n",
        "import zipfile\r\n",
        "import numpy as np\r\n",
        "import tensorflow as tf\r\n",
        "import matplotlib.pyplot as plt\r\n",
        "from tensorflow.keras import applications\r\n",
        "from tensorflow.keras import optimizers\r\n",
        "from sklearn.model_selection import train_test_split\r\n",
        "from google.colab import drive\r\n",
        "drive.mount('/content/drive')"
      ],
      "execution_count": 1,
      "outputs": [
        {
          "output_type": "stream",
          "text": [
            "Drive already mounted at /content/drive; to attempt to forcibly remount, call drive.mount(\"/content/drive\", force_remount=True).\n"
          ],
          "name": "stdout"
        }
      ]
    },
    {
      "cell_type": "code",
      "metadata": {
        "id": "Awt96SbuaINE"
      },
      "source": [
        "dataset_zip_local = '/content/drive/My Drive/kvasir-dataset-v2.zip'\r\n",
        "zip_ref = zipfile.ZipFile(dataset_zip_local, 'r')\r\n",
        "zip_ref.extractall('/tmp')\r\n",
        "zip_ref.close()"
      ],
      "execution_count": 2,
      "outputs": []
    },
    {
      "cell_type": "code",
      "metadata": {
        "id": "tE1Z26bIaKit"
      },
      "source": [
        "dataset_dir='/tmp/kvasir-dataset-v2'\r\n",
        "category_lst=['normal-z-line',\r\n",
        "              'normal-pylorus',\r\n",
        "              'normal-cecum',\r\n",
        "              'esophagitis',\r\n",
        "              'polyps',\r\n",
        "              'ulcerative-colitis',\r\n",
        "              'dyed-lifted-polyps',\r\n",
        "              'dyed-resection-margins']"
      ],
      "execution_count": 3,
      "outputs": []
    },
    {
      "cell_type": "code",
      "metadata": {
        "id": "Urh4IW1aaMFw"
      },
      "source": [
        "def process_dataset(category_lst):\r\n",
        "  X= []\r\n",
        "  Y = []\r\n",
        "  for category in category_lst:\r\n",
        "    category_path = os.path.join(dataset_dir,category)\r\n",
        "    for image in os.listdir(category_path):\r\n",
        "      try:\r\n",
        "        image_path = os.path.join(category_path,image)\r\n",
        "        image_arr = cv2.imread(image_path)\r\n",
        "        resized_image_arr = cv2.resize(image_arr,(224,224))\r\n",
        "        X.append(resized_image_arr)\r\n",
        "        Y.append(category_lst.index(category))\r\n",
        "      except Exception as e:\r\n",
        "        print(e)\r\n",
        "        pass\r\n",
        "  return X,Y"
      ],
      "execution_count": 4,
      "outputs": []
    },
    {
      "cell_type": "code",
      "metadata": {
        "colab": {
          "base_uri": "https://localhost:8080/"
        },
        "id": "7rFLDsyVaOIm",
        "outputId": "0eef711d-89c0-49fa-802e-afb6ce792802"
      },
      "source": [
        "X,Y = process_dataset(category_lst)\r\n",
        "X = np.array(X, dtype=np.float32)\r\n",
        "X /= 255.0\r\n",
        "print(X.shape)"
      ],
      "execution_count": 5,
      "outputs": [
        {
          "output_type": "stream",
          "text": [
            "(8000, 224, 224, 3)\n"
          ],
          "name": "stdout"
        }
      ]
    },
    {
      "cell_type": "code",
      "metadata": {
        "id": "c3UgIoF4aQLe"
      },
      "source": [
        "X_train,X_test,Y_train,Y_test = train_test_split(X,Y,test_size=0.2,random_state=42)\r\n",
        "\r\n",
        "Y_train = tf.keras.utils.to_categorical(Y_train, 8)\r\n",
        "Y_test = tf.keras.utils.to_categorical(Y_test, 8)"
      ],
      "execution_count": 6,
      "outputs": []
    },
    {
      "cell_type": "code",
      "metadata": {
        "id": "xxJ-WvG0aSH5"
      },
      "source": [
        "pre_trained_model = applications.InceptionV3(weights = \"imagenet\", include_top=False, input_shape = (224, 224, 3))"
      ],
      "execution_count": 7,
      "outputs": []
    },
    {
      "cell_type": "code",
      "metadata": {
        "id": "I6h9N8JBaUsq"
      },
      "source": [
        "for layer in pre_trained_model.layers[len(pre_trained_model.layers)-10:]:\r\n",
        "    layer.trainable = True\r\n",
        "\r\n",
        "X = pre_trained_model.output\r\n",
        "X = tf.keras.layers.Flatten()(X)\r\n",
        "X = tf.keras.layers.Dense(1024, activation=\"relu\")(X)\r\n",
        "X = tf.keras.layers.Dense(512, activation=\"relu\")(X)\r\n",
        "X = tf.keras.layers.Dropout(0.7)(X)\r\n",
        "\r\n",
        "\r\n",
        "outputs = tf.keras.layers.Dense(8, activation=\"softmax\")(X)   \r\n",
        "model = tf.keras.models.Model(pre_trained_model.input,outputs)\r\n",
        "\r\n",
        "model.compile(loss = \"categorical_crossentropy\",optimizer = optimizers.SGD(lr=0.0001, momentum=0.9),metrics=[\"accuracy\"])"
      ],
      "execution_count": 8,
      "outputs": []
    },
    {
      "cell_type": "code",
      "metadata": {
        "colab": {
          "base_uri": "https://localhost:8080/"
        },
        "id": "MaLLW_CQaW-p",
        "outputId": "c65d5a28-b746-45de-fcfc-11303fd32b56"
      },
      "source": [
        "hist=model.fit(X_train,Y_train,\r\n",
        "                  batch_size=32,\r\n",
        "                  epochs=50,\r\n",
        "                  verbose=1,\r\n",
        "                  validation_data=(X_test, Y_test))"
      ],
      "execution_count": 9,
      "outputs": [
        {
          "output_type": "stream",
          "text": [
            "Epoch 1/50\n",
            "200/200 [==============================] - 96s 277ms/step - loss: 2.0841 - accuracy: 0.2564 - val_loss: 0.7856 - val_accuracy: 0.7381\n",
            "Epoch 2/50\n",
            "200/200 [==============================] - 55s 277ms/step - loss: 0.8647 - accuracy: 0.6748 - val_loss: 0.4752 - val_accuracy: 0.8313\n",
            "Epoch 3/50\n",
            "200/200 [==============================] - 55s 276ms/step - loss: 0.5578 - accuracy: 0.7827 - val_loss: 0.3881 - val_accuracy: 0.8650\n",
            "Epoch 4/50\n",
            "200/200 [==============================] - 55s 275ms/step - loss: 0.4151 - accuracy: 0.8440 - val_loss: 0.3717 - val_accuracy: 0.8600\n",
            "Epoch 5/50\n",
            "200/200 [==============================] - 55s 276ms/step - loss: 0.3160 - accuracy: 0.8794 - val_loss: 0.3554 - val_accuracy: 0.8569\n",
            "Epoch 6/50\n",
            "200/200 [==============================] - 55s 276ms/step - loss: 0.2627 - accuracy: 0.8978 - val_loss: 0.3350 - val_accuracy: 0.8788\n",
            "Epoch 7/50\n",
            "200/200 [==============================] - 55s 276ms/step - loss: 0.2274 - accuracy: 0.9157 - val_loss: 0.3268 - val_accuracy: 0.8825\n",
            "Epoch 8/50\n",
            "200/200 [==============================] - 55s 276ms/step - loss: 0.1753 - accuracy: 0.9355 - val_loss: 0.3542 - val_accuracy: 0.8763\n",
            "Epoch 9/50\n",
            "200/200 [==============================] - 55s 276ms/step - loss: 0.1514 - accuracy: 0.9473 - val_loss: 0.3434 - val_accuracy: 0.8806\n",
            "Epoch 10/50\n",
            "200/200 [==============================] - 55s 276ms/step - loss: 0.1371 - accuracy: 0.9517 - val_loss: 0.3522 - val_accuracy: 0.8906\n",
            "Epoch 11/50\n",
            "200/200 [==============================] - 55s 276ms/step - loss: 0.1072 - accuracy: 0.9624 - val_loss: 0.3632 - val_accuracy: 0.8819\n",
            "Epoch 12/50\n",
            "200/200 [==============================] - 55s 275ms/step - loss: 0.0990 - accuracy: 0.9658 - val_loss: 0.3644 - val_accuracy: 0.8869\n",
            "Epoch 13/50\n",
            "200/200 [==============================] - 55s 276ms/step - loss: 0.0778 - accuracy: 0.9745 - val_loss: 0.3731 - val_accuracy: 0.8844\n",
            "Epoch 14/50\n",
            "200/200 [==============================] - 55s 276ms/step - loss: 0.0701 - accuracy: 0.9773 - val_loss: 0.3923 - val_accuracy: 0.8794\n",
            "Epoch 15/50\n",
            "200/200 [==============================] - 55s 276ms/step - loss: 0.0502 - accuracy: 0.9862 - val_loss: 0.4050 - val_accuracy: 0.8838\n",
            "Epoch 16/50\n",
            "200/200 [==============================] - 55s 276ms/step - loss: 0.0508 - accuracy: 0.9835 - val_loss: 0.4196 - val_accuracy: 0.8813\n",
            "Epoch 17/50\n",
            "200/200 [==============================] - 55s 276ms/step - loss: 0.0450 - accuracy: 0.9878 - val_loss: 0.4227 - val_accuracy: 0.8850\n",
            "Epoch 18/50\n",
            "200/200 [==============================] - 55s 276ms/step - loss: 0.0367 - accuracy: 0.9879 - val_loss: 0.4252 - val_accuracy: 0.8813\n",
            "Epoch 19/50\n",
            "200/200 [==============================] - 55s 276ms/step - loss: 0.0360 - accuracy: 0.9876 - val_loss: 0.4329 - val_accuracy: 0.8813\n",
            "Epoch 20/50\n",
            "200/200 [==============================] - 55s 275ms/step - loss: 0.0408 - accuracy: 0.9884 - val_loss: 0.4387 - val_accuracy: 0.8869\n",
            "Epoch 21/50\n",
            "200/200 [==============================] - 55s 276ms/step - loss: 0.0249 - accuracy: 0.9937 - val_loss: 0.4443 - val_accuracy: 0.8875\n",
            "Epoch 22/50\n",
            "200/200 [==============================] - 55s 276ms/step - loss: 0.0333 - accuracy: 0.9911 - val_loss: 0.4503 - val_accuracy: 0.8850\n",
            "Epoch 23/50\n",
            "200/200 [==============================] - 55s 275ms/step - loss: 0.0245 - accuracy: 0.9939 - val_loss: 0.4623 - val_accuracy: 0.8800\n",
            "Epoch 24/50\n",
            "200/200 [==============================] - 55s 276ms/step - loss: 0.0203 - accuracy: 0.9940 - val_loss: 0.4707 - val_accuracy: 0.8794\n",
            "Epoch 25/50\n",
            "200/200 [==============================] - 55s 276ms/step - loss: 0.0188 - accuracy: 0.9947 - val_loss: 0.4858 - val_accuracy: 0.8800\n",
            "Epoch 26/50\n",
            "200/200 [==============================] - 55s 275ms/step - loss: 0.0195 - accuracy: 0.9951 - val_loss: 0.4885 - val_accuracy: 0.8781\n",
            "Epoch 27/50\n",
            "200/200 [==============================] - 55s 276ms/step - loss: 0.0173 - accuracy: 0.9963 - val_loss: 0.5174 - val_accuracy: 0.8756\n",
            "Epoch 28/50\n",
            "200/200 [==============================] - 55s 276ms/step - loss: 0.0155 - accuracy: 0.9958 - val_loss: 0.5114 - val_accuracy: 0.8819\n",
            "Epoch 29/50\n",
            "200/200 [==============================] - 55s 276ms/step - loss: 0.0107 - accuracy: 0.9980 - val_loss: 0.5015 - val_accuracy: 0.8831\n",
            "Epoch 30/50\n",
            "200/200 [==============================] - 55s 276ms/step - loss: 0.0148 - accuracy: 0.9967 - val_loss: 0.4999 - val_accuracy: 0.8838\n",
            "Epoch 31/50\n",
            "200/200 [==============================] - 55s 276ms/step - loss: 0.0127 - accuracy: 0.9972 - val_loss: 0.5291 - val_accuracy: 0.8800\n",
            "Epoch 32/50\n",
            "200/200 [==============================] - 55s 276ms/step - loss: 0.0136 - accuracy: 0.9973 - val_loss: 0.5369 - val_accuracy: 0.8819\n",
            "Epoch 33/50\n",
            "200/200 [==============================] - 55s 276ms/step - loss: 0.0169 - accuracy: 0.9942 - val_loss: 0.5126 - val_accuracy: 0.8875\n",
            "Epoch 34/50\n",
            "200/200 [==============================] - 55s 276ms/step - loss: 0.0098 - accuracy: 0.9975 - val_loss: 0.5117 - val_accuracy: 0.8850\n",
            "Epoch 35/50\n",
            "200/200 [==============================] - 55s 276ms/step - loss: 0.0132 - accuracy: 0.9960 - val_loss: 0.5344 - val_accuracy: 0.8813\n",
            "Epoch 36/50\n",
            "200/200 [==============================] - 55s 276ms/step - loss: 0.0110 - accuracy: 0.9970 - val_loss: 0.5312 - val_accuracy: 0.8838\n",
            "Epoch 37/50\n",
            "200/200 [==============================] - 55s 275ms/step - loss: 0.0074 - accuracy: 0.9990 - val_loss: 0.5409 - val_accuracy: 0.8869\n",
            "Epoch 38/50\n",
            "200/200 [==============================] - 55s 276ms/step - loss: 0.0100 - accuracy: 0.9975 - val_loss: 0.5429 - val_accuracy: 0.8900\n",
            "Epoch 39/50\n",
            "200/200 [==============================] - 55s 276ms/step - loss: 0.0111 - accuracy: 0.9964 - val_loss: 0.5552 - val_accuracy: 0.8875\n",
            "Epoch 40/50\n",
            "200/200 [==============================] - 55s 276ms/step - loss: 0.0114 - accuracy: 0.9964 - val_loss: 0.5454 - val_accuracy: 0.8819\n",
            "Epoch 41/50\n",
            "200/200 [==============================] - 55s 276ms/step - loss: 0.0144 - accuracy: 0.9970 - val_loss: 0.5565 - val_accuracy: 0.8813\n",
            "Epoch 42/50\n",
            "200/200 [==============================] - 55s 276ms/step - loss: 0.0074 - accuracy: 0.9987 - val_loss: 0.5644 - val_accuracy: 0.8844\n",
            "Epoch 43/50\n",
            "200/200 [==============================] - 55s 276ms/step - loss: 0.0067 - accuracy: 0.9984 - val_loss: 0.5715 - val_accuracy: 0.8825\n",
            "Epoch 44/50\n",
            "200/200 [==============================] - 55s 276ms/step - loss: 0.0088 - accuracy: 0.9973 - val_loss: 0.5689 - val_accuracy: 0.8838\n",
            "Epoch 45/50\n",
            "200/200 [==============================] - 55s 276ms/step - loss: 0.0113 - accuracy: 0.9965 - val_loss: 0.5645 - val_accuracy: 0.8856\n",
            "Epoch 46/50\n",
            "200/200 [==============================] - 55s 276ms/step - loss: 0.0070 - accuracy: 0.9974 - val_loss: 0.5782 - val_accuracy: 0.8831\n",
            "Epoch 47/50\n",
            "200/200 [==============================] - 55s 276ms/step - loss: 0.0081 - accuracy: 0.9979 - val_loss: 0.5778 - val_accuracy: 0.8844\n",
            "Epoch 48/50\n",
            "200/200 [==============================] - 55s 276ms/step - loss: 0.0069 - accuracy: 0.9988 - val_loss: 0.6071 - val_accuracy: 0.8825\n",
            "Epoch 49/50\n",
            "200/200 [==============================] - 55s 276ms/step - loss: 0.0066 - accuracy: 0.9973 - val_loss: 0.5949 - val_accuracy: 0.8838\n",
            "Epoch 50/50\n",
            "200/200 [==============================] - 55s 276ms/step - loss: 0.0068 - accuracy: 0.9976 - val_loss: 0.5885 - val_accuracy: 0.8844\n"
          ],
          "name": "stdout"
        }
      ]
    },
    {
      "cell_type": "code",
      "metadata": {
        "colab": {
          "base_uri": "https://localhost:8080/",
          "height": 298
        },
        "id": "VWLukeEPaY1F",
        "outputId": "8820ab0b-9d83-4919-e397-fc1144df4310"
      },
      "source": [
        "model.save('inception-v3-weights.h5')\r\n",
        "\r\n",
        "epochs = range(len(hist.history['accuracy']))\r\n",
        "\r\n",
        "plt.plot(epochs, hist.history['accuracy'] , 'b', label='Training accuracy')\r\n",
        "plt.plot(epochs, hist.history['val_accuracy'] , 'g', label='Validation accuracy')\r\n",
        "\r\n",
        "plt.title('Training Accuracy Vs Validation Accuracy')\r\n",
        "plt.legend(loc=0)\r\n",
        "plt.figure()\r\n",
        "\r\n",
        "\r\n",
        "plt.show()"
      ],
      "execution_count": 10,
      "outputs": [
        {
          "output_type": "display_data",
          "data": {
            "image/png": "[encoded data removed]",
            "text/plain": [
              "<Figure size 432x288 with 1 Axes>"
            ]
          },
          "metadata": {
            "tags": [],
            "needs_background": "light"
          }
        },
        {
          "output_type": "display_data",
          "data": {
            "text/plain": [
              "<Figure size 432x288 with 0 Axes>"
            ]
          },
          "metadata": {
            "tags": []
          }
        }
      ]
    }
  ]
}