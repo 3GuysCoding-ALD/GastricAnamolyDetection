{
  "nbformat": 4,
  "nbformat_minor": 0,
  "metadata": {
    "colab": {
      "name": "Inception_V3.ipynb",
      "provenance": [],
      "collapsed_sections": []
    },
    "kernelspec": {
      "name": "python3",
      "display_name": "Python 3"
    },
    "accelerator": "GPU"
  },
  "cells": [
    {
      "cell_type": "code",
      "metadata": {
        "colab": {
          "base_uri": "https://localhost:8080/"
        },
        "id": "2FCPLEAqZ6MS",
        "outputId": "8a742fb8-e577-4097-b3cc-f47486ce44ef"
      },
      "source": [
        "import os\r\n",
        "import cv2\r\n",
        "import zipfile\r\n",
        "import numpy as np\r\n",
        "import tensorflow as tf\r\n",
        "import matplotlib.pyplot as plt\r\n",
        "from tensorflow.keras import applications\r\n",
        "from tensorflow.keras import optimizers\r\n",
        "from sklearn.model_selection import train_test_split\r\n",
        "from google.colab import drive\r\n",
        "drive.mount('/content/drive')"
      ],
      "execution_count": 1,
      "outputs": [
        {
          "output_type": "stream",
          "text": [
            "Drive already mounted at /content/drive; to attempt to forcibly remount, call drive.mount(\"/content/drive\", force_remount=True).\n"
          ],
          "name": "stdout"
        }
      ]
    },
    {
      "cell_type": "code",
      "metadata": {
        "id": "Awt96SbuaINE"
      },
      "source": [
        "dataset_zip_local = '/content/drive/My Drive/kvasir-dataset-v2.zip'\r\n",
        "zip_ref = zipfile.ZipFile(dataset_zip_local, 'r')\r\n",
        "zip_ref.extractall('/tmp')\r\n",
        "zip_ref.close()"
      ],
      "execution_count": 2,
      "outputs": []
    },
    {
      "cell_type": "code",
      "metadata": {
        "id": "tE1Z26bIaKit"
      },
      "source": [
        "dataset_dir='/tmp/kvasir-dataset-v2'\r\n",
        "category_lst=['normal-z-line',\r\n",
        "              'normal-pylorus',\r\n",
        "              'normal-cecum',\r\n",
        "              'esophagitis',\r\n",
        "              'polyps',\r\n",
        "              'ulcerative-colitis',\r\n",
        "              'dyed-lifted-polyps',\r\n",
        "              'dyed-resection-margins']"
      ],
      "execution_count": 3,
      "outputs": []
    },
    {
      "cell_type": "code",
      "metadata": {
        "id": "Urh4IW1aaMFw"
      },
      "source": [
        "def process_dataset(category_lst):\r\n",
        "  X= []\r\n",
        "  Y = []\r\n",
        "  for category in category_lst:\r\n",
        "    category_path = os.path.join(dataset_dir,category)\r\n",
        "    for image in os.listdir(category_path):\r\n",
        "      try:\r\n",
        "        image_path = os.path.join(category_path,image)\r\n",
        "        image_arr = cv2.imread(image_path)\r\n",
        "        resized_image_arr = cv2.resize(image_arr,(224,224))\r\n",
        "        X.append(resized_image_arr)\r\n",
        "        Y.append(category_lst.index(category))\r\n",
        "      except Exception as e:\r\n",
        "        print(e)\r\n",
        "        pass\r\n",
        "  return X,Y"
      ],
      "execution_count": 4,
      "outputs": []
    },
    {
      "cell_type": "code",
      "metadata": {
        "colab": {
          "base_uri": "https://localhost:8080/"
        },
        "id": "7rFLDsyVaOIm",
        "outputId": "02b356ec-cf1c-4e31-e1ac-e1d5cc59eb92"
      },
      "source": [
        "X,Y = process_dataset(category_lst)\r\n",
        "X = np.array(X, dtype=np.float32)\r\n",
        "X /= 255.0\r\n",
        "print(X.shape)"
      ],
      "execution_count": 5,
      "outputs": [
        {
          "output_type": "stream",
          "text": [
            "(8000, 224, 224, 3)\n"
          ],
          "name": "stdout"
        }
      ]
    },
    {
      "cell_type": "code",
      "metadata": {
        "id": "c3UgIoF4aQLe"
      },
      "source": [
        "X_train,X_test,Y_train,Y_test = train_test_split(X,Y,test_size=0.2,random_state=42)\r\n",
        "\r\n",
        "Y_train = tf.keras.utils.to_categorical(Y_train, 8)\r\n",
        "Y_test = tf.keras.utils.to_categorical(Y_test, 8)"
      ],
      "execution_count": 6,
      "outputs": []
    },
    {
      "cell_type": "code",
      "metadata": {
        "id": "xxJ-WvG0aSH5"
      },
      "source": [
        "pre_trained_model = applications.InceptionV3(weights = \"imagenet\", include_top=False, input_shape = (224, 224, 3))"
      ],
      "execution_count": 7,
      "outputs": []
    },
    {
      "cell_type": "code",
      "metadata": {
        "id": "I6h9N8JBaUsq"
      },
      "source": [
        "for layer in pre_trained_model.layers[len(pre_trained_model.layers)-10:]:\r\n",
        "    layer.trainable = True\r\n",
        "\r\n",
        "X = pre_trained_model.output\r\n",
        "X = tf.keras.layers.Flatten()(X)\r\n",
        "X = tf.keras.layers.Dense(1024, activation=\"relu\")(X)\r\n",
        "X = tf.keras.layers.Dense(512, activation=\"relu\")(X)\r\n",
        "X = tf.keras.layers.Dropout(0.5)(X)\r\n",
        "\r\n",
        "\r\n",
        "outputs = tf.keras.layers.Dense(8, activation=\"softmax\")(X)   \r\n",
        "model = tf.keras.models.Model(pre_trained_model.input,outputs)\r\n",
        "\r\n",
        "model.compile(loss = \"categorical_crossentropy\",optimizer = optimizers.RMSprop(lr=0.0001),metrics=[\"accuracy\"])"
      ],
      "execution_count": 8,
      "outputs": []
    },
    {
      "cell_type": "code",
      "metadata": {
        "colab": {
          "base_uri": "https://localhost:8080/"
        },
        "id": "MaLLW_CQaW-p",
        "outputId": "0d2fcd51-6557-4a2b-9087-7f88f67bdaf5"
      },
      "source": [
        "hist=model.fit(X_train,Y_train,\r\n",
        "                  batch_size=32,\r\n",
        "                  epochs=50,\r\n",
        "                  verbose=1,\r\n",
        "                  validation_data=(X_test, Y_test))"
      ],
      "execution_count": 9,
      "outputs": [
        {
          "output_type": "stream",
          "text": [
            "Epoch 1/50\n",
            "200/200 [==============================] - 105s 301ms/step - loss: 1.5104 - accuracy: 0.5876 - val_loss: 0.8225 - val_accuracy: 0.8519\n",
            "Epoch 2/50\n",
            "200/200 [==============================] - 59s 297ms/step - loss: 0.2867 - accuracy: 0.9010 - val_loss: 8.5831 - val_accuracy: 0.7444\n",
            "Epoch 3/50\n",
            "200/200 [==============================] - 60s 298ms/step - loss: 0.1710 - accuracy: 0.9499 - val_loss: 6.2351 - val_accuracy: 0.8475\n",
            "Epoch 4/50\n",
            "200/200 [==============================] - 59s 297ms/step - loss: 0.1387 - accuracy: 0.9610 - val_loss: 0.9597 - val_accuracy: 0.9075\n",
            "Epoch 5/50\n",
            "200/200 [==============================] - 59s 297ms/step - loss: 0.1038 - accuracy: 0.9784 - val_loss: 6.0049 - val_accuracy: 0.8763\n",
            "Epoch 6/50\n",
            "200/200 [==============================] - 59s 297ms/step - loss: 0.0921 - accuracy: 0.9770 - val_loss: 1.3242 - val_accuracy: 0.9006\n",
            "Epoch 7/50\n",
            "200/200 [==============================] - 59s 297ms/step - loss: 0.1501 - accuracy: 0.9851 - val_loss: 1.1534 - val_accuracy: 0.8919\n",
            "Epoch 8/50\n",
            "200/200 [==============================] - 59s 297ms/step - loss: 0.0674 - accuracy: 0.9829 - val_loss: 1.1401 - val_accuracy: 0.8931\n",
            "Epoch 9/50\n",
            "200/200 [==============================] - 59s 297ms/step - loss: 0.0770 - accuracy: 0.9802 - val_loss: 4.5124 - val_accuracy: 0.9175\n",
            "Epoch 10/50\n",
            "200/200 [==============================] - 59s 297ms/step - loss: 0.0478 - accuracy: 0.9890 - val_loss: 4.9267 - val_accuracy: 0.8512\n",
            "Epoch 11/50\n",
            "200/200 [==============================] - 59s 297ms/step - loss: 0.1896 - accuracy: 0.9902 - val_loss: 1.2591 - val_accuracy: 0.9013\n",
            "Epoch 12/50\n",
            "200/200 [==============================] - 59s 297ms/step - loss: 0.0522 - accuracy: 0.9906 - val_loss: 2.2216 - val_accuracy: 0.9094\n",
            "Epoch 13/50\n",
            "200/200 [==============================] - 59s 296ms/step - loss: 0.1827 - accuracy: 0.9904 - val_loss: 1.1531 - val_accuracy: 0.9025\n",
            "Epoch 14/50\n",
            "200/200 [==============================] - 59s 297ms/step - loss: 0.0658 - accuracy: 0.9873 - val_loss: 0.8732 - val_accuracy: 0.9119\n",
            "Epoch 15/50\n",
            "200/200 [==============================] - 59s 297ms/step - loss: 0.0527 - accuracy: 0.9923 - val_loss: 1.1010 - val_accuracy: 0.9206\n",
            "Epoch 16/50\n",
            "200/200 [==============================] - 59s 297ms/step - loss: 0.1207 - accuracy: 0.9915 - val_loss: 0.6708 - val_accuracy: 0.9169\n",
            "Epoch 17/50\n",
            "200/200 [==============================] - 59s 297ms/step - loss: 0.0385 - accuracy: 0.9928 - val_loss: 0.9550 - val_accuracy: 0.9106\n",
            "Epoch 18/50\n",
            "200/200 [==============================] - 59s 296ms/step - loss: 0.0449 - accuracy: 0.9886 - val_loss: 1.9523 - val_accuracy: 0.8938\n",
            "Epoch 19/50\n",
            "200/200 [==============================] - 59s 296ms/step - loss: 0.0572 - accuracy: 0.9904 - val_loss: 0.7432 - val_accuracy: 0.9131\n",
            "Epoch 20/50\n",
            "200/200 [==============================] - 59s 297ms/step - loss: 0.0637 - accuracy: 0.9907 - val_loss: 0.7514 - val_accuracy: 0.9181\n",
            "Epoch 21/50\n",
            "200/200 [==============================] - 59s 297ms/step - loss: 0.0431 - accuracy: 0.9945 - val_loss: 1.2615 - val_accuracy: 0.8944\n",
            "Epoch 22/50\n",
            "200/200 [==============================] - 59s 296ms/step - loss: 0.1038 - accuracy: 0.9920 - val_loss: 1.3250 - val_accuracy: 0.9106\n",
            "Epoch 23/50\n",
            "200/200 [==============================] - 59s 296ms/step - loss: 0.0206 - accuracy: 0.9959 - val_loss: 1.3013 - val_accuracy: 0.9125\n",
            "Epoch 24/50\n",
            "200/200 [==============================] - 59s 297ms/step - loss: 0.0397 - accuracy: 0.9910 - val_loss: 0.9009 - val_accuracy: 0.9131\n",
            "Epoch 25/50\n",
            "200/200 [==============================] - 59s 296ms/step - loss: 0.0293 - accuracy: 0.9928 - val_loss: 0.8820 - val_accuracy: 0.9137\n",
            "Epoch 26/50\n",
            "200/200 [==============================] - 59s 296ms/step - loss: 0.0321 - accuracy: 0.9956 - val_loss: 1.0402 - val_accuracy: 0.9081\n",
            "Epoch 27/50\n",
            "200/200 [==============================] - 59s 297ms/step - loss: 0.0522 - accuracy: 0.9946 - val_loss: 1.1696 - val_accuracy: 0.9275\n",
            "Epoch 28/50\n",
            "200/200 [==============================] - 59s 296ms/step - loss: 0.0478 - accuracy: 0.9959 - val_loss: 1.1715 - val_accuracy: 0.9069\n",
            "Epoch 29/50\n",
            "200/200 [==============================] - 59s 296ms/step - loss: 0.0320 - accuracy: 0.9948 - val_loss: 0.9305 - val_accuracy: 0.9006\n",
            "Epoch 30/50\n",
            "200/200 [==============================] - 59s 296ms/step - loss: 0.0356 - accuracy: 0.9938 - val_loss: 0.9184 - val_accuracy: 0.9137\n",
            "Epoch 31/50\n",
            "200/200 [==============================] - 59s 296ms/step - loss: 0.0324 - accuracy: 0.9943 - val_loss: 1.4431 - val_accuracy: 0.9038\n",
            "Epoch 32/50\n",
            "200/200 [==============================] - 59s 296ms/step - loss: 0.0323 - accuracy: 0.9948 - val_loss: 1.3413 - val_accuracy: 0.9094\n",
            "Epoch 33/50\n",
            "200/200 [==============================] - 59s 296ms/step - loss: 0.0309 - accuracy: 0.9969 - val_loss: 1.4943 - val_accuracy: 0.9131\n",
            "Epoch 34/50\n",
            "200/200 [==============================] - 59s 296ms/step - loss: 0.0325 - accuracy: 0.9924 - val_loss: 0.8712 - val_accuracy: 0.9212\n",
            "Epoch 35/50\n",
            "200/200 [==============================] - 59s 296ms/step - loss: 0.0192 - accuracy: 0.9958 - val_loss: 1.7107 - val_accuracy: 0.9156\n",
            "Epoch 36/50\n",
            "200/200 [==============================] - 59s 296ms/step - loss: 0.0215 - accuracy: 0.9968 - val_loss: 0.9929 - val_accuracy: 0.9056\n",
            "Epoch 37/50\n",
            "200/200 [==============================] - 59s 296ms/step - loss: 0.1535 - accuracy: 0.9960 - val_loss: 1.2473 - val_accuracy: 0.9144\n",
            "Epoch 38/50\n",
            "200/200 [==============================] - 59s 295ms/step - loss: 0.0663 - accuracy: 0.9931 - val_loss: 2.0070 - val_accuracy: 0.9162\n",
            "Epoch 39/50\n",
            "200/200 [==============================] - 59s 296ms/step - loss: 0.2764 - accuracy: 0.9947 - val_loss: 1.2720 - val_accuracy: 0.9231\n",
            "Epoch 40/50\n",
            "200/200 [==============================] - 59s 296ms/step - loss: 0.0415 - accuracy: 0.9938 - val_loss: 1.1075 - val_accuracy: 0.9150\n",
            "Epoch 41/50\n",
            "200/200 [==============================] - 59s 296ms/step - loss: 0.0296 - accuracy: 0.9955 - val_loss: 1.2339 - val_accuracy: 0.9013\n",
            "Epoch 42/50\n",
            "200/200 [==============================] - 59s 296ms/step - loss: 0.0688 - accuracy: 0.9959 - val_loss: 1.1864 - val_accuracy: 0.9050\n",
            "Epoch 43/50\n",
            "200/200 [==============================] - 59s 296ms/step - loss: 0.0288 - accuracy: 0.9952 - val_loss: 1.1046 - val_accuracy: 0.9200\n",
            "Epoch 44/50\n",
            "200/200 [==============================] - 59s 296ms/step - loss: 0.0524 - accuracy: 0.9950 - val_loss: 1.4434 - val_accuracy: 0.9150\n",
            "Epoch 45/50\n",
            "200/200 [==============================] - 59s 296ms/step - loss: 0.0317 - accuracy: 0.9964 - val_loss: 1.0826 - val_accuracy: 0.9212\n",
            "Epoch 46/50\n",
            "200/200 [==============================] - 59s 296ms/step - loss: 0.0593 - accuracy: 0.9952 - val_loss: 1.7717 - val_accuracy: 0.9187\n",
            "Epoch 47/50\n",
            "200/200 [==============================] - 59s 296ms/step - loss: 0.2106 - accuracy: 0.9930 - val_loss: 1.5433 - val_accuracy: 0.9100\n",
            "Epoch 48/50\n",
            "200/200 [==============================] - 59s 296ms/step - loss: 0.0320 - accuracy: 0.9977 - val_loss: 3.0339 - val_accuracy: 0.8931\n",
            "Epoch 49/50\n",
            "200/200 [==============================] - 59s 296ms/step - loss: 0.0165 - accuracy: 0.9944 - val_loss: 2.0084 - val_accuracy: 0.9087\n",
            "Epoch 50/50\n",
            "200/200 [==============================] - 59s 296ms/step - loss: 0.0361 - accuracy: 0.9946 - val_loss: 1.7246 - val_accuracy: 0.9100\n"
          ],
          "name": "stdout"
        }
      ]
    },
    {
      "cell_type": "code",
      "metadata": {
        "colab": {
          "base_uri": "https://localhost:8080/",
          "height": 298
        },
        "id": "VWLukeEPaY1F",
        "outputId": "8897a680-b18a-494d-c452-4b48d0b8f5ed"
      },
      "source": [
        "model.save('inception-v3-weights.h5')\r\n",
        "\r\n",
        "epochs = range(len(hist.history['accuracy']))\r\n",
        "\r\n",
        "plt.plot(epochs, hist.history['accuracy'] , 'b', label='Training accuracy')\r\n",
        "plt.plot(epochs, hist.history['val_accuracy'] , 'g', label='Validation accuracy')\r\n",
        "\r\n",
        "plt.title('Training Accuracy Vs Validation Accuracy')\r\n",
        "plt.legend(loc=0)\r\n",
        "plt.figure()\r\n",
        "\r\n",
        "\r\n",
        "plt.show()"
      ],
      "execution_count": 10,
      "outputs": [
        {
          "output_type": "display_data",
          "data": {
            "image/png": "[encoded data removed]",
            "text/plain": [
              "<Figure size 432x288 with 1 Axes>"
            ]
          },
          "metadata": {
            "tags": [],
            "needs_background": "light"
          }
        },
        {
          "output_type": "display_data",
          "data": {
            "text/plain": [
              "<Figure size 432x288 with 0 Axes>"
            ]
          },
          "metadata": {
            "tags": []
          }
        }
      ]
    }
  ]
}