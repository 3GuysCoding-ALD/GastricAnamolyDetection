{
  "nbformat": 4,
  "nbformat_minor": 0,
  "metadata": {
    "colab": {
      "name": "VGG19.ipynb",
      "provenance": []
    },
    "kernelspec": {
      "name": "python3",
      "display_name": "Python 3"
    },
    "accelerator": "GPU"
  },
  "cells": [
    {
      "cell_type": "code",
      "metadata": {
        "id": "_XAL6kVYcYPg"
      },
      "source": [
        "import os\r\n",
        "import cv2\r\n",
        "import zipfile\r\n",
        "import numpy as np\r\n",
        "import tensorflow as tf\r\n",
        "import matplotlib.pyplot as plt\r\n",
        "from tensorflow.keras import applications\r\n",
        "from tensorflow.keras import optimizers\r\n",
        "from sklearn.model_selection import train_test_split"
      ],
      "execution_count": 2,
      "outputs": []
    },
    {
      "cell_type": "code",
      "metadata": {
        "colab": {
          "base_uri": "https://localhost:8080/"
        },
        "id": "oegHX-KBdab9",
        "outputId": "20fac551-9481-4f6b-aa24-b51cb8acd23c"
      },
      "source": [
        "!wget --no-check-certificate \\\r\n",
        "  https://datasets.simula.no/kvasir/data/kvasir-dataset-v2.zip\\\r\n",
        "  -O /tmp/kvasir-dataset-v2.zip"
      ],
      "execution_count": 3,
      "outputs": [
        {
          "output_type": "stream",
          "text": [
            "--2021-03-11 15:57:00--  https://datasets.simula.no/kvasir/data/kvasir-dataset-v2.zip\n",
            "Resolving datasets.simula.no (datasets.simula.no)... 128.39.36.14\n",
            "Connecting to datasets.simula.no (datasets.simula.no)|128.39.36.14|:443... connected.\n",
            "HTTP request sent, awaiting response... 200 OK\n",
            "Length: 2489312085 (2.3G) [application/zip]\n",
            "Saving to: ‘/tmp/kvasir-dataset-v2.zip’\n",
            "\n",
            "/tmp/kvasir-dataset 100%[===================>]   2.32G  63.1MB/s    in 36s     \n",
            "\n",
            "2021-03-11 15:57:36 (65.7 MB/s) - ‘/tmp/kvasir-dataset-v2.zip’ saved [2489312085/2489312085]\n",
            "\n"
          ],
          "name": "stdout"
        }
      ]
    },
    {
      "cell_type": "code",
      "metadata": {
        "id": "CmhnRSlWjAiB"
      },
      "source": [
        "dataset_zip_local = '/tmp/kvasir-dataset-v2.zip'\r\n",
        "zip_ref = zipfile.ZipFile(dataset_zip_local, 'r')\r\n",
        "zip_ref.extractall('/tmp')\r\n",
        "zip_ref.close()"
      ],
      "execution_count": 4,
      "outputs": []
    },
    {
      "cell_type": "code",
      "metadata": {
        "id": "FERCiSF_dd3W"
      },
      "source": [
        "dataset_dir='/tmp/kvasir-dataset-v2'\r\n",
        "category_lst=['normal-z-line',\r\n",
        "              'normal-pylorus',\r\n",
        "              'normal-cecum',\r\n",
        "              'esophagitis',\r\n",
        "              'polyps',\r\n",
        "              'ulcerative-colitis',\r\n",
        "              'dyed-lifted-polyps',\r\n",
        "              'dyed-resection-margins']"
      ],
      "execution_count": 5,
      "outputs": []
    },
    {
      "cell_type": "code",
      "metadata": {
        "id": "qj1VuuxQjxaj"
      },
      "source": [
        "def process_dataset(category_lst):\r\n",
        "  X= []\r\n",
        "  Y = []\r\n",
        "  for category in category_lst:\r\n",
        "    category_path = os.path.join(dataset_dir,category)\r\n",
        "    for image in os.listdir(category_path):\r\n",
        "      try:\r\n",
        "        image_path = os.path.join(category_path,image)\r\n",
        "        image_arr = cv2.imread(image_path)\r\n",
        "        resized_image_arr = cv2.resize(image_arr,(224,224))\r\n",
        "        X.append(resized_image_arr)\r\n",
        "        Y.append(category_lst.index(category))\r\n",
        "      except Exception as e:\r\n",
        "        print(e)\r\n",
        "        pass\r\n",
        "  return X,Y"
      ],
      "execution_count": 6,
      "outputs": []
    },
    {
      "cell_type": "code",
      "metadata": {
        "colab": {
          "base_uri": "https://localhost:8080/"
        },
        "id": "tfC7D_4mm2dX",
        "outputId": "4668061e-ee83-41e4-cb8b-c3a67b3e2154"
      },
      "source": [
        "X,Y = process_dataset(category_lst)\r\n",
        "X = np.array(X, dtype=np.float32)\r\n",
        "X /= 255.0\r\n",
        "print(X.shape)"
      ],
      "execution_count": 7,
      "outputs": [
        {
          "output_type": "stream",
          "text": [
            "(8000, 224, 224, 3)\n"
          ],
          "name": "stdout"
        }
      ]
    },
    {
      "cell_type": "code",
      "metadata": {
        "id": "vEq7VAiPvFTd"
      },
      "source": [
        "X_train,X_test,Y_train,Y_test = train_test_split(X,Y,test_size=0.33,random_state=42)\r\n",
        "\r\n",
        "Y_train = tf.keras.utils.to_categorical(Y_train, 8)\r\n",
        "Y_test = tf.keras.utils.to_categorical(Y_test, 8)"
      ],
      "execution_count": 8,
      "outputs": []
    },
    {
      "cell_type": "code",
      "metadata": {
        "colab": {
          "base_uri": "https://localhost:8080/"
        },
        "id": "v3r72iEz0P8r",
        "outputId": "8917b971-1b00-4ea5-83be-86d0a63bcaf1"
      },
      "source": [
        "pre_trained_model = applications.VGG19(weights = \"imagenet\", include_top=False, input_shape = (224, 224, 3))"
      ],
      "execution_count": 9,
      "outputs": [
        {
          "output_type": "stream",
          "text": [
            "Downloading data from https://storage.googleapis.com/tensorflow/keras-applications/vgg19/vgg19_weights_tf_dim_ordering_tf_kernels_notop.h5\n",
            "80142336/80134624 [==============================] - 2s 0us/step\n"
          ],
          "name": "stdout"
        }
      ]
    },
    {
      "cell_type": "code",
      "metadata": {
        "id": "Hv1ftdSo0-jQ"
      },
      "source": [
        "for layer in pre_trained_model.layers[:20]:\r\n",
        "    layer.trainable = True\r\n",
        "\r\n",
        "X = pre_trained_model.output\r\n",
        "X = tf.keras.layers.Flatten()(X)\r\n",
        "X = tf.keras.layers.Dense(1024, activation=\"relu\")(X)\r\n",
        "X = tf.keras.layers.Dropout(0.3)(X)\r\n",
        "X = tf.keras.layers.Dense(512, activation=\"relu\")(X)\r\n",
        "\r\n",
        "outputs = tf.keras.layers.Dense(8, activation=\"softmax\")(X)   \r\n",
        "model = tf.keras.models.Model(pre_trained_model.input,outputs)\r\n",
        "\r\n",
        "model.compile(loss = \"categorical_crossentropy\",optimizer = optimizers.SGD(lr=0.0001, momentum=0.5),metrics=[\"accuracy\"])"
      ],
      "execution_count": 10,
      "outputs": []
    },
    {
      "cell_type": "code",
      "metadata": {
        "colab": {
          "base_uri": "https://localhost:8080/"
        },
        "id": "gQCqzqkD315t",
        "outputId": "537c3367-02df-49c3-9854-f70a73ac5e41"
      },
      "source": [
        "hist=model.fit(X_train,Y_train,\r\n",
        "                  batch_size=32,\r\n",
        "                  epochs=50,\r\n",
        "                  verbose=1,\r\n",
        "                  validation_data=(X_test, Y_test))"
      ],
      "execution_count": 11,
      "outputs": [
        {
          "output_type": "stream",
          "text": [
            "Epoch 1/50\n",
            "168/168 [==============================] - 237s 1s/step - loss: 2.0819 - accuracy: 0.2004 - val_loss: 1.4657 - val_accuracy: 0.4705\n",
            "Epoch 2/50\n",
            "168/168 [==============================] - 183s 1s/step - loss: 1.4201 - accuracy: 0.4521 - val_loss: 1.0314 - val_accuracy: 0.6000\n",
            "Epoch 3/50\n",
            "168/168 [==============================] - 183s 1s/step - loss: 1.0515 - accuracy: 0.5676 - val_loss: 0.7889 - val_accuracy: 0.6693\n",
            "Epoch 4/50\n",
            "168/168 [==============================] - 183s 1s/step - loss: 0.8281 - accuracy: 0.6532 - val_loss: 0.6338 - val_accuracy: 0.7439\n",
            "Epoch 5/50\n",
            "168/168 [==============================] - 183s 1s/step - loss: 0.6843 - accuracy: 0.7118 - val_loss: 0.5804 - val_accuracy: 0.7542\n",
            "Epoch 6/50\n",
            "168/168 [==============================] - 183s 1s/step - loss: 0.5789 - accuracy: 0.7601 - val_loss: 0.4986 - val_accuracy: 0.7985\n",
            "Epoch 7/50\n",
            "168/168 [==============================] - 183s 1s/step - loss: 0.5124 - accuracy: 0.7901 - val_loss: 0.4689 - val_accuracy: 0.8034\n",
            "Epoch 8/50\n",
            "168/168 [==============================] - 183s 1s/step - loss: 0.4633 - accuracy: 0.8041 - val_loss: 0.4331 - val_accuracy: 0.8269\n",
            "Epoch 9/50\n",
            "168/168 [==============================] - 183s 1s/step - loss: 0.4246 - accuracy: 0.8293 - val_loss: 0.4099 - val_accuracy: 0.8360\n",
            "Epoch 10/50\n",
            "168/168 [==============================] - 183s 1s/step - loss: 0.3771 - accuracy: 0.8463 - val_loss: 0.4533 - val_accuracy: 0.8144\n",
            "Epoch 11/50\n",
            "168/168 [==============================] - 183s 1s/step - loss: 0.3628 - accuracy: 0.8593 - val_loss: 0.4570 - val_accuracy: 0.8223\n",
            "Epoch 12/50\n",
            "168/168 [==============================] - 183s 1s/step - loss: 0.3320 - accuracy: 0.8705 - val_loss: 0.3815 - val_accuracy: 0.8489\n",
            "Epoch 13/50\n",
            "168/168 [==============================] - 183s 1s/step - loss: 0.3101 - accuracy: 0.8809 - val_loss: 0.3837 - val_accuracy: 0.8466\n",
            "Epoch 14/50\n",
            "168/168 [==============================] - 183s 1s/step - loss: 0.2936 - accuracy: 0.8838 - val_loss: 0.3729 - val_accuracy: 0.8538\n",
            "Epoch 15/50\n",
            "168/168 [==============================] - 183s 1s/step - loss: 0.2798 - accuracy: 0.8840 - val_loss: 0.3735 - val_accuracy: 0.8508\n",
            "Epoch 16/50\n",
            "168/168 [==============================] - 183s 1s/step - loss: 0.2505 - accuracy: 0.9024 - val_loss: 0.3687 - val_accuracy: 0.8595\n",
            "Epoch 17/50\n",
            "168/168 [==============================] - 183s 1s/step - loss: 0.2464 - accuracy: 0.9016 - val_loss: 0.3759 - val_accuracy: 0.8583\n",
            "Epoch 18/50\n",
            "168/168 [==============================] - 183s 1s/step - loss: 0.2408 - accuracy: 0.9061 - val_loss: 0.3765 - val_accuracy: 0.8587\n",
            "Epoch 19/50\n",
            "168/168 [==============================] - 183s 1s/step - loss: 0.2292 - accuracy: 0.9142 - val_loss: 0.3790 - val_accuracy: 0.8591\n",
            "Epoch 20/50\n",
            "168/168 [==============================] - 183s 1s/step - loss: 0.1889 - accuracy: 0.9250 - val_loss: 0.3555 - val_accuracy: 0.8598\n",
            "Epoch 21/50\n",
            "168/168 [==============================] - 183s 1s/step - loss: 0.2074 - accuracy: 0.9171 - val_loss: 0.3452 - val_accuracy: 0.8735\n",
            "Epoch 22/50\n",
            "168/168 [==============================] - 183s 1s/step - loss: 0.1831 - accuracy: 0.9305 - val_loss: 0.3767 - val_accuracy: 0.8595\n",
            "Epoch 23/50\n",
            "168/168 [==============================] - 183s 1s/step - loss: 0.1779 - accuracy: 0.9345 - val_loss: 0.3485 - val_accuracy: 0.8674\n",
            "Epoch 24/50\n",
            "168/168 [==============================] - 183s 1s/step - loss: 0.1669 - accuracy: 0.9381 - val_loss: 0.3772 - val_accuracy: 0.8633\n",
            "Epoch 25/50\n",
            "168/168 [==============================] - 183s 1s/step - loss: 0.1723 - accuracy: 0.9288 - val_loss: 0.3796 - val_accuracy: 0.8625\n",
            "Epoch 26/50\n",
            "168/168 [==============================] - 182s 1s/step - loss: 0.1556 - accuracy: 0.9405 - val_loss: 0.4002 - val_accuracy: 0.8598\n",
            "Epoch 27/50\n",
            "168/168 [==============================] - 182s 1s/step - loss: 0.1560 - accuracy: 0.9378 - val_loss: 0.3708 - val_accuracy: 0.8708\n",
            "Epoch 28/50\n",
            "168/168 [==============================] - 182s 1s/step - loss: 0.1383 - accuracy: 0.9486 - val_loss: 0.3997 - val_accuracy: 0.8652\n",
            "Epoch 29/50\n",
            "168/168 [==============================] - 182s 1s/step - loss: 0.1301 - accuracy: 0.9510 - val_loss: 0.4466 - val_accuracy: 0.8496\n",
            "Epoch 30/50\n",
            "168/168 [==============================] - 182s 1s/step - loss: 0.1323 - accuracy: 0.9512 - val_loss: 0.3833 - val_accuracy: 0.8663\n",
            "Epoch 31/50\n",
            "168/168 [==============================] - 182s 1s/step - loss: 0.1173 - accuracy: 0.9617 - val_loss: 0.3888 - val_accuracy: 0.8667\n",
            "Epoch 32/50\n",
            "168/168 [==============================] - 182s 1s/step - loss: 0.1190 - accuracy: 0.9542 - val_loss: 0.4063 - val_accuracy: 0.8644\n",
            "Epoch 33/50\n",
            "168/168 [==============================] - 182s 1s/step - loss: 0.1161 - accuracy: 0.9582 - val_loss: 0.3929 - val_accuracy: 0.8697\n",
            "Epoch 34/50\n",
            "168/168 [==============================] - 182s 1s/step - loss: 0.1112 - accuracy: 0.9616 - val_loss: 0.4033 - val_accuracy: 0.8636\n",
            "Epoch 35/50\n",
            "168/168 [==============================] - 182s 1s/step - loss: 0.1046 - accuracy: 0.9598 - val_loss: 0.4155 - val_accuracy: 0.8625\n",
            "Epoch 36/50\n",
            "168/168 [==============================] - 182s 1s/step - loss: 0.0993 - accuracy: 0.9635 - val_loss: 0.4013 - val_accuracy: 0.8678\n",
            "Epoch 37/50\n",
            "168/168 [==============================] - 182s 1s/step - loss: 0.0909 - accuracy: 0.9685 - val_loss: 0.4163 - val_accuracy: 0.8754\n",
            "Epoch 38/50\n",
            "168/168 [==============================] - 182s 1s/step - loss: 0.0928 - accuracy: 0.9643 - val_loss: 0.4157 - val_accuracy: 0.8705\n",
            "Epoch 39/50\n",
            "168/168 [==============================] - 182s 1s/step - loss: 0.0785 - accuracy: 0.9726 - val_loss: 0.4102 - val_accuracy: 0.8678\n",
            "Epoch 40/50\n",
            "168/168 [==============================] - 182s 1s/step - loss: 0.0814 - accuracy: 0.9657 - val_loss: 0.3955 - val_accuracy: 0.8761\n",
            "Epoch 41/50\n",
            "168/168 [==============================] - 182s 1s/step - loss: 0.0782 - accuracy: 0.9737 - val_loss: 0.4120 - val_accuracy: 0.8799\n",
            "Epoch 42/50\n",
            "168/168 [==============================] - 182s 1s/step - loss: 0.0701 - accuracy: 0.9738 - val_loss: 0.4158 - val_accuracy: 0.8750\n",
            "Epoch 43/50\n",
            "168/168 [==============================] - 182s 1s/step - loss: 0.0766 - accuracy: 0.9732 - val_loss: 0.4224 - val_accuracy: 0.8697\n",
            "Epoch 44/50\n",
            "168/168 [==============================] - 182s 1s/step - loss: 0.0624 - accuracy: 0.9807 - val_loss: 0.4109 - val_accuracy: 0.8765\n",
            "Epoch 45/50\n",
            "168/168 [==============================] - 182s 1s/step - loss: 0.0627 - accuracy: 0.9785 - val_loss: 0.4177 - val_accuracy: 0.8761\n",
            "Epoch 46/50\n",
            "168/168 [==============================] - 182s 1s/step - loss: 0.0590 - accuracy: 0.9780 - val_loss: 0.4375 - val_accuracy: 0.8735\n",
            "Epoch 47/50\n",
            "168/168 [==============================] - 182s 1s/step - loss: 0.0545 - accuracy: 0.9833 - val_loss: 0.4354 - val_accuracy: 0.8708\n",
            "Epoch 48/50\n",
            "168/168 [==============================] - 182s 1s/step - loss: 0.0508 - accuracy: 0.9842 - val_loss: 0.4292 - val_accuracy: 0.8735\n",
            "Epoch 49/50\n",
            "168/168 [==============================] - 182s 1s/step - loss: 0.0525 - accuracy: 0.9815 - val_loss: 0.4339 - val_accuracy: 0.8758\n",
            "Epoch 50/50\n",
            "168/168 [==============================] - 182s 1s/step - loss: 0.0559 - accuracy: 0.9799 - val_loss: 0.4503 - val_accuracy: 0.8644\n"
          ],
          "name": "stdout"
        }
      ]
    },
    {
      "cell_type": "code",
      "metadata": {
        "colab": {
          "base_uri": "https://localhost:8080/",
          "height": 298
        },
        "id": "IsxBH36E4w-C",
        "outputId": "3c1ed933-7a1c-402a-c581-4a9258446228"
      },
      "source": [
        "model.save('vgg-19-weights.h5')\r\n",
        "\r\n",
        "epochs = range(len(hist.history['accuracy']))\r\n",
        "\r\n",
        "plt.plot(epochs, hist.history['accuracy'] , 'b', label='Training accuracy')\r\n",
        "plt.plot(epochs, hist.history['val_accuracy'] , 'g', label='Validation accuracy')\r\n",
        "\r\n",
        "plt.title('Training Accuracy Vs Validation Accuracy')\r\n",
        "plt.legend(loc=0)\r\n",
        "plt.figure()\r\n",
        "\r\n",
        "\r\n",
        "plt.show()"
      ],
      "execution_count": 12,
      "outputs": [
        {
          "output_type": "display_data",
          "data": {
            "image/png": "[encoded data removed]",
            "text/plain": [
              "<Figure size 432x288 with 1 Axes>"
            ]
          },
          "metadata": {
            "tags": [],
            "needs_background": "light"
          }
        },
        {
          "output_type": "display_data",
          "data": {
            "text/plain": [
              "<Figure size 432x288 with 0 Axes>"
            ]
          },
          "metadata": {
            "tags": []
          }
        }
      ]
    }
  ]
}