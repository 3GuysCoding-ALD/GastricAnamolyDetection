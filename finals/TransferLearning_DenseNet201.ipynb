{
  "nbformat": 4,
  "nbformat_minor": 0,
  "metadata": {
    "colab": {
      "name": "DenseNet201New.ipynb",
      "provenance": []
    },
    "kernelspec": {
      "name": "python3",
      "display_name": "Python 3"
    },
    "accelerator": "GPU"
  },
  "cells": [
    {
      "cell_type": "code",
      "metadata": {
        "colab": {
          "base_uri": "https://localhost:8080/"
        },
        "id": "Ena0C6UnfWhP",
        "outputId": "d10d4b81-61c6-4bcb-b338-4c0d28a8b3be"
      },
      "source": [
        "\r\n",
        "import os\r\n",
        "import numpy as np\r\n",
        "import seaborn as sea\r\n",
        "import tensorflow as tf \r\n",
        "import matplotlib.pyplot as plt\r\n",
        "import pandas as pd\r\n",
        "import tensorflow.keras.applications as Applications\r\n",
        "import tensorflow.keras.preprocessing.image as ImagePreprocessing\r\n",
        "import cv2\r\n",
        "import pickle\r\n",
        "import json\r\n",
        "import tensorflow as tf\r\n",
        "from tensorflow.keras.layers import Conv2D, Dense ,MaxPool2D ,BatchNormalization,Flatten ,Dropout\r\n",
        "from sklearn.model_selection import KFold\r\n",
        "from PIL import Image\r\n",
        "import importlib.util\r\n",
        "import zipfile\r\n",
        "import random as rn\r\n",
        "import pandas as pd\r\n",
        "from sklearn.model_selection import train_test_split\r\n",
        "from shutil import copyfile\r\n",
        "from matplotlib import pyplot as plt\r\n",
        "import seaborn as sns\r\n",
        "import tensorflow as tf\r\n",
        "from tensorflow.keras.preprocessing.image import ImageDataGenerator\r\n",
        "import json\r\n",
        "from google.colab import drive\r\n",
        "\r\n",
        "drive.mount('/content/drive')\r\n",
        "sns.set()"
      ],
      "execution_count": 1,
      "outputs": [
        {
          "output_type": "stream",
          "text": [
            "Drive already mounted at /content/drive; to attempt to forcibly remount, call drive.mount(\"/content/drive\", force_remount=True).\n"
          ],
          "name": "stdout"
        }
      ]
    },
    {
      "cell_type": "code",
      "metadata": {
        "id": "cCdPOXvKfjEO"
      },
      "source": [
        "\r\n",
        "dataset_zip_local = '/content/drive/My Drive/kvasir-dataset-v2.zip'\r\n",
        "zip_ref = zipfile.ZipFile(dataset_zip_local, 'r')\r\n",
        "zip_ref.extractall('/tmp')\r\n",
        "zip_ref.close()"
      ],
      "execution_count": 2,
      "outputs": []
    },
    {
      "cell_type": "code",
      "metadata": {
        "id": "v_iErAHfgTZk"
      },
      "source": [
        "train_split = 0.7\r\n",
        "val_split = 0.15\r\n",
        "test_split = 0.15\r\n",
        "original_ds_path = '/tmp/kvasir-dataset-v2'\r\n",
        "train_ds_path = 'train'\r\n",
        "val_ds_path = 'validate'\r\n",
        "test_ds_path = 'test'\r\n",
        "base_dir = '/tmp'\r\n",
        "losses_dir = base_dir+'/losses/'\r\n",
        "model_save= base_dir+'/model_saves/'\r\n",
        "seed = 49\r\n",
        "size_img = (224,224) #size choosen to preserve the aspect ratio\r\n",
        "input_size = (224,224,3)\r\n",
        "batch_size = 32"
      ],
      "execution_count": 3,
      "outputs": []
    },
    {
      "cell_type": "code",
      "metadata": {
        "id": "m7uuQez4g5HG"
      },
      "source": [
        "ds_dic = {}\r\n",
        "for folder in os.listdir(original_ds_path):\r\n",
        "  ds_dic[folder] = os.listdir(original_ds_path+'/'+folder)"
      ],
      "execution_count": 4,
      "outputs": []
    },
    {
      "cell_type": "code",
      "metadata": {
        "id": "Hw__nJEMg_sr"
      },
      "source": [
        "if not os.path.exists(train_ds_path):\r\n",
        "      os.mkdir(train_ds_path)\r\n",
        "if not os.path.exists(val_ds_path):\r\n",
        "      os.mkdir(val_ds_path)\r\n",
        "if not os.path.exists(test_ds_path):\r\n",
        "      os.mkdir(test_ds_path)\r\n",
        "\r\n",
        "for each in ds_dic:\r\n",
        "    \r\n",
        "    if not os.path.exists(train_ds_path+'/'+each+'/'):\r\n",
        "        os.mkdir(train_ds_path+'/'+each+'/')\r\n",
        "    if not os.path.exists(val_ds_path+'/'+each+'/'):\r\n",
        "        os.mkdir(val_ds_path+'/'+each+'/')\r\n",
        "    if not os.path.exists(test_ds_path+'/'+each+'/'):\r\n",
        "        os.mkdir(test_ds_path+'/'+each+'/')"
      ],
      "execution_count": 5,
      "outputs": []
    },
    {
      "cell_type": "code",
      "metadata": {
        "id": "ekWMRE6xhDDL"
      },
      "source": [
        "\r\n",
        "for each in ds_dic.keys():\r\n",
        "  train_split , intermediate_split=train_test_split(ds_dic[each], \r\n",
        "                                              test_size=0.3, \r\n",
        "                                              random_state=seed,\r\n",
        "                                              shuffle = True)\r\n",
        "  \r\n",
        "  val_split , test_split = train_test_split(intermediate_split, \r\n",
        "                                              test_size=0.5, \r\n",
        "                                              random_state=seed,\r\n",
        "                                              shuffle = True)\r\n",
        "  \r\n",
        "\r\n",
        "  for img in train_split:\r\n",
        "        destination = train_ds_path+'/'+each+'/'+img\r\n",
        "        source = original_ds_path+'/'+each+'/'+img\r\n",
        "        \r\n",
        "        if not os.path.exists(destination):\r\n",
        "            copyfile(source, destination)\r\n",
        "        \r\n",
        "  for img in test_split:\r\n",
        "      destination = test_ds_path+'/'+each+'/'+img\r\n",
        "      source = original_ds_path+'/'+each+'/'+img\r\n",
        "      \r\n",
        "      if not os.path.exists(destination):\r\n",
        "          copyfile(source, destination)\r\n",
        "\r\n",
        "  for img in val_split:\r\n",
        "      destination = val_ds_path+'/'+each+'/'+img\r\n",
        "      source = original_ds_path+'/'+each+'/'+img\r\n",
        "      \r\n",
        "      if not os.path.exists(destination):\r\n",
        "          copyfile(source, destination)"
      ],
      "execution_count": 6,
      "outputs": []
    },
    {
      "cell_type": "code",
      "metadata": {
        "id": "37qEkqlHhGc0"
      },
      "source": [
        "train_datagen = ImageDataGenerator(featurewise_center=True,\r\n",
        "                               samplewise_center=True,\r\n",
        "                               featurewise_std_normalization=True,\r\n",
        "                               samplewise_std_normalization=True,\r\n",
        "                               zca_whitening=False,\r\n",
        "                               zca_epsilon=1e-06,\r\n",
        "                               rotation_range=40,\r\n",
        "                               width_shift_range=0.2,\r\n",
        "                               height_shift_range=0.2, \r\n",
        "                               brightness_range=None, \r\n",
        "                               shear_range=0.2, \r\n",
        "                               zoom_range=0.2,\r\n",
        "                               channel_shift_range=0.0, \r\n",
        "                               fill_mode='nearest', \r\n",
        "                               cval=0.0, \r\n",
        "                               horizontal_flip=True,\r\n",
        "                               vertical_flip=True, \r\n",
        "                               rescale=1./255, \r\n",
        "                               preprocessing_function=None,\r\n",
        "                               validation_split=0.15\r\n",
        "    )\r\n",
        "\r\n",
        "val_datagen = ImageDataGenerator(rescale=1./255)\r\n",
        "test_datagen = ImageDataGenerator(rescale=1./255)"
      ],
      "execution_count": 7,
      "outputs": []
    },
    {
      "cell_type": "code",
      "metadata": {
        "colab": {
          "base_uri": "https://localhost:8080/"
        },
        "id": "MMtZ6OG7hHmc",
        "outputId": "1fca4ad0-bc7d-4b85-bc49-dffbcd218735"
      },
      "source": [
        "train_generator = train_datagen.flow_from_directory(directory=train_ds_path,\r\n",
        "                                                    target_size=size_img,\r\n",
        "                                                    batch_size=batch_size,\r\n",
        "                                                    shuffle=True, \r\n",
        "                                                    seed=seed,\r\n",
        "                                                    )\r\n",
        "val_generator = val_datagen.flow_from_directory(directory=val_ds_path,\r\n",
        "                                                    target_size=size_img,\r\n",
        "                                                    batch_size=batch_size,\r\n",
        "                                                    shuffle=True, \r\n",
        "                                                    seed=seed,\r\n",
        "                                                    )\r\n",
        "test_generator = test_datagen.flow_from_directory(directory=test_ds_path,\r\n",
        "                                                    target_size=size_img,\r\n",
        "                                                    batch_size=batch_size,\r\n",
        "                                                    shuffle=True, \r\n",
        "                                                    seed=seed,\r\n",
        "                                                    )"
      ],
      "execution_count": 8,
      "outputs": [
        {
          "output_type": "stream",
          "text": [
            "Found 5600 images belonging to 8 classes.\n",
            "Found 1200 images belonging to 8 classes.\n",
            "Found 1200 images belonging to 8 classes.\n"
          ],
          "name": "stdout"
        }
      ]
    },
    {
      "cell_type": "code",
      "metadata": {
        "id": "ftv7-TsdhKHe"
      },
      "source": [
        "\r\n",
        "Base_Model = tf.keras.applications.DenseNet201(input_tensor=tf.keras.Input(shape=input_size),\r\n",
        "                      weights='imagenet',\r\n",
        "                      include_top=False)\r\n"
      ],
      "execution_count": 9,
      "outputs": []
    },
    {
      "cell_type": "code",
      "metadata": {
        "id": "yiQoU4mnhTVQ"
      },
      "source": [
        "\r\n",
        "for layer in Base_Model.layers:\r\n",
        "    layer.trainable = False"
      ],
      "execution_count": 10,
      "outputs": []
    },
    {
      "cell_type": "code",
      "metadata": {
        "id": "AV4jAF2ehW4W"
      },
      "source": [
        "\r\n",
        "conn_layer = Base_Model.get_layer('conv5_block18_concat')\r\n",
        "conn_output = conn_layer.output\r\n",
        "x = conn_output \r\n",
        "x = Conv2D(512,(3,3),activation='relu')(x)\r\n",
        "x = Conv2D(512,(3,3),activation='relu')(x)\r\n",
        "x = BatchNormalization()(x)\r\n",
        "x = tf.keras.layers.GlobalAveragePooling2D()(x)\r\n",
        "x = Dense(512,activation='relu')(x)\r\n",
        "x = Dropout(0.1)(x)\r\n",
        "x = Dense(128,activation='relu')(x)\r\n",
        "predictions = Dense(8,activation='softmax')(x)"
      ],
      "execution_count": 11,
      "outputs": []
    },
    {
      "cell_type": "code",
      "metadata": {
        "id": "2fUvtVjThacl"
      },
      "source": [
        "model = tf.keras.Model(inputs=Base_Model.input, outputs=predictions)"
      ],
      "execution_count": 12,
      "outputs": []
    },
    {
      "cell_type": "code",
      "metadata": {
        "id": "rpIAfqwLhen-"
      },
      "source": [
        "model.compile(optimizer=tf.keras.optimizers.Adamax(lr=1e-2), \r\n",
        "              loss=tf.keras.losses.CategoricalCrossentropy(),\r\n",
        "              metrics=[tf.keras.metrics.CategoricalAccuracy(name='accuracy'),\r\n",
        "                       ]\r\n",
        "              )"
      ],
      "execution_count": 13,
      "outputs": []
    },
    {
      "cell_type": "code",
      "metadata": {
        "colab": {
          "base_uri": "https://localhost:8080/"
        },
        "id": "n__5xbrkhh6C",
        "outputId": "78217c31-39a3-4303-c988-b192e49d1897"
      },
      "source": [
        "try:\r\n",
        "  if not os.path.exists(base_dir+'model_saves'):\r\n",
        "    os.mkdir(model_save)\r\n",
        "except FileExistsError:\r\n",
        "  print('FileExists')"
      ],
      "execution_count": 14,
      "outputs": [
        {
          "output_type": "stream",
          "text": [
            "FileExists\n"
          ],
          "name": "stdout"
        }
      ]
    },
    {
      "cell_type": "code",
      "metadata": {
        "id": "LShP4lQ0hvDT"
      },
      "source": [
        "train_history_list = {'initial':[],'secondary':[]}\r\n",
        "val_history_list = {'initial':[],'secondary':[]}"
      ],
      "execution_count": 15,
      "outputs": []
    },
    {
      "cell_type": "code",
      "metadata": {
        "colab": {
          "base_uri": "https://localhost:8080/"
        },
        "id": "R2o0XGRXk8aE",
        "outputId": "fad5938d-d175-471f-a2ef-739cd31c02e4"
      },
      "source": [
        "\r\n",
        "for times in range(10):\r\n",
        "    history = model.fit(x=train_generator,\r\n",
        "                        epochs=5,\r\n",
        "                        verbose=1,\r\n",
        "                        )\r\n",
        "    \r\n",
        "    train_history_list['initial'].append(history)\r\n",
        "    \r\n",
        "    history = model.evaluate(x=val_generator,\r\n",
        "                             verbose=1,\r\n",
        "                             return_dict = True)\r\n",
        "    \r\n",
        "    val_history_list['initial'].append(history)\r\n",
        "\r\n",
        "    model.save_weights(model_save+str(times)+'_init.h5')"
      ],
      "execution_count": 16,
      "outputs": [
        {
          "output_type": "stream",
          "text": [
            "/usr/local/lib/python3.7/dist-packages/keras_preprocessing/image/image_data_generator.py:720: UserWarning: This ImageDataGenerator specifies `featurewise_center`, but it hasn't been fit on any training data. Fit it first by calling `.fit(numpy_data)`.\n",
            "  warnings.warn('This ImageDataGenerator specifies '\n",
            "/usr/local/lib/python3.7/dist-packages/keras_preprocessing/image/image_data_generator.py:728: UserWarning: This ImageDataGenerator specifies `featurewise_std_normalization`, but it hasn't been fit on any training data. Fit it first by calling `.fit(numpy_data)`.\n",
            "  warnings.warn('This ImageDataGenerator specifies '\n"
          ],
          "name": "stderr"
        },
        {
          "output_type": "stream",
          "text": [
            "Epoch 1/5\n",
            "175/175 [==============================] - 183s 819ms/step - loss: 1.1166 - accuracy: 0.5877\n",
            "Epoch 2/5\n",
            "175/175 [==============================] - 142s 812ms/step - loss: 0.4863 - accuracy: 0.8040\n",
            "Epoch 3/5\n",
            "175/175 [==============================] - 142s 812ms/step - loss: 0.3974 - accuracy: 0.8453\n",
            "Epoch 4/5\n",
            "175/175 [==============================] - 142s 810ms/step - loss: 0.3801 - accuracy: 0.8425\n",
            "Epoch 5/5\n",
            "175/175 [==============================] - 142s 810ms/step - loss: 0.3434 - accuracy: 0.8650\n",
            "38/38 [==============================] - 24s 569ms/step - loss: 0.5413 - accuracy: 0.7750\n",
            "Epoch 1/5\n",
            "175/175 [==============================] - 143s 815ms/step - loss: 0.3346 - accuracy: 0.8684\n",
            "Epoch 2/5\n",
            "175/175 [==============================] - 146s 835ms/step - loss: 0.3315 - accuracy: 0.8652\n",
            "Epoch 3/5\n",
            "175/175 [==============================] - 145s 828ms/step - loss: 0.3045 - accuracy: 0.8827\n",
            "Epoch 4/5\n",
            "175/175 [==============================] - 144s 823ms/step - loss: 0.3081 - accuracy: 0.8834\n",
            "Epoch 5/5\n",
            "175/175 [==============================] - 143s 816ms/step - loss: 0.3121 - accuracy: 0.8825\n",
            "38/38 [==============================] - 19s 507ms/step - loss: 3.2543 - accuracy: 0.4958\n",
            "Epoch 1/5\n",
            "175/175 [==============================] - 142s 809ms/step - loss: 0.2781 - accuracy: 0.8945\n",
            "Epoch 2/5\n",
            "175/175 [==============================] - 142s 808ms/step - loss: 0.2859 - accuracy: 0.8864\n",
            "Epoch 3/5\n",
            "175/175 [==============================] - 141s 807ms/step - loss: 0.2749 - accuracy: 0.8920\n",
            "Epoch 4/5\n",
            "175/175 [==============================] - 142s 809ms/step - loss: 0.2704 - accuracy: 0.8925\n",
            "Epoch 5/5\n",
            "175/175 [==============================] - 141s 806ms/step - loss: 0.2730 - accuracy: 0.8929\n",
            "38/38 [==============================] - 19s 506ms/step - loss: 0.8956 - accuracy: 0.7483\n",
            "Epoch 1/5\n",
            "175/175 [==============================] - 141s 804ms/step - loss: 0.2600 - accuracy: 0.8986\n",
            "Epoch 2/5\n",
            "175/175 [==============================] - 141s 806ms/step - loss: 0.2608 - accuracy: 0.8961\n",
            "Epoch 3/5\n",
            "175/175 [==============================] - 141s 805ms/step - loss: 0.2438 - accuracy: 0.9077\n",
            "Epoch 4/5\n",
            "175/175 [==============================] - 141s 806ms/step - loss: 0.2423 - accuracy: 0.9055\n",
            "Epoch 5/5\n",
            "175/175 [==============================] - 141s 806ms/step - loss: 0.2271 - accuracy: 0.9111\n",
            "38/38 [==============================] - 19s 503ms/step - loss: 1.3572 - accuracy: 0.6842\n",
            "Epoch 1/5\n",
            "175/175 [==============================] - 141s 805ms/step - loss: 0.2471 - accuracy: 0.9071\n",
            "Epoch 2/5\n",
            "175/175 [==============================] - 142s 810ms/step - loss: 0.2361 - accuracy: 0.9077\n",
            "Epoch 3/5\n",
            "175/175 [==============================] - 145s 829ms/step - loss: 0.2348 - accuracy: 0.9052\n",
            "Epoch 4/5\n",
            "175/175 [==============================] - 147s 841ms/step - loss: 0.2101 - accuracy: 0.9189\n",
            "Epoch 5/5\n",
            "175/175 [==============================] - 147s 838ms/step - loss: 0.2226 - accuracy: 0.9152\n",
            "38/38 [==============================] - 20s 525ms/step - loss: 0.4291 - accuracy: 0.8575\n",
            "Epoch 1/5\n",
            "175/175 [==============================] - 147s 837ms/step - loss: 0.2034 - accuracy: 0.9180\n",
            "Epoch 2/5\n",
            "175/175 [==============================] - 148s 842ms/step - loss: 0.2016 - accuracy: 0.9212\n",
            "Epoch 3/5\n",
            "175/175 [==============================] - 148s 847ms/step - loss: 0.1998 - accuracy: 0.9180\n",
            "Epoch 4/5\n",
            "175/175 [==============================] - 149s 849ms/step - loss: 0.2111 - accuracy: 0.9204\n",
            "Epoch 5/5\n",
            "175/175 [==============================] - 149s 853ms/step - loss: 0.2057 - accuracy: 0.9193\n",
            "38/38 [==============================] - 21s 536ms/step - loss: 0.6002 - accuracy: 0.8217\n",
            "Epoch 1/5\n",
            "175/175 [==============================] - 149s 851ms/step - loss: 0.1929 - accuracy: 0.9277\n",
            "Epoch 2/5\n",
            "175/175 [==============================] - 149s 852ms/step - loss: 0.1976 - accuracy: 0.9200\n",
            "Epoch 3/5\n",
            "175/175 [==============================] - 149s 851ms/step - loss: 0.1881 - accuracy: 0.9255\n",
            "Epoch 4/5\n",
            "175/175 [==============================] - 149s 854ms/step - loss: 0.1989 - accuracy: 0.9237\n",
            "Epoch 5/5\n",
            "175/175 [==============================] - 149s 850ms/step - loss: 0.1931 - accuracy: 0.9232\n",
            "38/38 [==============================] - 20s 537ms/step - loss: 0.3430 - accuracy: 0.8592\n",
            "Epoch 1/5\n",
            "175/175 [==============================] - 149s 849ms/step - loss: 0.1859 - accuracy: 0.9295\n",
            "Epoch 2/5\n",
            "175/175 [==============================] - 150s 855ms/step - loss: 0.2010 - accuracy: 0.9205\n",
            "Epoch 3/5\n",
            "175/175 [==============================] - 149s 851ms/step - loss: 0.1692 - accuracy: 0.9295\n",
            "Epoch 4/5\n",
            "175/175 [==============================] - 149s 851ms/step - loss: 0.1693 - accuracy: 0.9318\n",
            "Epoch 5/5\n",
            "175/175 [==============================] - 150s 856ms/step - loss: 0.1730 - accuracy: 0.9337\n",
            "38/38 [==============================] - 20s 534ms/step - loss: 0.6980 - accuracy: 0.8192\n",
            "Epoch 1/5\n",
            "175/175 [==============================] - 148s 845ms/step - loss: 0.1669 - accuracy: 0.9305\n",
            "Epoch 2/5\n",
            "175/175 [==============================] - 148s 842ms/step - loss: 0.1707 - accuracy: 0.9343\n",
            "Epoch 3/5\n",
            "175/175 [==============================] - 146s 834ms/step - loss: 0.1714 - accuracy: 0.9357\n",
            "Epoch 4/5\n",
            "175/175 [==============================] - 143s 818ms/step - loss: 0.1730 - accuracy: 0.9302\n",
            "Epoch 5/5\n",
            "175/175 [==============================] - 142s 811ms/step - loss: 0.1598 - accuracy: 0.9386\n",
            "38/38 [==============================] - 19s 502ms/step - loss: 0.4514 - accuracy: 0.8492\n",
            "Epoch 1/5\n",
            "175/175 [==============================] - 141s 806ms/step - loss: 0.1598 - accuracy: 0.9377\n",
            "Epoch 2/5\n",
            "175/175 [==============================] - 142s 812ms/step - loss: 0.1703 - accuracy: 0.9343\n",
            "Epoch 3/5\n",
            "175/175 [==============================] - 141s 808ms/step - loss: 0.1627 - accuracy: 0.9354\n",
            "Epoch 4/5\n",
            "175/175 [==============================] - 142s 810ms/step - loss: 0.1464 - accuracy: 0.9436\n",
            "Epoch 5/5\n",
            "175/175 [==============================] - 142s 809ms/step - loss: 0.1583 - accuracy: 0.9348\n",
            "38/38 [==============================] - 19s 502ms/step - loss: 0.7198 - accuracy: 0.7933\n"
          ],
          "name": "stdout"
        }
      ]
    },
    {
      "cell_type": "code",
      "metadata": {
        "colab": {
          "base_uri": "https://localhost:8080/"
        },
        "id": "fETxw6hmk-lL",
        "outputId": "c1bcd82d-0524-472c-ba81-5b0c214570e3"
      },
      "source": [
        "try:\r\n",
        "  if not os.path.exists(base_dir+'losses'):\r\n",
        "    os.mkdir(losses_dir)\r\n",
        "except FileExistsError:\r\n",
        "  print('Folder exists')"
      ],
      "execution_count": 17,
      "outputs": [
        {
          "output_type": "stream",
          "text": [
            "Folder exists\n"
          ],
          "name": "stdout"
        }
      ]
    },
    {
      "cell_type": "code",
      "metadata": {
        "id": "egyb7EYblB0U"
      },
      "source": [
        "\r\n",
        "train_history = []\r\n",
        "for each in train_history_list['initial']:\r\n",
        "  train_history.append(each.history)\r\n",
        "\r\n",
        "val_history = []\r\n",
        "for each in val_history_list['initial']:\r\n",
        "  val_history.append(each)"
      ],
      "execution_count": 18,
      "outputs": []
    },
    {
      "cell_type": "code",
      "metadata": {
        "id": "vTnZlkXxlD50"
      },
      "source": [
        "\r\n",
        "with open(losses_dir+'train_history.json','w') as f0:\r\n",
        "  json.dump(train_history,f0)\r\n",
        "\r\n",
        "with open(losses_dir+'val_history.json','w') as f0:\r\n",
        "  json.dump(val_history,f0)"
      ],
      "execution_count": 19,
      "outputs": []
    },
    {
      "cell_type": "code",
      "metadata": {
        "id": "jcoMxae1lIG6"
      },
      "source": [
        "for layer in model.layers:\r\n",
        "    layer.trainable = False"
      ],
      "execution_count": 20,
      "outputs": []
    },
    {
      "cell_type": "code",
      "metadata": {
        "id": "cze5-oRzlbWu"
      },
      "source": [
        "\r\n",
        "for layer in model.layers[150:]:\r\n",
        "    layer.trainable = True"
      ],
      "execution_count": 21,
      "outputs": []
    },
    {
      "cell_type": "code",
      "metadata": {
        "id": "a5iirJLrlhO2"
      },
      "source": [
        "\r\n",
        "train_history_list = {'initial':[],'secondary':[]}\r\n",
        "val_history_list = {'initial':[],'secondary':[]}"
      ],
      "execution_count": 22,
      "outputs": []
    },
    {
      "cell_type": "code",
      "metadata": {
        "id": "EqytunTdljC9"
      },
      "source": [
        "from_epoch = 10\r\n",
        "num_epochs = 50"
      ],
      "execution_count": 23,
      "outputs": []
    },
    {
      "cell_type": "code",
      "metadata": {
        "colab": {
          "base_uri": "https://localhost:8080/"
        },
        "id": "qb9cFNXVllNj",
        "outputId": "f9475cfb-5a70-4ca4-ca8d-3411696661c9"
      },
      "source": [
        "\r\n",
        "for times in range(10):\r\n",
        "    history = model.fit(x=train_generator,\r\n",
        "                        epochs=5,\r\n",
        "                        verbose=1,\r\n",
        "                        )\r\n",
        "    \r\n",
        "    train_history_list['secondary'].append(history)\r\n",
        "    \r\n",
        "    history = model.evaluate(x=val_generator,\r\n",
        "                             verbose=1,\r\n",
        "                             return_dict = True)\r\n",
        "    \r\n",
        "    val_history_list['secondary'].append(history)\r\n",
        "\r\n",
        "    model.save_weights(model_save+str(times)+'_secondary.h5')"
      ],
      "execution_count": 24,
      "outputs": [
        {
          "output_type": "stream",
          "text": [
            "/usr/local/lib/python3.7/dist-packages/keras_preprocessing/image/image_data_generator.py:720: UserWarning: This ImageDataGenerator specifies `featurewise_center`, but it hasn't been fit on any training data. Fit it first by calling `.fit(numpy_data)`.\n",
            "  warnings.warn('This ImageDataGenerator specifies '\n",
            "/usr/local/lib/python3.7/dist-packages/keras_preprocessing/image/image_data_generator.py:728: UserWarning: This ImageDataGenerator specifies `featurewise_std_normalization`, but it hasn't been fit on any training data. Fit it first by calling `.fit(numpy_data)`.\n",
            "  warnings.warn('This ImageDataGenerator specifies '\n"
          ],
          "name": "stderr"
        },
        {
          "output_type": "stream",
          "text": [
            "Epoch 1/5\n",
            "175/175 [==============================] - 141s 807ms/step - loss: 0.1494 - accuracy: 0.9445\n",
            "Epoch 2/5\n",
            "175/175 [==============================] - 141s 808ms/step - loss: 0.1479 - accuracy: 0.9411\n",
            "Epoch 3/5\n",
            "175/175 [==============================] - 142s 808ms/step - loss: 0.1570 - accuracy: 0.9389\n",
            "Epoch 4/5\n",
            "175/175 [==============================] - 141s 806ms/step - loss: 0.1435 - accuracy: 0.9420\n",
            "Epoch 5/5\n",
            "175/175 [==============================] - 142s 811ms/step - loss: 0.1526 - accuracy: 0.9388\n",
            "38/38 [==============================] - 19s 506ms/step - loss: 0.5147 - accuracy: 0.8333\n",
            "Epoch 1/5\n",
            "175/175 [==============================] - 142s 809ms/step - loss: 0.1372 - accuracy: 0.9430\n",
            "Epoch 2/5\n",
            "175/175 [==============================] - 142s 809ms/step - loss: 0.1453 - accuracy: 0.9446\n",
            "Epoch 3/5\n",
            "175/175 [==============================] - 141s 807ms/step - loss: 0.1448 - accuracy: 0.9429\n",
            "Epoch 4/5\n",
            "175/175 [==============================] - 141s 807ms/step - loss: 0.1425 - accuracy: 0.9438\n",
            "Epoch 5/5\n",
            "175/175 [==============================] - 141s 807ms/step - loss: 0.1383 - accuracy: 0.9455\n",
            "38/38 [==============================] - 19s 504ms/step - loss: 0.5855 - accuracy: 0.8283\n",
            "Epoch 1/5\n",
            "175/175 [==============================] - 142s 813ms/step - loss: 0.1324 - accuracy: 0.9452\n",
            "Epoch 2/5\n",
            "175/175 [==============================] - 142s 813ms/step - loss: 0.1323 - accuracy: 0.9468\n",
            "Epoch 3/5\n",
            "175/175 [==============================] - 142s 810ms/step - loss: 0.1391 - accuracy: 0.9434\n",
            "Epoch 4/5\n",
            "175/175 [==============================] - 142s 811ms/step - loss: 0.1306 - accuracy: 0.9480\n",
            "Epoch 5/5\n",
            "175/175 [==============================] - 141s 807ms/step - loss: 0.1379 - accuracy: 0.9466\n",
            "38/38 [==============================] - 19s 501ms/step - loss: 0.8242 - accuracy: 0.8050\n",
            "Epoch 1/5\n",
            "175/175 [==============================] - 141s 804ms/step - loss: 0.1321 - accuracy: 0.9502\n",
            "Epoch 2/5\n",
            "175/175 [==============================] - 141s 806ms/step - loss: 0.1316 - accuracy: 0.9527\n",
            "Epoch 3/5\n",
            "175/175 [==============================] - 141s 805ms/step - loss: 0.1346 - accuracy: 0.9455\n",
            "Epoch 4/5\n",
            "175/175 [==============================] - 141s 805ms/step - loss: 0.1263 - accuracy: 0.9534\n",
            "Epoch 5/5\n",
            "175/175 [==============================] - 141s 807ms/step - loss: 0.1256 - accuracy: 0.9498\n",
            "38/38 [==============================] - 19s 503ms/step - loss: 1.8735 - accuracy: 0.7267\n",
            "Epoch 1/5\n",
            "175/175 [==============================] - 141s 803ms/step - loss: 0.1195 - accuracy: 0.9534\n",
            "Epoch 2/5\n",
            "175/175 [==============================] - 142s 811ms/step - loss: 0.1162 - accuracy: 0.9534\n",
            "Epoch 3/5\n",
            "175/175 [==============================] - 141s 807ms/step - loss: 0.1274 - accuracy: 0.9523\n",
            "Epoch 4/5\n",
            "175/175 [==============================] - 141s 807ms/step - loss: 0.1249 - accuracy: 0.9516\n",
            "Epoch 5/5\n",
            "175/175 [==============================] - 141s 805ms/step - loss: 0.1263 - accuracy: 0.9489\n",
            "38/38 [==============================] - 19s 503ms/step - loss: 0.9415 - accuracy: 0.7675\n",
            "Epoch 1/5\n",
            "175/175 [==============================] - 141s 804ms/step - loss: 0.1254 - accuracy: 0.9518\n",
            "Epoch 2/5\n",
            "175/175 [==============================] - 141s 805ms/step - loss: 0.1117 - accuracy: 0.9545\n",
            "Epoch 3/5\n",
            "175/175 [==============================] - 141s 805ms/step - loss: 0.1221 - accuracy: 0.9559\n",
            "Epoch 4/5\n",
            "175/175 [==============================] - 141s 808ms/step - loss: 0.1138 - accuracy: 0.9529\n",
            "Epoch 5/5\n",
            "175/175 [==============================] - 141s 805ms/step - loss: 0.1198 - accuracy: 0.9543\n",
            "38/38 [==============================] - 19s 503ms/step - loss: 0.6006 - accuracy: 0.8425\n",
            "Epoch 1/5\n",
            "175/175 [==============================] - 141s 806ms/step - loss: 0.1147 - accuracy: 0.9575\n",
            "Epoch 2/5\n",
            "175/175 [==============================] - 141s 806ms/step - loss: 0.1091 - accuracy: 0.9577\n",
            "Epoch 3/5\n",
            "175/175 [==============================] - 141s 806ms/step - loss: 0.1055 - accuracy: 0.9564\n",
            "Epoch 4/5\n",
            "175/175 [==============================] - 142s 811ms/step - loss: 0.1066 - accuracy: 0.9602\n",
            "Epoch 5/5\n",
            "175/175 [==============================] - 141s 807ms/step - loss: 0.1021 - accuracy: 0.9607\n",
            "38/38 [==============================] - 19s 502ms/step - loss: 0.4292 - accuracy: 0.8625\n",
            "Epoch 1/5\n",
            "175/175 [==============================] - 141s 806ms/step - loss: 0.1160 - accuracy: 0.9568\n",
            "Epoch 2/5\n",
            "175/175 [==============================] - 141s 805ms/step - loss: 0.1133 - accuracy: 0.9579\n",
            "Epoch 3/5\n",
            "175/175 [==============================] - 141s 805ms/step - loss: 0.1139 - accuracy: 0.9595\n",
            "Epoch 4/5\n",
            "175/175 [==============================] - 141s 805ms/step - loss: 0.1022 - accuracy: 0.9611\n",
            "Epoch 5/5\n",
            "175/175 [==============================] - 141s 804ms/step - loss: 0.1080 - accuracy: 0.9570\n",
            "38/38 [==============================] - 19s 503ms/step - loss: 0.9056 - accuracy: 0.7933\n",
            "Epoch 1/5\n",
            "175/175 [==============================] - 141s 804ms/step - loss: 0.1013 - accuracy: 0.9584\n",
            "Epoch 2/5\n",
            "175/175 [==============================] - 141s 804ms/step - loss: 0.1132 - accuracy: 0.9557\n",
            "Epoch 3/5\n",
            "175/175 [==============================] - 141s 804ms/step - loss: 0.0964 - accuracy: 0.9598\n",
            "Epoch 4/5\n",
            "175/175 [==============================] - 141s 804ms/step - loss: 0.1002 - accuracy: 0.9643\n",
            "Epoch 5/5\n",
            "175/175 [==============================] - 141s 803ms/step - loss: 0.0976 - accuracy: 0.9613\n",
            "38/38 [==============================] - 19s 500ms/step - loss: 0.7201 - accuracy: 0.8392\n",
            "Epoch 1/5\n",
            "175/175 [==============================] - 141s 803ms/step - loss: 0.1004 - accuracy: 0.9630\n",
            "Epoch 2/5\n",
            "175/175 [==============================] - 141s 803ms/step - loss: 0.1018 - accuracy: 0.9614\n",
            "Epoch 3/5\n",
            "175/175 [==============================] - 141s 802ms/step - loss: 0.0913 - accuracy: 0.9630\n",
            "Epoch 4/5\n",
            "175/175 [==============================] - 141s 803ms/step - loss: 0.0992 - accuracy: 0.9620\n",
            "Epoch 5/5\n",
            "175/175 [==============================] - 141s 803ms/step - loss: 0.0829 - accuracy: 0.9693\n",
            "38/38 [==============================] - 19s 505ms/step - loss: 0.9930 - accuracy: 0.8050\n"
          ],
          "name": "stdout"
        }
      ]
    },
    {
      "cell_type": "code",
      "metadata": {
        "id": "RQ7EofbGlpYR"
      },
      "source": [
        "\r\n",
        "train_history = []\r\n",
        "for each in train_history_list['secondary']:\r\n",
        "  train_history.append(each.history)\r\n",
        "\r\n",
        "val_history = []\r\n",
        "for each in val_history_list['secondary']:\r\n",
        "  val_history.append(each)"
      ],
      "execution_count": 25,
      "outputs": []
    },
    {
      "cell_type": "code",
      "metadata": {
        "id": "67x_pDNOltN2"
      },
      "source": [
        "\r\n",
        "with open(losses_dir+'train_history_secondary2.json','w') as f0:\r\n",
        "  json.dump(train_history,f0)\r\n",
        "\r\n",
        "with open(losses_dir+'val_history_secondary2.json','w') as f0:\r\n",
        "  json.dump(val_history,f0)"
      ],
      "execution_count": 26,
      "outputs": []
    },
    {
      "cell_type": "code",
      "metadata": {
        "id": "KZqUVr2-lwJd"
      },
      "source": [
        "train_loss = []\r\n",
        "train_accuracy = []\r\n",
        "val_accuracy = []\r\n",
        "val_loss = []\r\n",
        "\r\n",
        "with open(losses_dir+'train_history.json','r') as f0:\r\n",
        "  file0 = json.load(f0)\r\n",
        "\r\n",
        "for each in file0:\r\n",
        "    train_loss+=each['loss']\r\n",
        "    train_accuracy+=each['accuracy']\r\n",
        "\r\n",
        "\r\n",
        "with open(losses_dir+'train_history_secondary2.json','r') as f0:\r\n",
        "  file2 = json.load(f0)\r\n",
        "\r\n",
        "for each in file2:\r\n",
        "    train_loss+=each['loss']\r\n",
        "    train_accuracy+=each['accuracy']\r\n",
        "    \r\n",
        "with open(losses_dir+'val_history.json','r') as f0:\r\n",
        "  file3 = json.load(f0)\r\n",
        "\r\n",
        "for each in file3:\r\n",
        "    val_loss.append(each['loss'])\r\n",
        "    val_accuracy.append(each['accuracy'])\r\n",
        "    \r\n",
        "\r\n",
        "with open(losses_dir+'val_history_secondary2.json','r') as f0:\r\n",
        "  file5 = json.load(f0)\r\n",
        "\r\n",
        "for each in file5:\r\n",
        "    val_loss.append(each['loss'])\r\n",
        "    val_accuracy.append(each['accuracy'])"
      ],
      "execution_count": 27,
      "outputs": []
    },
    {
      "cell_type": "code",
      "metadata": {
        "colab": {
          "base_uri": "https://localhost:8080/",
          "height": 301
        },
        "id": "NjyCI4aml0Ev",
        "outputId": "599ba045-a3d0-4ef5-87c6-a20fddbdcce4"
      },
      "source": [
        "from scipy.interpolate import interp1d\r\n",
        "\r\n",
        "plt.plot(list(range(len(train_accuracy))),train_accuracy,'b',label='training accuracy')\r\n",
        "\r\n",
        "val_x = 5*np.array(range(len(val_accuracy)))\r\n",
        "val_y = val_accuracy\r\n",
        "val_x_new = np.linspace(val_x.min(), val_x.max(),1500)\r\n",
        "f = interp1d(val_x, val_y, kind='quadratic')\r\n",
        "y_smooth = f(val_x_new)\r\n",
        "plt.plot(val_x_new,y_smooth,'g',label='val accuracy')\r\n",
        "\r\n",
        "plt.title('Training Accuracy Vs Validation Accuracy')\r\n",
        "plt.legend(loc=0)\r\n",
        "plt.figure()\r\n",
        "\r\n",
        "\r\n",
        "plt.show()"
      ],
      "execution_count": 38,
      "outputs": [
        {
          "output_type": "display_data",
          "data": {
            "image/png": "[encoded data removed]",
            "text/plain": [
              "<Figure size 432x288 with 1 Axes>"
            ]
          },
          "metadata": {
            "tags": [],
            "needs_background": "light"
          }
        },
        {
          "output_type": "display_data",
          "data": {
            "text/plain": [
              "<Figure size 432x288 with 0 Axes>"
            ]
          },
          "metadata": {
            "tags": []
          }
        }
      ]
    }
  ]
}