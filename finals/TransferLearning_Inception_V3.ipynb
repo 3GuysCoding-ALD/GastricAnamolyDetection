{
  "nbformat": 4,
  "nbformat_minor": 0,
  "metadata": {
    "colab": {
      "name": "Inception_V3.ipynb",
      "provenance": [],
      "collapsed_sections": []
    },
    "kernelspec": {
      "name": "python3",
      "display_name": "Python 3"
    },
    "accelerator": "GPU"
  },
  "cells": [
    {
      "cell_type": "code",
      "metadata": {
        "colab": {
          "base_uri": "https://localhost:8080/"
        },
        "id": "2FCPLEAqZ6MS",
        "outputId": "986e47a8-b06c-4dae-d67d-f4a9d1f2c2c0"
      },
      "source": [
        "import os\r\n",
        "import cv2\r\n",
        "import zipfile\r\n",
        "import numpy as np\r\n",
        "import tensorflow as tf\r\n",
        "import matplotlib.pyplot as plt\r\n",
        "from tensorflow.keras import applications\r\n",
        "from tensorflow.keras import optimizers\r\n",
        "from sklearn.model_selection import train_test_split\r\n",
        "from google.colab import drive\r\n",
        "drive.mount('/content/drive')"
      ],
      "execution_count": 1,
      "outputs": [
        {
          "output_type": "stream",
          "text": [
            "Mounted at /content/drive\n"
          ],
          "name": "stdout"
        }
      ]
    },
    {
      "cell_type": "code",
      "metadata": {
        "id": "Awt96SbuaINE"
      },
      "source": [
        "dataset_zip_local = '/content/drive/My Drive/kvasir-dataset-v2.zip'\r\n",
        "zip_ref = zipfile.ZipFile(dataset_zip_local, 'r')\r\n",
        "zip_ref.extractall('/tmp')\r\n",
        "zip_ref.close()"
      ],
      "execution_count": 2,
      "outputs": []
    },
    {
      "cell_type": "code",
      "metadata": {
        "id": "tE1Z26bIaKit"
      },
      "source": [
        "dataset_dir='/tmp/kvasir-dataset-v2'\r\n",
        "category_lst=['normal-z-line',\r\n",
        "              'normal-pylorus',\r\n",
        "              'normal-cecum',\r\n",
        "              'esophagitis',\r\n",
        "              'polyps',\r\n",
        "              'ulcerative-colitis',\r\n",
        "              'dyed-lifted-polyps',\r\n",
        "              'dyed-resection-margins']"
      ],
      "execution_count": 3,
      "outputs": []
    },
    {
      "cell_type": "code",
      "metadata": {
        "id": "Urh4IW1aaMFw"
      },
      "source": [
        "def process_dataset(category_lst):\r\n",
        "  X= []\r\n",
        "  Y = []\r\n",
        "  for category in category_lst:\r\n",
        "    category_path = os.path.join(dataset_dir,category)\r\n",
        "    for image in os.listdir(category_path):\r\n",
        "      try:\r\n",
        "        image_path = os.path.join(category_path,image)\r\n",
        "        image_arr = cv2.imread(image_path)\r\n",
        "        resized_image_arr = cv2.resize(image_arr,(224,224))\r\n",
        "        X.append(resized_image_arr)\r\n",
        "        Y.append(category_lst.index(category))\r\n",
        "      except Exception as e:\r\n",
        "        print(e)\r\n",
        "        pass\r\n",
        "  return X,Y"
      ],
      "execution_count": 4,
      "outputs": []
    },
    {
      "cell_type": "code",
      "metadata": {
        "colab": {
          "base_uri": "https://localhost:8080/"
        },
        "id": "7rFLDsyVaOIm",
        "outputId": "c0c8602a-822c-48e1-ec87-a8d56aa73236"
      },
      "source": [
        "X,Y = process_dataset(category_lst)\r\n",
        "X = np.array(X, dtype=np.float32)\r\n",
        "X /= 255.0\r\n",
        "print(X.shape)"
      ],
      "execution_count": 5,
      "outputs": [
        {
          "output_type": "stream",
          "text": [
            "(8000, 224, 224, 3)\n"
          ],
          "name": "stdout"
        }
      ]
    },
    {
      "cell_type": "code",
      "metadata": {
        "id": "c3UgIoF4aQLe"
      },
      "source": [
        "X_train,X_test,Y_train,Y_test = train_test_split(X,Y,test_size=0.2,random_state=42)\r\n",
        "\r\n",
        "Y_train = tf.keras.utils.to_categorical(Y_train, 8)\r\n",
        "Y_test = tf.keras.utils.to_categorical(Y_test, 8)"
      ],
      "execution_count": 6,
      "outputs": []
    },
    {
      "cell_type": "code",
      "metadata": {
        "id": "xxJ-WvG0aSH5",
        "colab": {
          "base_uri": "https://localhost:8080/"
        },
        "outputId": "22853841-2637-4232-b9ed-ffd2ece20eb7"
      },
      "source": [
        "pre_trained_model = applications.InceptionV3(weights = \"imagenet\", include_top=False, input_shape = (224, 224, 3))"
      ],
      "execution_count": 7,
      "outputs": [
        {
          "output_type": "stream",
          "text": [
            "Downloading data from https://storage.googleapis.com/tensorflow/keras-applications/inception_v3/inception_v3_weights_tf_dim_ordering_tf_kernels_notop.h5\n",
            "87916544/87910968 [==============================] - 3s 0us/step\n"
          ],
          "name": "stdout"
        }
      ]
    },
    {
      "cell_type": "code",
      "metadata": {
        "id": "I6h9N8JBaUsq"
      },
      "source": [
        "for layer in pre_trained_model.layers[len(pre_trained_model.layers)-30:]:\r\n",
        "    layer.trainable = True\r\n",
        "\r\n",
        "X = pre_trained_model.output\r\n",
        "X = tf.keras.layers.Flatten()(X)\r\n",
        "X = tf.keras.layers.Dense(1024, activation=\"relu\")(X)\r\n",
        "X = tf.keras.layers.Dense(512, activation=\"relu\")(X)\r\n",
        "X = tf.keras.layers.Dropout(0.4)(X)\r\n",
        "\r\n",
        "\r\n",
        "outputs = tf.keras.layers.Dense(8, activation=\"softmax\")(X)   \r\n",
        "model = tf.keras.models.Model(pre_trained_model.input,outputs)\r\n",
        "\r\n",
        "model.compile(loss = \"categorical_crossentropy\",optimizer = optimizers.SGD(lr=0.0001, momentum=0.8),metrics=[\"accuracy\"])"
      ],
      "execution_count": 8,
      "outputs": []
    },
    {
      "cell_type": "code",
      "metadata": {
        "colab": {
          "base_uri": "https://localhost:8080/"
        },
        "id": "MaLLW_CQaW-p",
        "outputId": "950b8f8c-1d47-440a-a0bb-0b3b3acf6286"
      },
      "source": [
        "hist=model.fit(X_train,Y_train,\r\n",
        "                  batch_size=32,\r\n",
        "                  epochs=50,\r\n",
        "                  verbose=1,\r\n",
        "                  validation_data=(X_test, Y_test))"
      ],
      "execution_count": 9,
      "outputs": [
        {
          "output_type": "stream",
          "text": [
            "Epoch 1/50\n",
            "200/200 [==============================] - 171s 656ms/step - loss: 1.9397 - accuracy: 0.2643 - val_loss: 0.9504 - val_accuracy: 0.6662\n",
            "Epoch 2/50\n",
            "200/200 [==============================] - 129s 644ms/step - loss: 0.9429 - accuracy: 0.6620 - val_loss: 0.6231 - val_accuracy: 0.7713\n",
            "Epoch 3/50\n",
            "200/200 [==============================] - 129s 643ms/step - loss: 0.6048 - accuracy: 0.7746 - val_loss: 0.5005 - val_accuracy: 0.8069\n",
            "Epoch 4/50\n",
            "200/200 [==============================] - 129s 644ms/step - loss: 0.4592 - accuracy: 0.8371 - val_loss: 0.4413 - val_accuracy: 0.8225\n",
            "Epoch 5/50\n",
            "200/200 [==============================] - 129s 645ms/step - loss: 0.3580 - accuracy: 0.8718 - val_loss: 0.4148 - val_accuracy: 0.8288\n",
            "Epoch 6/50\n",
            "200/200 [==============================] - 129s 645ms/step - loss: 0.3008 - accuracy: 0.8856 - val_loss: 0.3984 - val_accuracy: 0.8388\n",
            "Epoch 7/50\n",
            "200/200 [==============================] - 129s 645ms/step - loss: 0.2637 - accuracy: 0.9004 - val_loss: 0.3914 - val_accuracy: 0.8519\n",
            "Epoch 8/50\n",
            "200/200 [==============================] - 128s 641ms/step - loss: 0.2186 - accuracy: 0.9186 - val_loss: 0.3798 - val_accuracy: 0.8500\n",
            "Epoch 9/50\n",
            "200/200 [==============================] - 129s 644ms/step - loss: 0.1961 - accuracy: 0.9284 - val_loss: 0.3785 - val_accuracy: 0.8594\n",
            "Epoch 10/50\n",
            "200/200 [==============================] - 129s 644ms/step - loss: 0.1763 - accuracy: 0.9344 - val_loss: 0.3767 - val_accuracy: 0.8581\n",
            "Epoch 11/50\n",
            "200/200 [==============================] - 129s 643ms/step - loss: 0.1488 - accuracy: 0.9480 - val_loss: 0.3707 - val_accuracy: 0.8631\n",
            "Epoch 12/50\n",
            "200/200 [==============================] - 129s 645ms/step - loss: 0.1328 - accuracy: 0.9523 - val_loss: 0.3783 - val_accuracy: 0.8606\n",
            "Epoch 13/50\n",
            "200/200 [==============================] - 129s 645ms/step - loss: 0.1121 - accuracy: 0.9667 - val_loss: 0.3675 - val_accuracy: 0.8656\n",
            "Epoch 14/50\n",
            "200/200 [==============================] - 129s 645ms/step - loss: 0.1077 - accuracy: 0.9650 - val_loss: 0.3733 - val_accuracy: 0.8687\n",
            "Epoch 15/50\n",
            "200/200 [==============================] - 129s 645ms/step - loss: 0.0904 - accuracy: 0.9705 - val_loss: 0.3722 - val_accuracy: 0.8712\n",
            "Epoch 16/50\n",
            "200/200 [==============================] - 128s 642ms/step - loss: 0.0784 - accuracy: 0.9773 - val_loss: 0.3811 - val_accuracy: 0.8644\n",
            "Epoch 17/50\n",
            "200/200 [==============================] - 129s 645ms/step - loss: 0.0825 - accuracy: 0.9752 - val_loss: 0.3764 - val_accuracy: 0.8731\n",
            "Epoch 18/50\n",
            "200/200 [==============================] - 129s 645ms/step - loss: 0.0748 - accuracy: 0.9773 - val_loss: 0.4002 - val_accuracy: 0.8656\n",
            "Epoch 19/50\n",
            "200/200 [==============================] - 129s 643ms/step - loss: 0.0628 - accuracy: 0.9811 - val_loss: 0.3884 - val_accuracy: 0.8719\n",
            "Epoch 20/50\n",
            "200/200 [==============================] - 129s 645ms/step - loss: 0.0536 - accuracy: 0.9839 - val_loss: 0.3850 - val_accuracy: 0.8694\n",
            "Epoch 21/50\n",
            "200/200 [==============================] - 129s 645ms/step - loss: 0.0474 - accuracy: 0.9869 - val_loss: 0.3897 - val_accuracy: 0.8725\n",
            "Epoch 22/50\n",
            "200/200 [==============================] - 129s 645ms/step - loss: 0.0496 - accuracy: 0.9875 - val_loss: 0.3939 - val_accuracy: 0.8712\n",
            "Epoch 23/50\n",
            "200/200 [==============================] - 129s 645ms/step - loss: 0.0449 - accuracy: 0.9868 - val_loss: 0.4040 - val_accuracy: 0.8763\n",
            "Epoch 24/50\n",
            "200/200 [==============================] - 128s 642ms/step - loss: 0.0479 - accuracy: 0.9859 - val_loss: 0.4030 - val_accuracy: 0.8763\n",
            "Epoch 25/50\n",
            "200/200 [==============================] - 129s 645ms/step - loss: 0.0389 - accuracy: 0.9904 - val_loss: 0.4078 - val_accuracy: 0.8719\n",
            "Epoch 26/50\n",
            "200/200 [==============================] - 129s 645ms/step - loss: 0.0355 - accuracy: 0.9919 - val_loss: 0.4130 - val_accuracy: 0.8731\n",
            "Epoch 27/50\n",
            "200/200 [==============================] - 129s 644ms/step - loss: 0.0410 - accuracy: 0.9897 - val_loss: 0.4142 - val_accuracy: 0.8763\n",
            "Epoch 28/50\n",
            "200/200 [==============================] - 129s 645ms/step - loss: 0.0327 - accuracy: 0.9923 - val_loss: 0.4206 - val_accuracy: 0.8806\n",
            "Epoch 29/50\n",
            "200/200 [==============================] - 129s 645ms/step - loss: 0.0280 - accuracy: 0.9928 - val_loss: 0.4223 - val_accuracy: 0.8756\n",
            "Epoch 30/50\n",
            "200/200 [==============================] - 129s 645ms/step - loss: 0.0225 - accuracy: 0.9948 - val_loss: 0.4287 - val_accuracy: 0.8788\n",
            "Epoch 31/50\n",
            "200/200 [==============================] - 129s 646ms/step - loss: 0.0253 - accuracy: 0.9929 - val_loss: 0.4263 - val_accuracy: 0.8756\n",
            "Epoch 32/50\n",
            "200/200 [==============================] - 128s 642ms/step - loss: 0.0252 - accuracy: 0.9931 - val_loss: 0.4327 - val_accuracy: 0.8756\n",
            "Epoch 33/50\n",
            "200/200 [==============================] - 129s 644ms/step - loss: 0.0208 - accuracy: 0.9950 - val_loss: 0.4426 - val_accuracy: 0.8737\n",
            "Epoch 34/50\n",
            "200/200 [==============================] - 129s 645ms/step - loss: 0.0212 - accuracy: 0.9946 - val_loss: 0.4513 - val_accuracy: 0.8756\n",
            "Epoch 35/50\n",
            "200/200 [==============================] - 129s 644ms/step - loss: 0.0242 - accuracy: 0.9926 - val_loss: 0.4507 - val_accuracy: 0.8744\n",
            "Epoch 36/50\n",
            "200/200 [==============================] - 129s 646ms/step - loss: 0.0244 - accuracy: 0.9918 - val_loss: 0.4481 - val_accuracy: 0.8763\n",
            "Epoch 37/50\n",
            "200/200 [==============================] - 129s 645ms/step - loss: 0.0151 - accuracy: 0.9972 - val_loss: 0.4367 - val_accuracy: 0.8794\n",
            "Epoch 38/50\n",
            "200/200 [==============================] - 129s 645ms/step - loss: 0.0152 - accuracy: 0.9972 - val_loss: 0.4429 - val_accuracy: 0.8763\n",
            "Epoch 39/50\n",
            "200/200 [==============================] - 129s 645ms/step - loss: 0.0142 - accuracy: 0.9975 - val_loss: 0.4358 - val_accuracy: 0.8806\n",
            "Epoch 40/50\n",
            "200/200 [==============================] - 128s 642ms/step - loss: 0.0153 - accuracy: 0.9963 - val_loss: 0.4433 - val_accuracy: 0.8819\n",
            "Epoch 41/50\n",
            "200/200 [==============================] - 129s 645ms/step - loss: 0.0167 - accuracy: 0.9966 - val_loss: 0.4583 - val_accuracy: 0.8750\n",
            "Epoch 42/50\n",
            "200/200 [==============================] - 129s 645ms/step - loss: 0.0157 - accuracy: 0.9958 - val_loss: 0.4686 - val_accuracy: 0.8763\n",
            "Epoch 43/50\n",
            "200/200 [==============================] - 129s 644ms/step - loss: 0.0151 - accuracy: 0.9961 - val_loss: 0.4614 - val_accuracy: 0.8794\n",
            "Epoch 44/50\n",
            "200/200 [==============================] - 129s 645ms/step - loss: 0.0162 - accuracy: 0.9963 - val_loss: 0.4546 - val_accuracy: 0.8806\n",
            "Epoch 45/50\n",
            "200/200 [==============================] - 129s 645ms/step - loss: 0.0121 - accuracy: 0.9975 - val_loss: 0.4629 - val_accuracy: 0.8831\n",
            "Epoch 46/50\n",
            "200/200 [==============================] - 129s 645ms/step - loss: 0.0141 - accuracy: 0.9970 - val_loss: 0.4750 - val_accuracy: 0.8731\n",
            "Epoch 47/50\n",
            "200/200 [==============================] - 129s 645ms/step - loss: 0.0128 - accuracy: 0.9976 - val_loss: 0.4714 - val_accuracy: 0.8763\n",
            "Epoch 48/50\n",
            "200/200 [==============================] - 128s 641ms/step - loss: 0.0121 - accuracy: 0.9967 - val_loss: 0.4731 - val_accuracy: 0.8794\n",
            "Epoch 49/50\n",
            "200/200 [==============================] - 129s 645ms/step - loss: 0.0153 - accuracy: 0.9960 - val_loss: 0.4671 - val_accuracy: 0.8806\n",
            "Epoch 50/50\n",
            "200/200 [==============================] - 129s 644ms/step - loss: 0.0103 - accuracy: 0.9975 - val_loss: 0.4704 - val_accuracy: 0.8788\n"
          ],
          "name": "stdout"
        }
      ]
    },
    {
      "cell_type": "code",
      "metadata": {
        "id": "VWLukeEPaY1F",
        "colab": {
          "base_uri": "https://localhost:8080/",
          "height": 298
        },
        "outputId": "90e278b6-6d21-42d4-f2c9-4e9b36794649"
      },
      "source": [
        "model.save('inception-v3-weights.h5')\r\n",
        "\r\n",
        "epochs = range(len(hist.history['accuracy']))\r\n",
        "\r\n",
        "plt.plot(epochs, hist.history['accuracy'] , 'b', label='Training accuracy')\r\n",
        "plt.plot(epochs, hist.history['val_accuracy'] , 'g', label='Validation accuracy')\r\n",
        "\r\n",
        "plt.title('Training Accuracy Vs Validation Accuracy')\r\n",
        "plt.legend(loc=0)\r\n",
        "plt.figure()\r\n",
        "\r\n",
        "\r\n",
        "plt.show()"
      ],
      "execution_count": 10,
      "outputs": [
        {
          "output_type": "display_data",
          "data": {
            "image/png": "[encoded data removed]",
            "text/plain": [
              "<Figure size 432x288 with 1 Axes>"
            ]
          },
          "metadata": {
            "tags": [],
            "needs_background": "light"
          }
        },
        {
          "output_type": "display_data",
          "data": {
            "text/plain": [
              "<Figure size 432x288 with 0 Axes>"
            ]
          },
          "metadata": {
            "tags": []
          }
        }
      ]
    }
  ]
}