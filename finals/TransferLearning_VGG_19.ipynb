{
  "nbformat": 4,
  "nbformat_minor": 0,
  "metadata": {
    "colab": {
      "name": "VGG 19-localzip.ipynb",
      "provenance": []
    },
    "kernelspec": {
      "name": "python3",
      "display_name": "Python 3"
    },
    "accelerator": "GPU"
  },
  "cells": [
    {
      "cell_type": "code",
      "metadata": {
        "colab": {
          "base_uri": "https://localhost:8080/"
        },
        "id": "HP8Mr9cW0k9B",
        "outputId": "0f498f03-4716-46c1-a5e9-df7bcfec12f8"
      },
      "source": [
        "import os\r\n",
        "import cv2\r\n",
        "import zipfile\r\n",
        "import numpy as np\r\n",
        "import tensorflow as tf\r\n",
        "import matplotlib.pyplot as plt\r\n",
        "from tensorflow.keras import applications\r\n",
        "from tensorflow.keras import optimizers\r\n",
        "from sklearn.model_selection import train_test_split\r\n",
        "from google.colab import drive\r\n",
        "drive.mount('/content/drive')"
      ],
      "execution_count": 1,
      "outputs": [
        {
          "output_type": "stream",
          "text": [
            "Mounted at /content/drive\n"
          ],
          "name": "stdout"
        }
      ]
    },
    {
      "cell_type": "code",
      "metadata": {
        "id": "rPaYUcmc01Hp"
      },
      "source": [
        "dataset_zip_local = '/content/drive/My Drive/kvasir-dataset-v2.zip'\r\n",
        "zip_ref = zipfile.ZipFile(dataset_zip_local, 'r')\r\n",
        "zip_ref.extractall('/tmp')\r\n",
        "zip_ref.close()"
      ],
      "execution_count": 2,
      "outputs": []
    },
    {
      "cell_type": "code",
      "metadata": {
        "id": "tKvCPJ1P03GO"
      },
      "source": [
        "dataset_dir='/tmp/kvasir-dataset-v2'\r\n",
        "category_lst=['normal-z-line',\r\n",
        "              'normal-pylorus',\r\n",
        "              'normal-cecum',\r\n",
        "              'esophagitis',\r\n",
        "              'polyps',\r\n",
        "              'ulcerative-colitis',\r\n",
        "              'dyed-lifted-polyps',\r\n",
        "              'dyed-resection-margins']"
      ],
      "execution_count": 3,
      "outputs": []
    },
    {
      "cell_type": "code",
      "metadata": {
        "id": "YNzyLET005uC"
      },
      "source": [
        "def process_dataset(category_lst):\r\n",
        "  X= []\r\n",
        "  Y = []\r\n",
        "  for category in category_lst:\r\n",
        "    category_path = os.path.join(dataset_dir,category)\r\n",
        "    for image in os.listdir(category_path):\r\n",
        "      try:\r\n",
        "        image_path = os.path.join(category_path,image)\r\n",
        "        image_arr = cv2.imread(image_path)\r\n",
        "        resized_image_arr = cv2.resize(image_arr,(224,224))\r\n",
        "        X.append(resized_image_arr)\r\n",
        "        Y.append(category_lst.index(category))\r\n",
        "      except Exception as e:\r\n",
        "        print(e)\r\n",
        "        pass\r\n",
        "  return X,Y"
      ],
      "execution_count": 4,
      "outputs": []
    },
    {
      "cell_type": "code",
      "metadata": {
        "colab": {
          "base_uri": "https://localhost:8080/"
        },
        "id": "LhNioOeU08Gs",
        "outputId": "a826a94a-460f-4bef-c256-8a6d374bcb28"
      },
      "source": [
        "X,Y = process_dataset(category_lst)\r\n",
        "X = np.array(X, dtype=np.float32)\r\n",
        "X /= 255.0\r\n",
        "print(X.shape)"
      ],
      "execution_count": 5,
      "outputs": [
        {
          "output_type": "stream",
          "text": [
            "(8000, 224, 224, 3)\n"
          ],
          "name": "stdout"
        }
      ]
    },
    {
      "cell_type": "code",
      "metadata": {
        "id": "rP0DhbaZ0_dY"
      },
      "source": [
        "X_train,X_test,Y_train,Y_test = train_test_split(X,Y,test_size=0.2,random_state=42)\r\n",
        "\r\n",
        "Y_train = tf.keras.utils.to_categorical(Y_train, 8)\r\n",
        "Y_test = tf.keras.utils.to_categorical(Y_test, 8)"
      ],
      "execution_count": 6,
      "outputs": []
    },
    {
      "cell_type": "code",
      "metadata": {
        "id": "X4YkNDCb1Cax",
        "colab": {
          "base_uri": "https://localhost:8080/"
        },
        "outputId": "635629b7-9b5f-4e75-9120-60ed22b871c5"
      },
      "source": [
        "pre_trained_model = applications.VGG19(weights = \"imagenet\", include_top=False, input_shape = (224, 224, 3))"
      ],
      "execution_count": 7,
      "outputs": [
        {
          "output_type": "stream",
          "text": [
            "Downloading data from https://storage.googleapis.com/tensorflow/keras-applications/vgg19/vgg19_weights_tf_dim_ordering_tf_kernels_notop.h5\n",
            "80142336/80134624 [==============================] - 1s 0us/step\n"
          ],
          "name": "stdout"
        }
      ]
    },
    {
      "cell_type": "code",
      "metadata": {
        "id": "ue0J2k_B1D91"
      },
      "source": [
        "for layer in pre_trained_model.layers[len(pre_trained_model.layers)-30:]:\r\n",
        "    layer.trainable = True\r\n",
        "\r\n",
        "X = pre_trained_model.output\r\n",
        "X = tf.keras.layers.Flatten()(X)\r\n",
        "X = tf.keras.layers.Dense(1024, activation=\"relu\")(X)\r\n",
        "X = tf.keras.layers.Dense(512, activation=\"relu\")(X)\r\n",
        "X = tf.keras.layers.Dropout(0.4)(X)\r\n",
        "\r\n",
        "\r\n",
        "outputs = tf.keras.layers.Dense(8, activation=\"softmax\")(X)   \r\n",
        "model = tf.keras.models.Model(pre_trained_model.input,outputs)\r\n",
        "\r\n",
        "model.compile(loss = \"categorical_crossentropy\",optimizer = optimizers.SGD(lr=0.0001, momentum=0.8),metrics=[\"accuracy\"])"
      ],
      "execution_count": 8,
      "outputs": []
    },
    {
      "cell_type": "code",
      "metadata": {
        "colab": {
          "base_uri": "https://localhost:8080/"
        },
        "id": "yP4AdbLX1HUP",
        "outputId": "f3f8e53f-d3aa-471f-ca2c-2bb9c612cd9b"
      },
      "source": [
        "hist=model.fit(X_train,Y_train,\r\n",
        "                  batch_size=32,\r\n",
        "                  epochs=50,\r\n",
        "                  verbose=1,\r\n",
        "                  validation_data=(X_test, Y_test))"
      ],
      "execution_count": 9,
      "outputs": [
        {
          "output_type": "stream",
          "text": [
            "Epoch 1/50\n",
            "200/200 [==============================] - 148s 529ms/step - loss: 1.7870 - accuracy: 0.3010 - val_loss: 0.8472 - val_accuracy: 0.6625\n",
            "Epoch 2/50\n",
            "200/200 [==============================] - 109s 544ms/step - loss: 0.8673 - accuracy: 0.6409 - val_loss: 0.6253 - val_accuracy: 0.7362\n",
            "Epoch 3/50\n",
            "200/200 [==============================] - 109s 548ms/step - loss: 0.5630 - accuracy: 0.7693 - val_loss: 0.4739 - val_accuracy: 0.8031\n",
            "Epoch 4/50\n",
            "200/200 [==============================] - 110s 549ms/step - loss: 0.4562 - accuracy: 0.8160 - val_loss: 0.4183 - val_accuracy: 0.8294\n",
            "Epoch 5/50\n",
            "200/200 [==============================] - 110s 548ms/step - loss: 0.3783 - accuracy: 0.8486 - val_loss: 0.4089 - val_accuracy: 0.8369\n",
            "Epoch 6/50\n",
            "200/200 [==============================] - 110s 549ms/step - loss: 0.3241 - accuracy: 0.8678 - val_loss: 0.3676 - val_accuracy: 0.8619\n",
            "Epoch 7/50\n",
            "200/200 [==============================] - 110s 550ms/step - loss: 0.2780 - accuracy: 0.8908 - val_loss: 0.3313 - val_accuracy: 0.8719\n",
            "Epoch 8/50\n",
            "200/200 [==============================] - 110s 549ms/step - loss: 0.2588 - accuracy: 0.9008 - val_loss: 0.3147 - val_accuracy: 0.8731\n",
            "Epoch 9/50\n",
            "200/200 [==============================] - 110s 549ms/step - loss: 0.2248 - accuracy: 0.9141 - val_loss: 0.3074 - val_accuracy: 0.8775\n",
            "Epoch 10/50\n",
            "200/200 [==============================] - 110s 549ms/step - loss: 0.1952 - accuracy: 0.9280 - val_loss: 0.3261 - val_accuracy: 0.8662\n",
            "Epoch 11/50\n",
            "200/200 [==============================] - 110s 551ms/step - loss: 0.1828 - accuracy: 0.9264 - val_loss: 0.3381 - val_accuracy: 0.8775\n",
            "Epoch 12/50\n",
            "200/200 [==============================] - 110s 550ms/step - loss: 0.1751 - accuracy: 0.9299 - val_loss: 0.3301 - val_accuracy: 0.8794\n",
            "Epoch 13/50\n",
            "200/200 [==============================] - 110s 551ms/step - loss: 0.1528 - accuracy: 0.9379 - val_loss: 0.3354 - val_accuracy: 0.8775\n",
            "Epoch 14/50\n",
            "200/200 [==============================] - 110s 549ms/step - loss: 0.1478 - accuracy: 0.9408 - val_loss: 0.3278 - val_accuracy: 0.8794\n",
            "Epoch 15/50\n",
            "200/200 [==============================] - 110s 550ms/step - loss: 0.1254 - accuracy: 0.9510 - val_loss: 0.3610 - val_accuracy: 0.8800\n",
            "Epoch 16/50\n",
            "200/200 [==============================] - 110s 550ms/step - loss: 0.1230 - accuracy: 0.9564 - val_loss: 0.3508 - val_accuracy: 0.8800\n",
            "Epoch 17/50\n",
            "200/200 [==============================] - 110s 551ms/step - loss: 0.1128 - accuracy: 0.9561 - val_loss: 0.3571 - val_accuracy: 0.8731\n",
            "Epoch 18/50\n",
            "200/200 [==============================] - 110s 549ms/step - loss: 0.1122 - accuracy: 0.9579 - val_loss: 0.3735 - val_accuracy: 0.8744\n",
            "Epoch 19/50\n",
            "200/200 [==============================] - 110s 550ms/step - loss: 0.0813 - accuracy: 0.9689 - val_loss: 0.4004 - val_accuracy: 0.8763\n",
            "Epoch 20/50\n",
            "200/200 [==============================] - 110s 551ms/step - loss: 0.0809 - accuracy: 0.9694 - val_loss: 0.3374 - val_accuracy: 0.8869\n",
            "Epoch 21/50\n",
            "200/200 [==============================] - 110s 551ms/step - loss: 0.0672 - accuracy: 0.9767 - val_loss: 0.3697 - val_accuracy: 0.8819\n",
            "Epoch 22/50\n",
            "200/200 [==============================] - 110s 551ms/step - loss: 0.0668 - accuracy: 0.9767 - val_loss: 0.3812 - val_accuracy: 0.8819\n",
            "Epoch 23/50\n",
            "200/200 [==============================] - 110s 552ms/step - loss: 0.0685 - accuracy: 0.9774 - val_loss: 0.3971 - val_accuracy: 0.8869\n",
            "Epoch 24/50\n",
            "200/200 [==============================] - 110s 551ms/step - loss: 0.0645 - accuracy: 0.9770 - val_loss: 0.4020 - val_accuracy: 0.8756\n",
            "Epoch 25/50\n",
            "200/200 [==============================] - 110s 552ms/step - loss: 0.0579 - accuracy: 0.9808 - val_loss: 0.3910 - val_accuracy: 0.8819\n",
            "Epoch 26/50\n",
            "200/200 [==============================] - 110s 552ms/step - loss: 0.0465 - accuracy: 0.9835 - val_loss: 0.4265 - val_accuracy: 0.8794\n",
            "Epoch 27/50\n",
            "200/200 [==============================] - 110s 552ms/step - loss: 0.0406 - accuracy: 0.9870 - val_loss: 0.3997 - val_accuracy: 0.8831\n",
            "Epoch 28/50\n",
            "200/200 [==============================] - 110s 551ms/step - loss: 0.0443 - accuracy: 0.9837 - val_loss: 0.3947 - val_accuracy: 0.8894\n",
            "Epoch 29/50\n",
            "200/200 [==============================] - 110s 551ms/step - loss: 0.0347 - accuracy: 0.9893 - val_loss: 0.4005 - val_accuracy: 0.8838\n",
            "Epoch 30/50\n",
            "200/200 [==============================] - 111s 553ms/step - loss: 0.0375 - accuracy: 0.9885 - val_loss: 0.5079 - val_accuracy: 0.8662\n",
            "Epoch 31/50\n",
            "200/200 [==============================] - 111s 553ms/step - loss: 0.0493 - accuracy: 0.9835 - val_loss: 0.4292 - val_accuracy: 0.8881\n",
            "Epoch 32/50\n",
            "200/200 [==============================] - 111s 553ms/step - loss: 0.0279 - accuracy: 0.9910 - val_loss: 0.4327 - val_accuracy: 0.8950\n",
            "Epoch 33/50\n",
            "200/200 [==============================] - 110s 550ms/step - loss: 0.0247 - accuracy: 0.9936 - val_loss: 0.4186 - val_accuracy: 0.8856\n",
            "Epoch 34/50\n",
            "200/200 [==============================] - 110s 552ms/step - loss: 0.0274 - accuracy: 0.9906 - val_loss: 0.4641 - val_accuracy: 0.8763\n",
            "Epoch 35/50\n",
            "200/200 [==============================] - 111s 553ms/step - loss: 0.0233 - accuracy: 0.9937 - val_loss: 0.4694 - val_accuracy: 0.8856\n",
            "Epoch 36/50\n",
            "200/200 [==============================] - 111s 554ms/step - loss: 0.0256 - accuracy: 0.9923 - val_loss: 0.4090 - val_accuracy: 0.8900\n",
            "Epoch 37/50\n",
            "200/200 [==============================] - 110s 551ms/step - loss: 0.0172 - accuracy: 0.9957 - val_loss: 0.4811 - val_accuracy: 0.8856\n",
            "Epoch 38/50\n",
            "200/200 [==============================] - 110s 551ms/step - loss: 0.0204 - accuracy: 0.9933 - val_loss: 0.4606 - val_accuracy: 0.8875\n",
            "Epoch 39/50\n",
            "200/200 [==============================] - 110s 551ms/step - loss: 0.0167 - accuracy: 0.9941 - val_loss: 0.5236 - val_accuracy: 0.8806\n",
            "Epoch 40/50\n",
            "200/200 [==============================] - 110s 552ms/step - loss: 0.0226 - accuracy: 0.9921 - val_loss: 0.4947 - val_accuracy: 0.8863\n",
            "Epoch 41/50\n",
            "200/200 [==============================] - 111s 554ms/step - loss: 0.0156 - accuracy: 0.9961 - val_loss: 0.4828 - val_accuracy: 0.8938\n",
            "Epoch 42/50\n",
            "200/200 [==============================] - 110s 551ms/step - loss: 0.0214 - accuracy: 0.9949 - val_loss: 0.4814 - val_accuracy: 0.8838\n",
            "Epoch 43/50\n",
            "200/200 [==============================] - 110s 552ms/step - loss: 0.0111 - accuracy: 0.9982 - val_loss: 0.5059 - val_accuracy: 0.8906\n",
            "Epoch 44/50\n",
            "200/200 [==============================] - 110s 552ms/step - loss: 0.0084 - accuracy: 0.9989 - val_loss: 0.5171 - val_accuracy: 0.8888\n",
            "Epoch 45/50\n",
            "200/200 [==============================] - 111s 553ms/step - loss: 0.0093 - accuracy: 0.9980 - val_loss: 0.5006 - val_accuracy: 0.8881\n",
            "Epoch 46/50\n",
            "200/200 [==============================] - 110s 551ms/step - loss: 0.0124 - accuracy: 0.9968 - val_loss: 0.5029 - val_accuracy: 0.8863\n",
            "Epoch 47/50\n",
            "200/200 [==============================] - 110s 551ms/step - loss: 0.0110 - accuracy: 0.9965 - val_loss: 0.5538 - val_accuracy: 0.8888\n",
            "Epoch 48/50\n",
            "200/200 [==============================] - 110s 550ms/step - loss: 0.0151 - accuracy: 0.9965 - val_loss: 0.5092 - val_accuracy: 0.8881\n",
            "Epoch 49/50\n",
            "200/200 [==============================] - 110s 552ms/step - loss: 0.0123 - accuracy: 0.9962 - val_loss: 0.4926 - val_accuracy: 0.8913\n",
            "Epoch 50/50\n",
            "200/200 [==============================] - 110s 551ms/step - loss: 0.0096 - accuracy: 0.9987 - val_loss: 0.4926 - val_accuracy: 0.8875\n"
          ],
          "name": "stdout"
        }
      ]
    },
    {
      "cell_type": "code",
      "metadata": {
        "colab": {
          "base_uri": "https://localhost:8080/",
          "height": 298
        },
        "id": "surFDKLt1LHH",
        "outputId": "8fa7668e-1dd5-4eeb-e46b-f9ca8abecac1"
      },
      "source": [
        "model.save('vgg-19-weights.h5')\r\n",
        "\r\n",
        "epochs = range(len(hist.history['accuracy']))\r\n",
        "\r\n",
        "plt.plot(epochs, hist.history['accuracy'] , 'b', label='Training accuracy')\r\n",
        "plt.plot(epochs, hist.history['val_accuracy'] , 'g', label='Validation accuracy')\r\n",
        "\r\n",
        "plt.title('Training Accuracy Vs Validation Accuracy')\r\n",
        "plt.legend(loc=0)\r\n",
        "plt.figure()\r\n",
        "\r\n",
        "\r\n",
        "plt.show()"
      ],
      "execution_count": 10,
      "outputs": [
        {
          "output_type": "display_data",
          "data": {
            "image/png": "[encoded data removed]",
            "text/plain": [
              "<Figure size 432x288 with 1 Axes>"
            ]
          },
          "metadata": {
            "tags": [],
            "needs_background": "light"
          }
        },
        {
          "output_type": "display_data",
          "data": {
            "text/plain": [
              "<Figure size 432x288 with 0 Axes>"
            ]
          },
          "metadata": {
            "tags": []
          }
        }
      ]
    }
  ]
}